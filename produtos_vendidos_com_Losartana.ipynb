{
 "cells": [
  {
   "cell_type": "code",
   "execution_count": 1,
   "metadata": {
    "collapsed": true
   },
   "outputs": [],
   "source": [
    "# Produtos vendidos com Dorflex\n",
    "#\n",
    "# Analise a partir de arquivo .csv criado por Angelo\n",
    "#\n",
    "# Monica Barros\n",
    "# 05/09/2016\n"
   ]
  },
  {
   "cell_type": "code",
   "execution_count": null,
   "metadata": {
    "collapsed": true
   },
   "outputs": [],
   "source": []
  },
  {
   "cell_type": "code",
   "execution_count": 2,
   "metadata": {
    "collapsed": true
   },
   "outputs": [],
   "source": [
    "## Importações variadas\n",
    "%matplotlib inline\n",
    "import numpy as np\n",
    "import pandas as pd\n",
    "import matplotlib.pyplot as plt\n",
    "import matplotlib as mpl\n",
    "import os\n",
    "\n",
    "\n",
    "# from scipy import optimize\n",
    "#from scipy.optimize import curve_fit\n",
    "#from scipy.optimize import leastsq\n",
    "from scipy.optimize import *"
   ]
  },
  {
   "cell_type": "code",
   "execution_count": 3,
   "metadata": {},
   "outputs": [
    {
     "name": "stdout",
     "output_type": "stream",
     "text": [
      "Versão Pandas          0.18.1\n",
      "Versão Numpy           1.11.1\n",
      "Versão MatplotLib      1.5.1\n"
     ]
    }
   ],
   "source": [
    "# Identificar quais versões dos módulos principais estão sendo usadas\n",
    "print \"Versão Pandas          \" +str(pd.__version__)\n",
    "print \"Versão Numpy           \" + str(np.__version__)\n",
    "print \"Versão MatplotLib      \" + str(mpl.__version__)"
   ]
  },
  {
   "cell_type": "code",
   "execution_count": 61,
   "metadata": {},
   "outputs": [],
   "source": [
    "os.chdir('C:\\\\Users\\\\Monica\\\\Dropbox\\\\a2i2_flashfarma\\\\Scripts')"
   ]
  },
  {
   "cell_type": "code",
   "execution_count": 62,
   "metadata": {},
   "outputs": [
    {
     "data": {
      "text/plain": [
       "'C:\\\\Users\\\\Monica\\\\Dropbox\\\\a2i2_flashfarma\\\\Scripts'"
      ]
     },
     "execution_count": 62,
     "metadata": {},
     "output_type": "execute_result"
    }
   ],
   "source": [
    "# Mostra o diretório atual\n",
    "os.getcwd()"
   ]
  },
  {
   "cell_type": "code",
   "execution_count": 67,
   "metadata": {},
   "outputs": [
    {
     "name": "stdout",
     "output_type": "stream",
     "text": [
      "best_sellers_todas_categorias_juntas_20160715.csv\n",
      "best_sellers_todas_categorias_juntas_20160718.csv\n",
      "frequencias_produtos_vendidos_junto_com_Dorflex_20160715.csv\n",
      "frequencias_produtos_vendidos_junto_com_Losartana_20160715.csv\n",
      "frequencias_produtos_vendidos_junto_com_Neosoro_20160715.csv\n",
      "paracetamol_not_unique.csv\n",
      "paracetamol_unique.csv\n",
      "tbl_categoria_produto.csv\n",
      "tbl_curva_abc.csv\n",
      "tbl_curva_abc_faturamento_loja_1.csv\n",
      "tbl_curva_abc_faturamento_loja_2.csv\n",
      "tbl_curva_abc_faturamento_loja_3.csv\n",
      "tbl_flash_vendas_mv.csv\n",
      "tbl_itemvenda.csv\n",
      "tbl_mais_vendidos_com_choc_e_bala_2015.csv\n",
      "tbl_principioativo.csv\n",
      "tbl_produto.csv\n",
      "tbl_venda.csv\n",
      "tbl_vendas_paracetamol_e_acetilsalic_2014_e_2015.csv\n",
      "tbl_vendidos_com_paracetamol_e_acetilsalic_2014_e_2015.csv\n"
     ]
    }
   ],
   "source": [
    "### leitura dos dados - mudar o diretório quando necessário\n",
    "### Lista todos os arquivos .csv do diretorio corrente\n",
    "\n",
    "for lista_arquivo in [f for f in os.listdir(os.getcwd()) if f.endswith('.csv')]:\n",
    "    print lista_arquivo"
   ]
  },
  {
   "cell_type": "code",
   "execution_count": 69,
   "metadata": {},
   "outputs": [
    {
     "name": "stdout",
     "output_type": "stream",
     "text": [
      "Nome do arquivo (sem .csv)   frequencias_produtos_vendidos_junto_com_Losartana_20160715\n"
     ]
    }
   ],
   "source": [
    "### A partir da lista acima, seleciona um arquivo\n",
    "\n",
    "### Note que o separador é, neste caso \",\"\n",
    "## df = pd.read_csv('C://Users//Monica//Dropbox//a2i2_flashfarma//Scripts//frequencias_produtos_vendidos_junto_com_Dorflex_20160715.csv', sep = ',')\n",
    "nome_arquivo =raw_input(\"Nome do arquivo (sem .csv)   \")"
   ]
  },
  {
   "cell_type": "code",
   "execution_count": 70,
   "metadata": {},
   "outputs": [
    {
     "name": "stdout",
     "output_type": "stream",
     "text": [
      "frequencias_produtos_vendidos_junto_com_Losartana_20160715.csv\n"
     ]
    }
   ],
   "source": [
    "nome_arquivo_csv = nome_arquivo+str(\".csv\")\n",
    "print nome_arquivo_csv"
   ]
  },
  {
   "cell_type": "code",
   "execution_count": 74,
   "metadata": {
    "scrolled": true
   },
   "outputs": [],
   "source": [
    "#Leitura do dataframe a partir do arquivo selecionado\n",
    "df = pd.read_csv(os.getcwd()+str('\\\\')+nome_arquivo_csv, sep = ',')"
   ]
  },
  {
   "cell_type": "code",
   "execution_count": 75,
   "metadata": {},
   "outputs": [
    {
     "data": {
      "text/plain": [
       "(243, 5)"
      ]
     },
     "execution_count": 75,
     "metadata": {},
     "output_type": "execute_result"
    }
   ],
   "source": [
    "(rows, cols) = df.shape\n",
    "(rows, cols)"
   ]
  },
  {
   "cell_type": "code",
   "execution_count": 76,
   "metadata": {},
   "outputs": [
    {
     "data": {
      "text/html": [
       "<div>\n",
       "<table border=\"1\" class=\"dataframe\">\n",
       "  <thead>\n",
       "    <tr style=\"text-align: right;\">\n",
       "      <th></th>\n",
       "      <th>idProduto</th>\n",
       "      <th>nome</th>\n",
       "      <th>fabricante</th>\n",
       "      <th>categoria</th>\n",
       "      <th>frequencia</th>\n",
       "    </tr>\n",
       "  </thead>\n",
       "  <tbody>\n",
       "    <tr>\n",
       "      <th>0</th>\n",
       "      <td>7898148301720</td>\n",
       "      <td>LOSARTANA POTASSICA 50mg cx 30 comp rev</td>\n",
       "      <td>PRATI, DONADUZZI</td>\n",
       "      <td>8</td>\n",
       "      <td>1816</td>\n",
       "    </tr>\n",
       "    <tr>\n",
       "      <th>1</th>\n",
       "      <td>7896112165651</td>\n",
       "      <td>HIDROCLOROTIAZIDA 25mg cx 30 comp</td>\n",
       "      <td>TEUTO</td>\n",
       "      <td>8</td>\n",
       "      <td>461</td>\n",
       "    </tr>\n",
       "    <tr>\n",
       "      <th>2</th>\n",
       "      <td>7897595602572</td>\n",
       "      <td>ATENOLOL 25mg cx 30 comp rev</td>\n",
       "      <td>SANDOZ</td>\n",
       "      <td>8</td>\n",
       "      <td>447</td>\n",
       "    </tr>\n",
       "    <tr>\n",
       "      <th>3</th>\n",
       "      <td>7896523215235</td>\n",
       "      <td>FP SINVASTATINA 20MG 30CPR CIMED</td>\n",
       "      <td>CIMED</td>\n",
       "      <td>6</td>\n",
       "      <td>201</td>\n",
       "    </tr>\n",
       "    <tr>\n",
       "      <th>4</th>\n",
       "      <td>7891721027468</td>\n",
       "      <td>GLIFAGE XR 500mg cx 30 comp</td>\n",
       "      <td>MERCK</td>\n",
       "      <td>6</td>\n",
       "      <td>152</td>\n",
       "    </tr>\n",
       "  </tbody>\n",
       "</table>\n",
       "</div>"
      ],
      "text/plain": [
       "       idProduto                                     nome        fabricante  \\\n",
       "0  7898148301720  LOSARTANA POTASSICA 50mg cx 30 comp rev  PRATI, DONADUZZI   \n",
       "1  7896112165651        HIDROCLOROTIAZIDA 25mg cx 30 comp             TEUTO   \n",
       "2  7897595602572             ATENOLOL 25mg cx 30 comp rev            SANDOZ   \n",
       "3  7896523215235         FP SINVASTATINA 20MG 30CPR CIMED             CIMED   \n",
       "4  7891721027468              GLIFAGE XR 500mg cx 30 comp             MERCK   \n",
       "\n",
       "   categoria  frequencia  \n",
       "0          8        1816  \n",
       "1          8         461  \n",
       "2          8         447  \n",
       "3          6         201  \n",
       "4          6         152  "
      ]
     },
     "execution_count": 76,
     "metadata": {},
     "output_type": "execute_result"
    }
   ],
   "source": [
    "df.head()"
   ]
  },
  {
   "cell_type": "code",
   "execution_count": 77,
   "metadata": {},
   "outputs": [
    {
     "data": {
      "text/html": [
       "<div>\n",
       "<table border=\"1\" class=\"dataframe\">\n",
       "  <thead>\n",
       "    <tr style=\"text-align: right;\">\n",
       "      <th></th>\n",
       "      <th>idProduto</th>\n",
       "      <th>nome</th>\n",
       "      <th>fabricante</th>\n",
       "      <th>categoria</th>\n",
       "      <th>frequencia</th>\n",
       "    </tr>\n",
       "  </thead>\n",
       "  <tbody>\n",
       "    <tr>\n",
       "      <th>238</th>\n",
       "      <td>7891721020193</td>\n",
       "      <td>LEVOTIROXINA SODICA 175mcg cx 30 comp</td>\n",
       "      <td>MERCK</td>\n",
       "      <td>8</td>\n",
       "      <td>1</td>\n",
       "    </tr>\n",
       "    <tr>\n",
       "      <th>239</th>\n",
       "      <td>340525</td>\n",
       "      <td>ESM KI COR (DIVERSOS)</td>\n",
       "      <td>KI COR</td>\n",
       "      <td>3</td>\n",
       "      <td>1</td>\n",
       "    </tr>\n",
       "    <tr>\n",
       "      <th>240</th>\n",
       "      <td>7891024114773</td>\n",
       "      <td>SAB PROTEX 90G ERVA DOCE</td>\n",
       "      <td>COLGATE</td>\n",
       "      <td>3</td>\n",
       "      <td>1</td>\n",
       "    </tr>\n",
       "    <tr>\n",
       "      <th>241</th>\n",
       "      <td>7891035912818</td>\n",
       "      <td>DEPIL VEET FOLHAS FACIAL PELE DELIC 12UN</td>\n",
       "      <td>RECKITT HIGIENE BEL</td>\n",
       "      <td>3</td>\n",
       "      <td>1</td>\n",
       "    </tr>\n",
       "    <tr>\n",
       "      <th>242</th>\n",
       "      <td>7891150041646</td>\n",
       "      <td>COND TRESEMME DETOX CAPILAR 400ML</td>\n",
       "      <td>UNILEVER</td>\n",
       "      <td>18</td>\n",
       "      <td>1</td>\n",
       "    </tr>\n",
       "  </tbody>\n",
       "</table>\n",
       "</div>"
      ],
      "text/plain": [
       "         idProduto                                      nome  \\\n",
       "238  7891721020193     LEVOTIROXINA SODICA 175mcg cx 30 comp   \n",
       "239         340525                     ESM KI COR (DIVERSOS)   \n",
       "240  7891024114773                  SAB PROTEX 90G ERVA DOCE   \n",
       "241  7891035912818  DEPIL VEET FOLHAS FACIAL PELE DELIC 12UN   \n",
       "242  7891150041646         COND TRESEMME DETOX CAPILAR 400ML   \n",
       "\n",
       "              fabricante  categoria  frequencia  \n",
       "238                MERCK          8           1  \n",
       "239               KI COR          3           1  \n",
       "240              COLGATE          3           1  \n",
       "241  RECKITT HIGIENE BEL          3           1  \n",
       "242             UNILEVER         18           1  "
      ]
     },
     "execution_count": 77,
     "metadata": {},
     "output_type": "execute_result"
    }
   ],
   "source": [
    "df.tail()"
   ]
  },
  {
   "cell_type": "code",
   "execution_count": 8,
   "metadata": {},
   "outputs": [],
   "source": [
    "# Identifica um produto na dataframe  por seu codigo de barras\n",
    "# df.loc[df['idProduto'] == 340525]"
   ]
  },
  {
   "cell_type": "code",
   "execution_count": 84,
   "metadata": {},
   "outputs": [],
   "source": [
    "# grouped = df.groupby('idProduto').count().reset_index() "
   ]
  },
  {
   "cell_type": "code",
   "execution_count": 80,
   "metadata": {},
   "outputs": [],
   "source": [
    "# Cria nova data frame, de produtos agregados por frequencia, em ordem descrescente - note o reset index para que a 1a coluna contenha os nomes\n",
    "# grouped=df.groupby([\"nome\", \"idProduto\"]).agg({\"idNotaVenda\": pd.Series.nunique}).sort_values('idNotaVenda', ascending=False).reset_index() \n",
    "\n",
    "# No caso dos produtos vendidos com Losartana, já estão agrupados\n",
    "# E mostrados em ordem decrescente de frequencias\n"
   ]
  },
  {
   "cell_type": "code",
   "execution_count": 85,
   "metadata": {},
   "outputs": [
    {
     "data": {
      "text/plain": [
       "(243, 5)"
      ]
     },
     "execution_count": 85,
     "metadata": {},
     "output_type": "execute_result"
    }
   ],
   "source": [
    "#grouped.shape"
   ]
  },
  {
   "cell_type": "code",
   "execution_count": 82,
   "metadata": {},
   "outputs": [
    {
     "data": {
      "text/plain": [
       "pandas.core.frame.DataFrame"
      ]
     },
     "execution_count": 82,
     "metadata": {},
     "output_type": "execute_result"
    }
   ],
   "source": [
    "#type(grouped)"
   ]
  },
  {
   "cell_type": "code",
   "execution_count": 89,
   "metadata": {},
   "outputs": [],
   "source": [
    "#grouped.head(10)"
   ]
  },
  {
   "cell_type": "code",
   "execution_count": 90,
   "metadata": {
    "collapsed": true
   },
   "outputs": [],
   "source": [
    "tt=df.sort_values('frequencia', ascending = False)"
   ]
  },
  {
   "cell_type": "code",
   "execution_count": 91,
   "metadata": {},
   "outputs": [
    {
     "data": {
      "text/html": [
       "<div>\n",
       "<table border=\"1\" class=\"dataframe\">\n",
       "  <thead>\n",
       "    <tr style=\"text-align: right;\">\n",
       "      <th></th>\n",
       "      <th>idProduto</th>\n",
       "      <th>nome</th>\n",
       "      <th>fabricante</th>\n",
       "      <th>categoria</th>\n",
       "      <th>frequencia</th>\n",
       "    </tr>\n",
       "  </thead>\n",
       "  <tbody>\n",
       "    <tr>\n",
       "      <th>0</th>\n",
       "      <td>7898148301720</td>\n",
       "      <td>LOSARTANA POTASSICA 50mg cx 30 comp rev</td>\n",
       "      <td>PRATI, DONADUZZI</td>\n",
       "      <td>8</td>\n",
       "      <td>1816</td>\n",
       "    </tr>\n",
       "    <tr>\n",
       "      <th>1</th>\n",
       "      <td>7896112165651</td>\n",
       "      <td>HIDROCLOROTIAZIDA 25mg cx 30 comp</td>\n",
       "      <td>TEUTO</td>\n",
       "      <td>8</td>\n",
       "      <td>461</td>\n",
       "    </tr>\n",
       "    <tr>\n",
       "      <th>2</th>\n",
       "      <td>7897595602572</td>\n",
       "      <td>ATENOLOL 25mg cx 30 comp rev</td>\n",
       "      <td>SANDOZ</td>\n",
       "      <td>8</td>\n",
       "      <td>447</td>\n",
       "    </tr>\n",
       "    <tr>\n",
       "      <th>3</th>\n",
       "      <td>7896523215235</td>\n",
       "      <td>FP SINVASTATINA 20MG 30CPR CIMED</td>\n",
       "      <td>CIMED</td>\n",
       "      <td>6</td>\n",
       "      <td>201</td>\n",
       "    </tr>\n",
       "    <tr>\n",
       "      <th>4</th>\n",
       "      <td>7891721027468</td>\n",
       "      <td>GLIFAGE XR 500mg cx 30 comp</td>\n",
       "      <td>MERCK</td>\n",
       "      <td>6</td>\n",
       "      <td>152</td>\n",
       "    </tr>\n",
       "  </tbody>\n",
       "</table>\n",
       "</div>"
      ],
      "text/plain": [
       "       idProduto                                     nome        fabricante  \\\n",
       "0  7898148301720  LOSARTANA POTASSICA 50mg cx 30 comp rev  PRATI, DONADUZZI   \n",
       "1  7896112165651        HIDROCLOROTIAZIDA 25mg cx 30 comp             TEUTO   \n",
       "2  7897595602572             ATENOLOL 25mg cx 30 comp rev            SANDOZ   \n",
       "3  7896523215235         FP SINVASTATINA 20MG 30CPR CIMED             CIMED   \n",
       "4  7891721027468              GLIFAGE XR 500mg cx 30 comp             MERCK   \n",
       "\n",
       "   categoria  frequencia  \n",
       "0          8        1816  \n",
       "1          8         461  \n",
       "2          8         447  \n",
       "3          6         201  \n",
       "4          6         152  "
      ]
     },
     "execution_count": 91,
     "metadata": {},
     "output_type": "execute_result"
    }
   ],
   "source": [
    "tt.head()"
   ]
  },
  {
   "cell_type": "code",
   "execution_count": 120,
   "metadata": {},
   "outputs": [
    {
     "data": {
      "text/html": [
       "<div>\n",
       "<table border=\"1\" class=\"dataframe\">\n",
       "  <thead>\n",
       "    <tr style=\"text-align: right;\">\n",
       "      <th></th>\n",
       "      <th>idProduto</th>\n",
       "      <th>nome</th>\n",
       "      <th>fabricante</th>\n",
       "      <th>categoria</th>\n",
       "      <th>frequencia</th>\n",
       "    </tr>\n",
       "  </thead>\n",
       "  <tbody>\n",
       "    <tr>\n",
       "      <th>0</th>\n",
       "      <td>7898148301720</td>\n",
       "      <td>LOSARTANA POTASSICA 50mg cx 30 comp rev</td>\n",
       "      <td>PRATI, DONADUZZI</td>\n",
       "      <td>8</td>\n",
       "      <td>1816</td>\n",
       "    </tr>\n",
       "    <tr>\n",
       "      <th>1</th>\n",
       "      <td>7896112165651</td>\n",
       "      <td>HIDROCLOROTIAZIDA 25mg cx 30 comp</td>\n",
       "      <td>TEUTO</td>\n",
       "      <td>8</td>\n",
       "      <td>461</td>\n",
       "    </tr>\n",
       "    <tr>\n",
       "      <th>2</th>\n",
       "      <td>7897595602572</td>\n",
       "      <td>ATENOLOL 25mg cx 30 comp rev</td>\n",
       "      <td>SANDOZ</td>\n",
       "      <td>8</td>\n",
       "      <td>447</td>\n",
       "    </tr>\n",
       "    <tr>\n",
       "      <th>3</th>\n",
       "      <td>7896523215235</td>\n",
       "      <td>FP SINVASTATINA 20MG 30CPR CIMED</td>\n",
       "      <td>CIMED</td>\n",
       "      <td>6</td>\n",
       "      <td>201</td>\n",
       "    </tr>\n",
       "    <tr>\n",
       "      <th>4</th>\n",
       "      <td>7891721027468</td>\n",
       "      <td>GLIFAGE XR 500mg cx 30 comp</td>\n",
       "      <td>MERCK</td>\n",
       "      <td>6</td>\n",
       "      <td>152</td>\n",
       "    </tr>\n",
       "    <tr>\n",
       "      <th>5</th>\n",
       "      <td>7898148291298</td>\n",
       "      <td>CLORIDRATO DE METFORMINA 850mg cx 30 comp rev</td>\n",
       "      <td>PRATI, DONADUZZI</td>\n",
       "      <td>8</td>\n",
       "      <td>142</td>\n",
       "    </tr>\n",
       "    <tr>\n",
       "      <th>6</th>\n",
       "      <td>7896523210070</td>\n",
       "      <td>HIDROCLOROTIAZIDA 25mg cx 3bl x 10 comp</td>\n",
       "      <td>CIMED</td>\n",
       "      <td>8</td>\n",
       "      <td>142</td>\n",
       "    </tr>\n",
       "    <tr>\n",
       "      <th>7</th>\n",
       "      <td>7898148297269</td>\n",
       "      <td>GLIBENCLAMIDA 5mg cx 30 comp</td>\n",
       "      <td>PRATI, DONADUZZI</td>\n",
       "      <td>8</td>\n",
       "      <td>63</td>\n",
       "    </tr>\n",
       "  </tbody>\n",
       "</table>\n",
       "</div>"
      ],
      "text/plain": [
       "       idProduto                                           nome  \\\n",
       "0  7898148301720        LOSARTANA POTASSICA 50mg cx 30 comp rev   \n",
       "1  7896112165651              HIDROCLOROTIAZIDA 25mg cx 30 comp   \n",
       "2  7897595602572                   ATENOLOL 25mg cx 30 comp rev   \n",
       "3  7896523215235               FP SINVASTATINA 20MG 30CPR CIMED   \n",
       "4  7891721027468                    GLIFAGE XR 500mg cx 30 comp   \n",
       "5  7898148291298  CLORIDRATO DE METFORMINA 850mg cx 30 comp rev   \n",
       "6  7896523210070        HIDROCLOROTIAZIDA 25mg cx 3bl x 10 comp   \n",
       "7  7898148297269                   GLIBENCLAMIDA 5mg cx 30 comp   \n",
       "\n",
       "         fabricante  categoria  frequencia  \n",
       "0  PRATI, DONADUZZI          8        1816  \n",
       "1             TEUTO          8         461  \n",
       "2            SANDOZ          8         447  \n",
       "3             CIMED          6         201  \n",
       "4             MERCK          6         152  \n",
       "5  PRATI, DONADUZZI          8         142  \n",
       "6             CIMED          8         142  \n",
       "7  PRATI, DONADUZZI          8          63  "
      ]
     },
     "execution_count": 120,
     "metadata": {},
     "output_type": "execute_result"
    }
   ],
   "source": [
    "# Produtos ordenados e de alta frequencia (>50)\n",
    "tt[tt['frequencia']>50]"
   ]
  },
  {
   "cell_type": "code",
   "execution_count": 101,
   "metadata": {},
   "outputs": [
    {
     "data": {
      "image/png": "[encoded data removed]",
      "text/plain": [
       "<matplotlib.figure.Figure at 0xd071c50>"
      ]
     },
     "metadata": {},
     "output_type": "display_data"
    }
   ],
   "source": [
    "# Histograma dos 50 primeiros produtos \n",
    "# COMPARE COM LIGEIRAMENTE DIFERENTE NA CELULA ABAIXO\n",
    "\n",
    "\n",
    "## ???? veja a escala - numero de ocorrencias daquele nome??\n",
    "\n",
    "fig, ax = plt.subplots()\n",
    "df['nome'].value_counts()[:50].plot(kind='barh', ax=ax, title = 'Histograma', figsize = (15,10), color = 'red', sort_columns = True)\n",
    "# Eixo invertido - maior frequencia primeiro\n",
    "ax.invert_yaxis()\n",
    "# ax.legend(df['nome'][:50])"
   ]
  },
  {
   "cell_type": "code",
   "execution_count": 102,
   "metadata": {},
   "outputs": [
    {
     "data": {
      "image/png": "[encoded data removed]",
      "text/plain": [
       "<matplotlib.figure.Figure at 0xd54c160>"
      ]
     },
     "metadata": {},
     "output_type": "display_data"
    }
   ],
   "source": [
    "# COMO COLOCAR O NOME DO PRODUTO NO EIXO?\n",
    "fig, ax = plt.subplots()\n",
    "df['frequencia'].value_counts()[:50].plot(kind='barh', ax=ax, title = 'Histograma', figsize = (15,10), color = 'red', sort_columns = True)\n",
    "# Eixo invertido - maior frequencia primeiro\n",
    "ax.invert_yaxis()\n",
    "# ax.legend(df['nome'][:50])"
   ]
  },
  {
   "cell_type": "code",
   "execution_count": 117,
   "metadata": {},
   "outputs": [
    {
     "data": {
      "text/plain": [
       "<matplotlib.axes._subplots.AxesSubplot at 0x2e926da0>"
      ]
     },
     "execution_count": 117,
     "metadata": {},
     "output_type": "execute_result"
    },
    {
     "data": {
      "image/png": "[encoded data removed]",
      "text/plain": [
       "<matplotlib.figure.Figure at 0x2e9c0c50>"
      ]
     },
     "metadata": {},
     "output_type": "display_data"
    }
   ],
   "source": [
    "plt.figure()\n",
    "#fig, ax = plt.subplots()\n",
    "df['frequencia'][df['frequencia']>1].plot.hist(by=df['nome'], orientation = 'horizontal')"
   ]
  },
  {
   "cell_type": "code",
   "execution_count": 94,
   "metadata": {},
   "outputs": [
    {
     "data": {
      "image/png": "[encoded data removed]",
      "text/plain": [
       "<matplotlib.figure.Figure at 0xa6fd2e8>"
      ]
     },
     "metadata": {},
     "output_type": "display_data"
    }
   ],
   "source": [
    "#  NOTE QUE ESTE GRAFICO NAO MOSTRA A MESMA COISA QUE O ACIMA\n",
    "# POR EXEMPLO, MOSTRA QUE QUASE 180 PRODUTOS APARECEM 2 VEZES (EM 2 idNotaVenda), QUASE 70 APARECEM 3 VEZES, ..., E UM PRODUTO OCORRE 1950 VEZES \n",
    "fig, ax = plt.subplots()\n",
    "grouped['idNotaVenda'].value_counts()[1:50].plot(kind='barh', ax=ax, title = 'Histograma', figsize = (15,6))\n",
    "ax.invert_yaxis()\n",
    "#ax.legend(grouped[\"nome\"][1:50]);"
   ]
  },
  {
   "cell_type": "code",
   "execution_count": 16,
   "metadata": {},
   "outputs": [
    {
     "name": "stdout",
     "output_type": "stream",
     "text": [
      "Número de produtos únicos (pelo nome):   1119\n"
     ]
    }
   ],
   "source": [
    "# Número de nomes únicos (não concorda com a saída do groupby!!, onde grouped tinha 1123 linhas)\n",
    "# ==============================================================================================\n",
    "print(\"Número de produtos únicos (pelo nome):   \" +str(df.loc[:, 'nome'].nunique()))"
   ]
  },
  {
   "cell_type": "code",
   "execution_count": 17,
   "metadata": {},
   "outputs": [
    {
     "data": {
      "text/plain": [
       "count                4329\n",
       "unique               1119\n",
       "top       DORFLEX 10 COMP\n",
       "freq                 1950\n",
       "Name: nome, dtype: object"
      ]
     },
     "execution_count": 17,
     "metadata": {},
     "output_type": "execute_result"
    }
   ],
   "source": [
    "# Estatísticas básicas\n",
    "df.loc[:, 'nome'].describe()"
   ]
  },
  {
   "cell_type": "code",
   "execution_count": 18,
   "metadata": {},
   "outputs": [
    {
     "data": {
      "text/plain": [
       "['T',\n",
       " '_AXIS_ALIASES',\n",
       " '_AXIS_IALIASES',\n",
       " '_AXIS_LEN',\n",
       " '_AXIS_NAMES',\n",
       " '_AXIS_NUMBERS',\n",
       " '_AXIS_ORDERS',\n",
       " '_AXIS_REVERSED',\n",
       " '_AXIS_SLICEMAP',\n",
       " '__abs__',\n",
       " '__add__',\n",
       " '__and__',\n",
       " '__array__',\n",
       " '__array_wrap__',\n",
       " '__bool__',\n",
       " '__bytes__',\n",
       " '__class__',\n",
       " '__contains__',\n",
       " '__delattr__',\n",
       " '__delitem__',\n",
       " '__dict__',\n",
       " '__dir__',\n",
       " '__div__',\n",
       " '__doc__',\n",
       " '__eq__',\n",
       " '__finalize__',\n",
       " '__floordiv__',\n",
       " '__format__',\n",
       " '__ge__',\n",
       " '__getattr__',\n",
       " '__getattribute__',\n",
       " '__getitem__',\n",
       " '__getstate__',\n",
       " '__gt__',\n",
       " '__hash__',\n",
       " '__iadd__',\n",
       " '__idiv__',\n",
       " '__imul__',\n",
       " '__init__',\n",
       " '__invert__',\n",
       " '__ipow__',\n",
       " '__isub__',\n",
       " '__iter__',\n",
       " '__itruediv__',\n",
       " '__le__',\n",
       " '__len__',\n",
       " '__lt__',\n",
       " '__mod__',\n",
       " '__module__',\n",
       " '__mul__',\n",
       " '__ne__',\n",
       " '__neg__',\n",
       " '__new__',\n",
       " '__nonzero__',\n",
       " '__or__',\n",
       " '__pow__',\n",
       " '__radd__',\n",
       " '__rand__',\n",
       " '__rdiv__',\n",
       " '__reduce__',\n",
       " '__reduce_ex__',\n",
       " '__repr__',\n",
       " '__rfloordiv__',\n",
       " '__rmod__',\n",
       " '__rmul__',\n",
       " '__ror__',\n",
       " '__round__',\n",
       " '__rpow__',\n",
       " '__rsub__',\n",
       " '__rtruediv__',\n",
       " '__rxor__',\n",
       " '__setattr__',\n",
       " '__setitem__',\n",
       " '__setstate__',\n",
       " '__sizeof__',\n",
       " '__str__',\n",
       " '__sub__',\n",
       " '__subclasshook__',\n",
       " '__truediv__',\n",
       " '__unicode__',\n",
       " '__weakref__',\n",
       " '__xor__',\n",
       " '_accessors',\n",
       " '_add_numeric_operations',\n",
       " '_add_series_only_operations',\n",
       " '_add_series_or_dataframe_operations',\n",
       " '_agg_by_level',\n",
       " '_align_frame',\n",
       " '_align_series',\n",
       " '_apply_broadcast',\n",
       " '_apply_empty_result',\n",
       " '_apply_raw',\n",
       " '_apply_standard',\n",
       " '_at',\n",
       " '_box_col_values',\n",
       " '_box_item_values',\n",
       " '_check_inplace_setting',\n",
       " '_check_is_chained_assignment_possible',\n",
       " '_check_percentile',\n",
       " '_check_setitem_copy',\n",
       " '_clear_item_cache',\n",
       " '_combine_const',\n",
       " '_combine_frame',\n",
       " '_combine_match_columns',\n",
       " '_combine_match_index',\n",
       " '_combine_series',\n",
       " '_combine_series_infer',\n",
       " '_compare_frame',\n",
       " '_compare_frame_evaluate',\n",
       " '_consolidate_inplace',\n",
       " '_construct_axes_dict',\n",
       " '_construct_axes_dict_for_slice',\n",
       " '_construct_axes_dict_from',\n",
       " '_construct_axes_from_arguments',\n",
       " '_constructor',\n",
       " '_constructor_expanddim',\n",
       " '_constructor_sliced',\n",
       " '_convert',\n",
       " '_count_level',\n",
       " '_create_indexer',\n",
       " '_dir_additions',\n",
       " '_dir_deletions',\n",
       " '_ensure_valid_index',\n",
       " '_expand_axes',\n",
       " '_flex_compare_frame',\n",
       " '_from_arrays',\n",
       " '_from_axes',\n",
       " '_get_agg_axis',\n",
       " '_get_axis',\n",
       " '_get_axis_name',\n",
       " '_get_axis_number',\n",
       " '_get_axis_resolvers',\n",
       " '_get_block_manager_axis',\n",
       " '_get_bool_data',\n",
       " '_get_cacher',\n",
       " '_get_index_resolvers',\n",
       " '_get_item_cache',\n",
       " '_get_numeric_data',\n",
       " '_get_values',\n",
       " '_getitem_array',\n",
       " '_getitem_column',\n",
       " '_getitem_frame',\n",
       " '_getitem_multilevel',\n",
       " '_getitem_slice',\n",
       " '_iat',\n",
       " '_iget_item_cache',\n",
       " '_iloc',\n",
       " '_indexed_same',\n",
       " '_info_axis',\n",
       " '_info_axis_name',\n",
       " '_info_axis_number',\n",
       " '_info_repr',\n",
       " '_init_dict',\n",
       " '_init_mgr',\n",
       " '_init_ndarray',\n",
       " '_internal_names',\n",
       " '_internal_names_set',\n",
       " '_is_cached',\n",
       " '_is_datelike_mixed_type',\n",
       " '_is_mixed_type',\n",
       " '_is_numeric_mixed_type',\n",
       " '_is_view',\n",
       " '_ix',\n",
       " '_ixs',\n",
       " '_join_compat',\n",
       " '_loc',\n",
       " '_maybe_cache_changed',\n",
       " '_maybe_update_cacher',\n",
       " '_metadata',\n",
       " '_needs_reindex_multi',\n",
       " '_nsorted',\n",
       " '_protect_consolidate',\n",
       " '_reduce',\n",
       " '_reindex_axes',\n",
       " '_reindex_axis',\n",
       " '_reindex_columns',\n",
       " '_reindex_index',\n",
       " '_reindex_multi',\n",
       " '_reindex_with_indexers',\n",
       " '_repr_fits_horizontal_',\n",
       " '_repr_fits_vertical_',\n",
       " '_repr_html_',\n",
       " '_repr_latex_',\n",
       " '_reset_cache',\n",
       " '_reset_cacher',\n",
       " '_sanitize_column',\n",
       " '_series',\n",
       " '_set_as_cached',\n",
       " '_set_axis',\n",
       " '_set_axis_name',\n",
       " '_set_is_copy',\n",
       " '_set_item',\n",
       " '_setitem_array',\n",
       " '_setitem_frame',\n",
       " '_setitem_slice',\n",
       " '_setup_axes',\n",
       " '_slice',\n",
       " '_stat_axis',\n",
       " '_stat_axis_name',\n",
       " '_stat_axis_number',\n",
       " '_typ',\n",
       " '_unpickle_frame_compat',\n",
       " '_unpickle_matrix_compat',\n",
       " '_update_inplace',\n",
       " '_validate_dtype',\n",
       " '_values',\n",
       " '_xs',\n",
       " 'abs',\n",
       " 'add',\n",
       " 'add_prefix',\n",
       " 'add_suffix',\n",
       " 'align',\n",
       " 'all',\n",
       " 'any',\n",
       " 'append',\n",
       " 'apply',\n",
       " 'applymap',\n",
       " 'as_blocks',\n",
       " 'as_matrix',\n",
       " 'asfreq',\n",
       " 'assign',\n",
       " 'astype',\n",
       " 'at',\n",
       " 'at_time',\n",
       " 'axes',\n",
       " 'between_time',\n",
       " 'bfill',\n",
       " 'blocks',\n",
       " 'bool',\n",
       " 'boxplot',\n",
       " 'clip',\n",
       " 'clip_lower',\n",
       " 'clip_upper',\n",
       " 'columns',\n",
       " 'combine',\n",
       " 'combineAdd',\n",
       " 'combineMult',\n",
       " 'combine_first',\n",
       " 'compound',\n",
       " 'consolidate',\n",
       " 'convert_objects',\n",
       " 'copy',\n",
       " 'corr',\n",
       " 'corrwith',\n",
       " 'count',\n",
       " 'cov',\n",
       " 'cummax',\n",
       " 'cummin',\n",
       " 'cumprod',\n",
       " 'cumsum',\n",
       " 'describe',\n",
       " 'diff',\n",
       " 'div',\n",
       " 'divide',\n",
       " 'dot',\n",
       " 'drop',\n",
       " 'drop_duplicates',\n",
       " 'dropna',\n",
       " 'dtypes',\n",
       " 'duplicated',\n",
       " 'empty',\n",
       " 'eq',\n",
       " 'equals',\n",
       " 'eval',\n",
       " 'ewm',\n",
       " 'expanding',\n",
       " 'ffill',\n",
       " 'fillna',\n",
       " 'filter',\n",
       " 'first',\n",
       " 'first_valid_index',\n",
       " 'floordiv',\n",
       " 'from_csv',\n",
       " 'from_dict',\n",
       " 'from_items',\n",
       " 'from_records',\n",
       " 'ftypes',\n",
       " 'ge',\n",
       " 'get',\n",
       " 'get_dtype_counts',\n",
       " 'get_ftype_counts',\n",
       " 'get_value',\n",
       " 'get_values',\n",
       " 'groupby',\n",
       " 'gt',\n",
       " 'head',\n",
       " 'hist',\n",
       " 'iat',\n",
       " 'icol',\n",
       " 'idNotaVenda',\n",
       " 'idProduto',\n",
       " 'idxmax',\n",
       " 'idxmin',\n",
       " 'iget_value',\n",
       " 'iloc',\n",
       " 'index',\n",
       " 'info',\n",
       " 'insert',\n",
       " 'interpolate',\n",
       " 'irow',\n",
       " 'is_copy',\n",
       " 'isin',\n",
       " 'isnull',\n",
       " 'iteritems',\n",
       " 'iterkv',\n",
       " 'iterrows',\n",
       " 'itertuples',\n",
       " 'ix',\n",
       " 'join',\n",
       " 'keys',\n",
       " 'kurt',\n",
       " 'kurtosis',\n",
       " 'last',\n",
       " 'last_valid_index',\n",
       " 'le',\n",
       " 'loc',\n",
       " 'lookup',\n",
       " 'lt',\n",
       " 'mad',\n",
       " 'mask',\n",
       " 'max',\n",
       " 'mean',\n",
       " 'median',\n",
       " 'memory_usage',\n",
       " 'merge',\n",
       " 'min',\n",
       " 'mod',\n",
       " 'mode',\n",
       " 'mul',\n",
       " 'multiply',\n",
       " 'ndim',\n",
       " 'ne',\n",
       " 'nlargest',\n",
       " 'nome',\n",
       " 'notnull',\n",
       " 'nsmallest',\n",
       " 'pct_change',\n",
       " 'pipe',\n",
       " 'pivot',\n",
       " 'pivot_table',\n",
       " 'plot',\n",
       " 'pop',\n",
       " 'pow',\n",
       " 'prod',\n",
       " 'product',\n",
       " 'quantile',\n",
       " 'query',\n",
       " 'radd',\n",
       " 'rank',\n",
       " 'rdiv',\n",
       " 'reindex',\n",
       " 'reindex_axis',\n",
       " 'reindex_like',\n",
       " 'rename',\n",
       " 'rename_axis',\n",
       " 'reorder_levels',\n",
       " 'replace',\n",
       " 'resample',\n",
       " 'reset_index',\n",
       " 'rfloordiv',\n",
       " 'rmod',\n",
       " 'rmul',\n",
       " 'rolling',\n",
       " 'round',\n",
       " 'rpow',\n",
       " 'rsub',\n",
       " 'rtruediv',\n",
       " 'sample',\n",
       " 'select',\n",
       " 'select_dtypes',\n",
       " 'sem',\n",
       " 'set_axis',\n",
       " 'set_index',\n",
       " 'set_value',\n",
       " 'shape',\n",
       " 'shift',\n",
       " 'size',\n",
       " 'skew',\n",
       " 'slice_shift',\n",
       " 'sort',\n",
       " 'sort_index',\n",
       " 'sort_values',\n",
       " 'sortlevel',\n",
       " 'squeeze',\n",
       " 'stack',\n",
       " 'std',\n",
       " 'style',\n",
       " 'sub',\n",
       " 'subtract',\n",
       " 'sum',\n",
       " 'swapaxes',\n",
       " 'swaplevel',\n",
       " 'tail',\n",
       " 'take',\n",
       " 'to_clipboard',\n",
       " 'to_csv',\n",
       " 'to_dense',\n",
       " 'to_dict',\n",
       " 'to_excel',\n",
       " 'to_gbq',\n",
       " 'to_hdf',\n",
       " 'to_html',\n",
       " 'to_json',\n",
       " 'to_latex',\n",
       " 'to_msgpack',\n",
       " 'to_panel',\n",
       " 'to_period',\n",
       " 'to_pickle',\n",
       " 'to_records',\n",
       " 'to_sparse',\n",
       " 'to_sql',\n",
       " 'to_stata',\n",
       " 'to_string',\n",
       " 'to_timestamp',\n",
       " 'to_wide',\n",
       " 'to_xarray',\n",
       " 'transpose',\n",
       " 'truediv',\n",
       " 'truncate',\n",
       " 'tshift',\n",
       " 'tz_convert',\n",
       " 'tz_localize',\n",
       " 'unstack',\n",
       " 'update',\n",
       " 'values',\n",
       " 'var',\n",
       " 'where',\n",
       " 'xs']"
      ]
     },
     "execution_count": 18,
     "metadata": {},
     "output_type": "execute_result"
    }
   ],
   "source": [
    "# Mostra tudo o que se pode fazer com \"grouped\"\n",
    "dir(grouped)"
   ]
  },
  {
   "cell_type": "code",
   "execution_count": 28,
   "metadata": {},
   "outputs": [
    {
     "data": {
      "text/plain": [
       "['.ipynb_checkpoints',\n",
       " 'BeautifulSoup.py',\n",
       " 'BeautifulSoup.pyc',\n",
       " 'cod_barras_fraldas_huggies.csv',\n",
       " 'cod_barras_shampoos.xlsx',\n",
       " 'cod_barras_shampoos_20160621.csv',\n",
       " 'cod_barras_shampoos_20160623.csv',\n",
       " 'cod_barras_shampoos_20160628.csv',\n",
       " 'cod_barras_shampoos_20160629.csv',\n",
       " 'cod_barras_shampoos_20160630.csv',\n",
       " 'cod_barras_shampoos_20160705.csv',\n",
       " 'cod_barras_shampoos_20160706.csv',\n",
       " 'cod_barras_shampoos_20160711.csv',\n",
       " 'cod_barras_shampoos_20160712.csv',\n",
       " 'cod_barras_shampoos_20160713.csv',\n",
       " 'Descriptive Stats 20150213.ipynb',\n",
       " 'download_image.ipynb',\n",
       " 'EWMA.ipynb',\n",
       " 'EWMA.py',\n",
       " 'EWMA_fat_in.csv',\n",
       " 'EWMA_out.csv',\n",
       " 'EWMA_previsao_20160905.csv',\n",
       " 'forecasting_model_20160118.ipynb',\n",
       " 'forecasting_model_R_20160118.ipynb',\n",
       " 'holt-winters-python.zip',\n",
       " 'holt-winters2.py',\n",
       " 'import.io_cod_barras_shampoos_20160726.csv',\n",
       " 'import.io_cod_barras_shampoos_20160726.json',\n",
       " 'import.io_drogaria_pacheco_20160727.csv',\n",
       " 'import.io_drogaria_pacheco_20160727.json',\n",
       " 'import.io_drogaria_venancio_remedios_best_sellers_20160726.csv',\n",
       " 'Optimization Methods in EWMA ta.pdf',\n",
       " 'p50_hands_on_R.ipynb',\n",
       " 'Pandas-Pivot-Table-Explained.ipynb',\n",
       " 'pod_gtin.zip',\n",
       " 'pod_gtin_Brasil.xls',\n",
       " 'produtos_vendidos_com_Dorflex.ipynb',\n",
       " 'Python for Informatics.pdf',\n",
       " 'Python_nonlinear_least_squares.ipynb',\n",
       " 'RMySQL_teste_20160108.R',\n",
       " 'teste_Bluesoft.ipynb',\n",
       " 'teste_Bluesoft_Shampoos.ipynb',\n",
       " 'Teste_Conexao_Python_MySQL.ipynb',\n",
       " 'Teste_Conexao_Python_MySQL.py',\n",
       " 'teste_scraping_sites_farmacias.ipynb',\n",
       " 'teste_scraping_site_pesquisa_remedios.ipynb',\n",
       " 'Timeseries.ipynb',\n",
       " 'Untitled.ipynb',\n",
       " 'wk03_02.ipynb',\n",
       " 'wk03_urllib.ipynb',\n",
       " 'wk04_hw02_v2.ipynb']"
      ]
     },
     "execution_count": 28,
     "metadata": {},
     "output_type": "execute_result"
    }
   ],
   "source": [
    "os.listdir(\".\")"
   ]
  },
  {
   "cell_type": "code",
   "execution_count": null,
   "metadata": {
    "collapsed": true
   },
   "outputs": [],
   "source": []
  }
 ],
 "metadata": {
  "anaconda-cloud": {},
  "kernelspec": {
   "display_name": "Python 3",
   "language": "python",
   "name": "python3"
  },
  "language_info": {
   "codemirror_mode": {
    "name": "ipython",
    "version": 3
   },
   "file_extension": ".py",
   "mimetype": "text/x-python",
   "name": "python",
   "nbconvert_exporter": "python",
   "pygments_lexer": "ipython3",
   "version": "3.7.3"
  }
 },
 "nbformat": 4,
 "nbformat_minor": 1
}
