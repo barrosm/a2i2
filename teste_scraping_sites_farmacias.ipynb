{
 "cells": [
  {
   "cell_type": "markdown",
   "metadata": {},
   "source": [
    "## Scraping de Dados de Sites de Farmacias para Definição das Categorias de Produtos da a2i2"
   ]
  },
  {
   "cell_type": "markdown",
   "metadata": {},
   "source": [
    "### Versão 1.0.0."
   ]
  },
  {
   "cell_type": "markdown",
   "metadata": {},
   "source": [
    "### Data: 2015/12/19"
   ]
  },
  {
   "cell_type": "code",
   "execution_count": 37,
   "metadata": {
    "collapsed": false
   },
   "outputs": [],
   "source": [
    "import urllib\n",
    "from BeautifulSoup import *\n",
    "#from bs4 import *\n",
    "import re"
   ]
  },
  {
   "cell_type": "code",
   "execution_count": 41,
   "metadata": {
    "collapsed": true
   },
   "outputs": [],
   "source": [
    "import pandas as pd"
   ]
  },
  {
   "cell_type": "code",
   "execution_count": 40,
   "metadata": {
    "collapsed": true
   },
   "outputs": [],
   "source": [
    "# Nota: para um tutorial bacana, veja também:\n",
    "# http://web.stanford.edu/~zlotnick/TextAsData/Web_Scraping_with_Beautiful_Soup.html\n",
    "\n",
    "# Drogarias Pacheco\n",
    "# ===================\n",
    "url = 'http://www.drogariaspacheco.com.br'\n",
    "html = urllib.urlopen(url).read()\n",
    "soup = BeautifulSoup(html)"
   ]
  },
  {
   "cell_type": "code",
   "execution_count": 42,
   "metadata": {
    "collapsed": true
   },
   "outputs": [],
   "source": [
    "list_tipo_aplicacao = soup.findAll(\"div\",{\"class\":\"filtroAplicacao\"})"
   ]
  },
  {
   "cell_type": "code",
   "execution_count": 43,
   "metadata": {
    "collapsed": false
   },
   "outputs": [],
   "source": [
    "list_grupo = soup.findAll(\"a\", {\"class\":\"title_group\"})"
   ]
  },
  {
   "cell_type": "code",
   "execution_count": 44,
   "metadata": {
    "collapsed": false
   },
   "outputs": [
    {
     "name": "stdout",
     "output_type": "stream",
     "text": [
      "3º passoEscolha o tipo do produtoSelecione a apresentaçãoAnalgésicos e AntitérmicosAnti-inflamatórios e Relaxante MuscularEnxaquecaDescongestionanteAtadura e GazeCurativosBolsa TérmicaMáscaraBarbaAlgodão e Hastes FlexíveisLenços de PapelÁgua TermalAntiacneAnti-idadeAntirrugasDespigmentadorGel e Espuma de LimpezaHidratanteProtetor LabialProtetor Solar FacialSabonete em BarraSabonete LíquidoBaseBlushCorretivoDemaquilanteFixadorIluminadorKits EspeciaisPó FacialPré-MaquiagemAntiacneAnticravosCreme AntirrugasCreme FacialLimpeza de peleDermatitesHerpesAntialérgicosAcneCicatrizantesVitiligoHidratante para o Rosto InfantilLimpeza Corpo e FaceProtetor Solar InfantilAlergia e InfecçõesAnestésicosCatarataDilatador de PupilasGlaucomaIrritaçãoLentes de ContatoLimpezaLubrificantesSoro FisiológicoVitaminasAnti-idadeAntirrugasGel e Espuma de Limpeza<option data-nec=\"dermocosmetico\" data-dep=\"Olhos\" value=\"olheiras\">Olheiras</option><option data-nec=\"estetica\" data-dep=\"Olhos\" value=\"demaquilante\">Demaquilante</option>Algodão e Hastes FlexíveisPinçaCílios PostiçosDelineadorDemaquilanteLápis de OlhoLápis de SobrancelhaMáscara de CíliosSombraAntialérgicos<option data-nec=\"medicamentos\" data-dep=\"Nariz\" value=\"respiratorio\">Respiratório</option>Descongestionante NasalBronco RespiratórioAlgodão e Hastes FlexíveisLenços de PapelInalador, Purificador e AcessóriosDilatador NasalAspirador NasalAlgodão e Hastes FlexíveisAnalgésico e Anti-inflamatórioAntibióticoCeraProtetor de OuvidoAntisséptico BucalBranqueador DentalCreme e Gel DentalEscova DentalFios e Fitas DentaisFixador e Limpeza de PrótesesLimpa LínguaOutrosAntialérgicosAntibióticosAntiviralAsmaImunoestimulanteProblemas RespiratóriosAntigripaisDescongestionanteDescongestionante NasalNaturaisTosseDor de Garganta<option data-nec=\"medicamentos\" data-dep=\"Boca e Garganta e Sistema Respiratório\" value=\"gripes-e-resfriados\">Gripes e Resfriados</option>AftasTireóideHerpesAdesivos (de nicotina)AntitabagismoGomas e Pastilhas (de nicotina)TermômetroAbaixador de LínguaHigiene OralPrimeira DentiçãoCuidado Bucal InfantilCuidado com a MãeProtetor LabialBatom<option data-nec=\"maquiagem\" data-dep=\"Boca e Garganta e Sistema Respiratório\" value=\"batom-marrom\">Batom Marrom</option>\r\n",
      "<option data-nec=\"maquiagem\" data-dep=\"Boca e Garganta e Sistema Respiratório\" value=\"batom-bege\">Batom Bege</option>\r\n",
      "<option data-nec=\"maquiagem\" data-dep=\"Boca e Garganta e Sistema Respiratório\" value=\"batom-vermelho\">Batom Vermelho</option>\r\n",
      "<option data-nec=\"maquiagem\" data-dep=\"Boca e Garganta e Sistema Respiratório\" value=\"batom-rosa\">Batom Rosa</option>\r\n",
      "<option data-nec=\"maquiagem\" data-dep=\"Boca e Garganta e Sistema Respiratório\" value=\"batom-roxo\">Batom Roxo</option>\r\n",
      "<option data-nec=\"maquiagem\" data-dep=\"Boca e Garganta e Sistema Respiratório\" value=\"batom-laranja\">Batom Laranja</option>Batom hidratanteBrilho Labial<option data-nec=\"maquiagem\" data-dep=\"Boca e Garganta e Sistema Respiratório\" value=\"brilho-labial-marrom\">Brilho Labial Marrom</option>\r\n",
      "<option data-nec=\"maquiagem\" data-dep=\"Boca e Garganta e Sistema Respiratório\" value=\"brilho-labial-bege\">Brilho Labial Bege</option>\r\n",
      "<option data-nec=\"maquiagem\" data-dep=\"Boca e Garganta e Sistema Respiratório\" value=\"brilho-labial-vermelho\">Brilho Labial Vermelho</option>\r\n",
      "<option data-nec=\"maquiagem\" data-dep=\"Boca e Garganta e Sistema Respiratório\" value=\"brilho-labial-rosa\">Brilho Labial Rosa</option>\r\n",
      "<option data-nec=\"maquiagem\" data-dep=\"Boca e Garganta e Sistema Respiratório\" value=\"brilho-labial-roxo\">Brilho Labial Roxo</option>\r\n",
      "<option data-nec=\"maquiagem\" data-dep=\"Boca e Garganta e Sistema Respiratório\" value=\"brilho-labial-laranja\">Brilho Labial Laranja</option>Lápis<option data-nec=\"maquiagem\" data-dep=\"Boca e Garganta e Sistema Respiratório\" value=\"lapis-labial-bege\">Lápis Labial Bege</option>\r\n",
      "<option data-nec=\"maquiagem\" data-dep=\"Boca e Garganta e Sistema Respiratório\" value=\"lapis-labial-marrom\">Lápis Labial Marrom</option>\r\n",
      "<option data-nec=\"maquiagem\" data-dep=\"Boca e Garganta e Sistema Respiratório\" value=\"lapis-labial-vermelho\">Lápis Labial Vermelho</option>Colônias InfantisEsponjasHidratante para o Corpo InfantilLimpeza Corpo e FaceMassagem InfantilProtetor Solar InfantilSabonete InfantilSabonete Líquido InfantilTalco InfantilTratamento Corpo MamãeAssaduras do BebêLenços UmedecidosAntiestriasAuto BronzeadorHidratante CorporalProtetor Solar CorporalAnticelulite e FirmadorAntioxidanteSolarAntiacneAnticravosCreme AntirrugasCreme FacialHidratante CorporalLimpeza de peleÓleo de AmêndoasAparador de PelosAparelho DepilatórioCarga para depiladorCera DepilatóriaCreme DepilatórioDepilador ElétricoFolhas para DepilaçãoRemovedor Pós-depilaçãoBronzeadorPós Sol<option data-nec=\"estetica\" data-dep=\"Pele\" value=\"protetor-solar-fps-4\">Protetor Solar FPS 4</option>\r\n",
      "<option data-nec=\"estetica\" data-dep=\"Pele\" value=\"protetor-solar-fps-6\">Protetor Solar FPS 6</option>\r\n",
      "<option data-nec=\"estetica\" data-dep=\"Pele\" value=\"protetor-solar-fps-8\">Protetor Solar FPS 8</option>\r\n",
      "<option data-nec=\"estetica\" data-dep=\"Pele\" value=\"protetor-solar-fps-15\">Protetor Solar FPS 15</option>\r\n",
      "<option data-nec=\"estetica\" data-dep=\"Pele\" value=\"protetor-solar-fps-30\">Protetor Solar FPS 30</option>\r\n",
      "<option data-nec=\"estetica\" data-dep=\"Pele\" value=\"protetor-solar-fps-60\">Protetor Solar FPS 60</option>\r\n",
      "<option data-nec=\"estetica\" data-dep=\"Pele\" value=\"protetor-solar-fps-50\">Protetor Solar FPS 50</option>\r\n",
      "<option data-nec=\"estetica\" data-dep=\"Pele\" value=\"protetor-solar-fps-70\">Protetor Solar FPS 70</option>Esponja para BanhoSabonetesSabonetes EspeciaisSabonetes Líquidos<option data-nec=\"higiene\" data-dep=\"Pele\" value=\"acessorios\">Acessórios</option>Algodão e Hastes FlexíveisGel AntissépticoLenços de PapelRepelentesPapel HigiênicoContusãoAcneAftaAnestésicosAntimicóticos e FungosAntineoplásicoAssaduraCalos e VerrugasCicatrizantesDespigmentadorHerpesVitiligoAssepsiaAtadura e GazeCurativosEsparadrapoBetacarotenoColágeno e GelatinaVitamina AVitamina EPerfumes<option data-nec=\"perfumaria\" data-dep=\"Pele\" value=\"perfumes-femininos\">Perfumes Femininos</option>\r\n",
      "<option data-nec=\"perfumaria\" data-dep=\"Pele\" value=\"perfumes-masculinos\">Perfumes Masculinos</option>\r\n",
      "<option data-nec=\"perfumaria\" data-dep=\"Pele\" value=\"perfumes-unissex\">Perfumes Unissex</option>Colônias<option data-nec=\"perfumaria\" data-dep=\"Pele\" value=\"colonias-femininas\">Colônias Femininas</option>\r\n",
      "<option data-nec=\"perfumaria\" data-dep=\"Pele\" value=\"colonias-masculinas\">Colônias Masculinas</option>\r\n",
      "<option data-nec=\"perfumaria\" data-dep=\"Pele\" value=\"colonias-unissex\">Colônias Unissex</option>Escovas e PentesFixadores e ModeladoresShampoo InfantilAntiquedaCondicionadorShampooTratamentoFortalecedor de Cabelos e UnhasAcessórios para CabelosChapinhaCortador de CabelosEscovas e PentesGrampos para CabelosSecador de CabeloOutrosAmpola de TratamentoCreme para PentearGel FixadorKeratina LiquidaMáscara de TratamentoMousseÓleo e loçãoPomada ModeladoraReparador de PontasSpray e Fluidos para CabelosVitaminasAlisantes e RelaxamentosDescoloranteTintura<option data-nec=\"estetica\" data-dep=\"Cabelo\" value=\"tintura-castanho\">Tintura: Castanho</option>\r\n",
      "<option data-nec=\"estetica\" data-dep=\"Cabelo\" value=\"tintura-loiro\">Tintura: Loiro</option>\r\n",
      "<option data-nec=\"estetica\" data-dep=\"Cabelo\" value=\"tintura-preto\">Tintura: Preto</option>\r\n",
      "<option data-nec=\"estetica\" data-dep=\"Cabelo\" value=\"tintura-vermelho\">Tintura: Vermelho</option>\r\n",
      "<option data-nec=\"estetica\" data-dep=\"Cabelo\" value=\"tintura-grisalho\">Tintura: Grisalho</option><option data-nec=\"estetica\" data-dep=\"Cabelo\" value=\"claro\">Claro</option>\r\n",
      "<option data-nec=\"estetica\" data-dep=\"Cabelo\" value=\"medio\">Médio</option>\r\n",
      "<option data-nec=\"estetica\" data-dep=\"Cabelo\" value=\"escuro\">Escuro</option><option data-nec=\"estetica\" data-dep=\"Cabelo\" value=\"tintura-masculina\">Tintura Masculina</option>Shampoo<option data-nec=\"higiene\" data-dep=\"Cabelo\" value=\"shampoo-sem-sal\">Shampoo Sem Sal</option>\r\n",
      "<option data-nec=\"higiene\" data-dep=\"Cabelo\" value=\"shampoo-com-sal\">Shampoo Com Sal</option>\r\n",
      "<option data-nec=\"higiene\" data-dep=\"Cabelo\" value=\"shampoo-anticaspa\">Shampoo Anticaspa</option>\r\n",
      "<option data-nec=\"higiene\" data-dep=\"Cabelo\" value=\"shampoo-anticoceira\">Shampoo Anticoceira</option>\r\n",
      "<option data-nec=\"higiene\" data-dep=\"Cabelo\" value=\"shampoo-antipiolho\">Shampoo AntiPiolho</option>\r\n",
      "<option data-nec=\"higiene\" data-dep=\"Cabelo\" value=\"shampoo-para-antiqueda\">Shampoo Antiqueda</option>\r\n",
      "<option data-nec=\"higiene\" data-dep=\"Cabelo\" value=\"shampoo-para-antiresiduos\">Shampoo Antirresíduos</option>\r\n",
      "<option data-nec=\"higiene\" data-dep=\"Cabelo\" value=\"shampoo-para-cabelos-coloridos\">Shampoo para cabelos Coloridos</option>\r\n",
      "<option data-nec=\"higiene\" data-dep=\"Cabelo\" value=\"shampoo-para-cabelos-escuros\">Shampoo para cabelos Escuros</option>\r\n",
      "<option data-nec=\"higiene\" data-dep=\"Cabelo\" value=\"shampoo-para-cabelos-loiros\">Shampoo para cabelos Loiros</option>\r\n",
      "<option data-nec=\"higiene\" data-dep=\"Cabelo\" value=\"shampoo-para-cabelos-claros\">Shampoo para cabelos Claros</option>\r\n",
      "<option data-nec=\"higiene\" data-dep=\"Cabelo\" value=\"shampoo-para-cabelos-mistos\">Shampoo para cabelos Mistos</option>\r\n",
      "<option data-nec=\"higiene\" data-dep=\"Cabelo\" value=\"shampoo-para-cabelos-normais\">Shampoo para cabelos Normais</option>\r\n",
      "<option data-nec=\"higiene\" data-dep=\"Cabelo\" value=\"shampoo-para-cabelos-oleosos\">Shampoo para cabelos Oleosos</option>\r\n",
      "<option data-nec=\"higiene\" data-dep=\"Cabelo\" value=\"shampoo-para-pos-quimica\">Shampoo para Pós-química</option>\r\n",
      "<option data-nec=\"higiene\" data-dep=\"Cabelo\" value=\"shampoo-para-cabelos-secos-e-danificados\">Shampoo para cabelos Secos e Danificados</option>\r\n",
      "<option data-nec=\"higiene\" data-dep=\"Cabelo\" value=\"shampoo-para-cabelos-cacheados\">Shampoo para cabelos Cacheados</option>\r\n",
      "<option data-nec=\"higiene\" data-dep=\"Cabelo\" value=\"shampoo-para-cabelos-lisos\">Shampoo para cabelos Lisos</option>\r\n",
      "<option data-nec=\"higiene\" data-dep=\"Cabelo\" value=\"shampoo-para-cabelo-crespo\">Shampoo para cabelo Crespo</option>\r\n",
      "<option data-nec=\"higiene\" data-dep=\"Cabelo\" value=\"shampoo-para-uso-diario\">Shampoo para uso Diário</option>\r\n",
      "<option data-nec=\"higiene\" data-dep=\"Cabelo\" value=\"shampoo-para-uso-semanal\">Shampoo para uso Semanal</option>Shampoo e Condicionador<option data-nec=\"higiene\" data-dep=\"Cabelo\" value=\"condicionador-sem-sal\">Condicionador Sem Sal</option>\r\n",
      "<option data-nec=\"higiene\" data-dep=\"Cabelo\" value=\"condicionador-com-sal\">Condicionador Com Sal</option>\r\n",
      "<option data-nec=\"higiene\" data-dep=\"Cabelo\" value=\"condicionador-anticaspa\">Condicionador Anticaspa</option>\r\n",
      "<option data-nec=\"higiene\" data-dep=\"Cabelo\" value=\"condicionador-anticoceira\">Condicionador Anticoceira</option>\r\n",
      "<option data-nec=\"higiene\" data-dep=\"Cabelo\" value=\"condicionador-antipiolho\">Condicionador AntiPiolho</option>\r\n",
      "<option data-nec=\"higiene\" data-dep=\"Cabelo\" value=\"condicionador-antiqueda\">Condicionador Antiqueda</option>\r\n",
      "<option data-nec=\"higiene\" data-dep=\"Cabelo\" value=\"condicionador-antirresiduos\">Condicionador Antirresíduos</option>\r\n",
      "<option data-nec=\"higiene\" data-dep=\"Cabelo\" value=\"condicionador-para-cabelos-coloridos\">Condicionador para cabelos Coloridos</option>\r\n",
      "<option data-nec=\"higiene\" data-dep=\"Cabelo\" value=\"condicionador-para-cabelos-escuros\">Condicionador para cabelos Escuros</option>\r\n",
      "<option data-nec=\"higiene\" data-dep=\"Cabelo\" value=\"condicionador-para-cabelos-loiros\">Condicionador para cabelos Loiros </option>\r\n",
      "<option data-nec=\"higiene\" data-dep=\"Cabelo\" value=\"condicionador-para-cabelos-claros\">Condicionador para cabelos Claros</option>\r\n",
      "<option data-nec=\"higiene\" data-dep=\"Cabelo\" value=\"condicionador-para-cabelos-mistos\">Condicionador para cabelos Mistos</option>\r\n",
      "<option data-nec=\"higiene\" data-dep=\"Cabelo\" value=\"condicionador-para-cabelos-normais\">Condicionador para cabelos Normais</option>\r\n",
      "<option data-nec=\"higiene\" data-dep=\"Cabelo\" value=\"condicionador-para-cabelos-oleosos\">Condicionador para cabelos Oleosos</option>\r\n",
      "<option data-nec=\"higiene\" data-dep=\"Cabelo\" value=\"condicionador-para-quimica\">Condicionador para Pós-química</option>\r\n",
      "<option data-nec=\"higiene\" data-dep=\"Cabelo\" value=\"condicionador-para-cabelos-secos-e-danificados\">Condicionador para cabelos Secos e Danificados</option>\r\n",
      "<option data-nec=\"higiene\" data-dep=\"Cabelo\" value=\"condicionador-para-cabelos-cacheados\">Condicionador para cabelos Cacheados</option>\r\n",
      "<option data-nec=\"higiene\" data-dep=\"Cabelo\" value=\"condicionador-para-cabelos-lisos\">Condicionador para cabelos Lisos</option>\r\n",
      "<option data-nec=\"higiene\" data-dep=\"Cabelo\" value=\"condicionador-para-cabelo-crespo\">Condicionador para cabelo Crespo</option>\r\n",
      "<option data-nec=\"higiene\" data-dep=\"Cabelo\" value=\"condicionador-para-uso-diario\">Condicionador para uso Diário</option>\r\n",
      "<option data-nec=\"higiene\" data-dep=\"Cabelo\" value=\"condicionador-para-uso-semanal\">Condicionador para uso Semanal</option>Queda de CabeloComplexos VitamínicosAbsorvente para seiosAmamentaçãoTratamento Corpo MamãeAntiestriasHidratante CorporalModelador de SeiosÓleo de AmêndoasCâncer de MamaFortalecedor de Cabelos e UnhasCreme para MãosAcessóriosAlicate e CortadorBaseFixador e SecanteRemovedor de EsmalteTesoura e LixaUnhas PostiçasEsmaltes<option data-nec=\"estetica\" data-dep=\"Braços e Mãos e Unhas\" value=\"esmalte-preto\">Esmalte Preto</option>\r\n",
      "<option data-nec=\"estetica\" data-dep=\"Braços e Mãos e Unhas\" value=\"esmalte-vermelho\">Esmalte Vermelho</option>\r\n",
      "<option data-nec=\"estetica\" data-dep=\"Braços e Mãos e Unhas\" value=\"esmalte-marrom\">Esmalte Marrom</option>\r\n",
      "<option data-nec=\"estetica\" data-dep=\"Braços e Mãos e Unhas\" value=\"esmalte-bege\">Esmalte Bege</option>\r\n",
      "<option data-nec=\"estetica\" data-dep=\"Braços e Mãos e Unhas\" value=\"esmalte-rosa\">Esmalte Rosa</option>\r\n",
      "<option data-nec=\"estetica\" data-dep=\"Braços e Mãos e Unhas\" value=\"esmalte-azul\">Esmalte Azul</option>\r\n",
      "<option data-nec=\"estetica\" data-dep=\"Braços e Mãos e Unhas\" value=\"esmalte-verde\">Esmalte Verde</option>\r\n",
      "<option data-nec=\"estetica\" data-dep=\"Braços e Mãos e Unhas\" value=\"esmalte-amarelo\">Esmalte Amarelo</option>\r\n",
      "<option data-nec=\"estetica\" data-dep=\"Braços e Mãos e Unhas\" value=\"esmalte-roxo\">Esmalte Roxo</option>\r\n",
      "<option data-nec=\"estetica\" data-dep=\"Braços e Mãos e Unhas\" value=\"esmalte-laranja\">Esmalte Laranja</option>\r\n",
      "<option data-nec=\"estetica\" data-dep=\"Braços e Mãos e Unhas\" value=\"esmalte-dourado\">Esmalte Dourado</option>\r\n",
      "<option data-nec=\"estetica\" data-dep=\"Braços e Mãos e Unhas\" value=\"esmalte-prateado\">Esmalte Prateado</option>\r\n",
      "<option data-nec=\"estetica\" data-dep=\"Braços e Mãos e Unhas\" value=\"esmalte-branco\">Esmalte Branco</option>\r\n",
      "<option data-nec=\"estetica\" data-dep=\"Braços e Mãos e Unhas\" value=\"esmalte-incolor\">Esmalte Incolor</option>Antimicóticos e FungosLuva CirúrgicaDespigmentadorVitiligoComplexos VitamínicosBolinha de fisioterapiaLuvasMunhequeirasTala para TendiniteDesodorante AerosolDesodorante CremeDesodorante Roll OnTalcoAparelho DepilatórioCarga para depiladorCera DepilatóriaCreme DepilatórioDepilador ElétricoFolhas para DepilaçãoRemovedor Pós-depilaçãoDesodorante Aerosol<option data-nec=\"perfumaria\" data-dep=\"Axilas\" value=\"desodorante-aerosol-feminino\">Desodorante Aerosol Feminino</option>\r\n",
      "<option data-nec=\"perfumaria\" data-dep=\"Axilas\" value=\"desodorante-aerosol-masculino\">Desodorante Aerosol Masculino</option>\r\n",
      "<option data-nec=\"perfumaria\" data-dep=\"Axilas\" value=\"desodorante-aerosol-unissex\">Desodorante Aerosol Unissex</option>Desodorante Roll On e Creme<option data-nec=\"perfumaria\" data-dep=\"Axilas\" value=\"desodorante-roll-on-e-creme-feminino\">Desodorante Roll On e Creme Feminino</option>\r\n",
      "<option data-nec=\"perfumaria\" data-dep=\"Axilas\" value=\"desodorante-roll-on-e-creme-masculino\">Desodorante Roll On e Creme Masculino</option>\r\n",
      "<option data-nec=\"perfumaria\" data-dep=\"Axilas\" value=\"desodorante-roll-on-e-creme-unissex\">Desodorante Roll On e Creme Unissex</option>Desodorante Spray<option data-nec=\"perfumaria\" data-dep=\"Axilas\" value=\"desodorante-spray-feminino\">Desodorante Spray Feminino</option>\r\n",
      "<option data-nec=\"perfumaria\" data-dep=\"Axilas\" value=\"desodorante-spray-masculino\">Desodorante Spray Masculino</option>\r\n",
      "<option data-nec=\"perfumaria\" data-dep=\"Axilas\" value=\"desodorante-spray-unissex\">Desodorante Spray Unissex</option>AntiestriasHidratante CorporalAuto BronzeadorAnticelulite e FirmadorRedutor de MedidasCreme para PernasCreme para PésHidratante CorporalÓleo de AmêndoasTalcoDepilaçãoAcessórios para pésDesodoranteEsfolianteVarizesAssaduraCalos e VerrugasCurativosCicatrizantesCalcanheiraMeiasPalmilhaProtetor AdesivoTornozeleira e JoelheiraAntiespasmódicoAntigasesDigestivosNáuseasÚlcera e Gastrite<option data-nec=\"medicamentos\" data-dep=\"Estômago\" value=\"redutores-de-peso\">Redutores de Peso</option><option data-nec=\"medicamentos\" data-dep=\"Estômago\" value=\"vermes-e-parasitas\">Vermes e Parasitas</option>Estimulante de ApetiteÓleo de Linhaça<option data-nec=\"medicamentos\" data-dep=\"Estômago\" value=\"vermifugo\">Vermífugo</option>QuitosanaAlimentosBebidasEmagrecedoresNutrição EsportivaCólicasLenços UmedecidosFitas AdesivasFraldas<option data-nec=\"bebe-e-mamae\" data-dep=\"Sistema Urinário e Excretor\" value=\"fralda-rn\">Fralda RN</option>\r\n",
      "<option data-nec=\"bebe-e-mamae\" data-dep=\"Sistema Urinário e Excretor\" value=\"fralda-p\">Fralda P</option>\r\n",
      "<option data-nec=\"bebe-e-mamae\" data-dep=\"Sistema Urinário e Excretor\" value=\"fralda-m\">Fralda M</option>\r\n",
      "<option data-nec=\"bebe-e-mamae\" data-dep=\"Sistema Urinário e Excretor\" value=\"fralda-g\">Fralda G</option>\r\n",
      "<option data-nec=\"bebe-e-mamae\" data-dep=\"Sistema Urinário e Excretor\" value=\"fralda-xg\">Fralda XG</option>\r\n",
      "<option data-nec=\"bebe-e-mamae\" data-dep=\"Sistema Urinário e Excretor\" value=\"fralda-xxg\">Fralda XXG</option>\r\n",
      "<option data-nec=\"bebe-e-mamae\" data-dep=\"Sistema Urinário e Excretor\" value=\"fralda-para-piscina\">Fralda para piscina</option>\r\n",
      "<option data-nec=\"bebe-e-mamae\" data-dep=\"Sistema Urinário e Excretor\" value=\"fralda-uso-noturno\">Fralda Uso Noturno</option>GeriátricosHigiene ÍntimaLenços de PapelPapel HigiênicoSabonetes ÍntimosAntiespasmódicoAntigasesDiarreiaHemorróidasLaxantesRegulador IntestinalReidratantesSíndrome do Intestino IrritávelProblemas RenaisDiuréticos<option data-nec=\"medicamentos\" data-dep=\"Sistema Urinário e Excretor\" value=\"disturbios-urinarios\">Distúrbios Urinários</option>Bolsa Para ColostomiaColetor de Fezes e UrinaHepatoprotetor<option data-nec=\"medicamentos\" data-dep=\"Fígado e Pâncreas\" value=\"diabetes\">Diabetes</option>NáuseasHigiene ÍntimaLenços de PapelPapel HigiênicoAbsorventes<option data-nec=\"higiene\" data-dep=\"Sistema Reprodutor e Vida Sexual\" value=\"absorvente-com-abas\">Absorvente com Abas</option>\r\n",
      "<option data-nec=\"higiene\" data-dep=\"Sistema Reprodutor e Vida Sexual\" value=\"absorvente-sem-abas\">Absorvente sem Abas</option>\r\n",
      "<option data-nec=\"higiene\" data-dep=\"Sistema Reprodutor e Vida Sexual\" value=\"absorvente-interno\">Absorvente Interno</option>\r\n",
      "<option data-nec=\"higiene\" data-dep=\"Sistema Reprodutor e Vida Sexual\" value=\"absorvente-noturno\">Absorvente Noturno</option>\r\n",
      "<option data-nec=\"higiene\" data-dep=\"Sistema Reprodutor e Vida Sexual\" value=\"absorvente-protetor-diario\">Absorvente Protetor Diário</option>Sabonetes ÍntimosLubrificantesPreservativos<option data-nec=\"higiene\" data-dep=\"Sistema Reprodutor e Vida Sexual\" value=\"presersativos-sem-sabor\">Preservativos Sem Sabor</option>\r\n",
      "<option data-nec=\"higiene\" data-dep=\"Sistema Reprodutor e Vida Sexual\" value=\"presersativos-sabor-morango\">Preservativos Sabor Morango</option>\r\n",
      "<option data-nec=\"higiene\" data-dep=\"Sistema Reprodutor e Vida Sexual\" value=\"presersativos-sabor-chocolate\">Preservativos Sabor Chocolate</option>\r\n",
      "<option data-nec=\"higiene\" data-dep=\"Sistema Reprodutor e Vida Sexual\" value=\"presersativos-sabor-menta\">Preservativos sabor Menta</option>\r\n",
      "<option data-nec=\"higiene\" data-dep=\"Sistema Reprodutor e Vida Sexual\" value=\"presersativos-sabor-hortela\">Preservativos sabor Hortelã</option>\r\n",
      "<option data-nec=\"higiene\" data-dep=\"Sistema Reprodutor e Vida Sexual\" value=\"presersativos-outros\">Preservativos (outros)</option>\r\n",
      "<option data-nec=\"higiene\" data-dep=\"Sistema Reprodutor e Vida Sexual\" value=\"presersativos-femininos\">Preservativos Femininos</option>Reposição HormonalAnticoncepcionaisCólicaCremes e óvulos vaginaisPílula do Dia SeguinteTeste de FertilidadeTeste de GravidezDisfunção ErétilPróstataCâncer de PróstataSuspensório EscrotalTeste de FertilidadeAntiagregante PlaquetárioAnticoagulanteCardiovascularesCoagulaçãoHipotensorTromboseVarizesVasodilatadorAnti-hipertensivoDiuréticosMonitor de PressãoBolsa TérmicaFaixa Abdominal e TorácicaMassageadorArtrite/ArtroseVitaminasAnsiedadeAntipsicóticoCalmantes e TranquilizantesConvulsão e EpilepsiaDepressãoDistúrbios CerebraisEsquizofreniaMal de AlzheimerMal de ParkinsonNeuropsicoestimulanteTranstorno BipolarGinkgo BilobaOmega e Óleo de PeixeVitamina AVitamina BVitamina CZincoAnticelulite e FirmadorRedutor de Medidas<option data-nec=\"medicamentos\" data-dep=\"Massa Magra e Gordura Localizada\" value=\"redutores-de-peso\">Redutores de Peso</option>AdoçanteBarra de CerealComplemento AlimentarFrutas SecasGranolaAchocolatadoÁguaÁgua de CôcoCháEnergéticoIsotônicoSucoCápsulas e TabletesNaturaisShakeBalançaEnergéticoMassa MuscularSuplemento Alimentar\n",
      "\n",
      "\n"
     ]
    }
   ],
   "source": [
    "for name in list_tipo_aplicacao:\n",
    "    print name.getText()\n",
    "    print \"\\n\""
   ]
  },
  {
   "cell_type": "code",
   "execution_count": 45,
   "metadata": {
    "collapsed": false
   },
   "outputs": [
    {
     "name": "stdout",
     "output_type": "stream",
     "text": [
      "Alergias e Infecções\n",
      "Diabetes\n",
      "Digestão e Regulador Intestinal\n",
      "Dor e Contusão\n",
      "Gripes e Resfriados\n",
      "Olhos\n",
      "Pele e Mucosa\n",
      "Pressão Alta\n",
      "Respiratório\n",
      "Saúde Feminina\n",
      "Saúde Masculina\n",
      "Alergias e Infecções\n",
      "Diabetes\n",
      "Digestão e Regulador Intestinal\n",
      "Dor e Contusão\n",
      "Gripes e Resfriados\n",
      "Olhos\n",
      "Pele e Mucosa\n",
      "Pressão Alta\n",
      "Respiratório\n",
      "Saúde Feminina\n",
      "Saúde Masculina\n",
      "Cabelo\n",
      "Corpo\n",
      "Olhos\n",
      "Rosto\n",
      "Nutricosméticos\n",
      "Absorventes\n",
      "Barba\n",
      "Higiene Oral\n",
      "Higiene Pessoal\n",
      "Higiene Corporal\n",
      "Shampoo\n",
      "Condicionador\n",
      "Kits Especiais\n",
      "Repelentes\n",
      "Pés\n",
      "Geriátrico\n",
      "Repelentes\n",
      "Vida Sexual\n",
      "Alimentos Infantis\n",
      "Acessórios Infantis\n",
      "Corpo e Banho\n",
      "Cuidado Bucal Infantil\n",
      "Fraldas\n",
      "Para troca do bebê\n",
      "Cuidado com a Mãe\n",
      "Kits e Presentes\n",
      "Acessórios\n",
      "Cabeça\n",
      "Mãos e Braços\n",
      "Pés e Pernas\n",
      "Acessórios\n",
      "Cuidados com a Pele\n",
      "Depilação\n",
      "Estética Masculina\n",
      "Finalização e Tratamento Capilar\n",
      "Kits Especiais\n",
      "Protetor Solar\n",
      "Tintura e Tratamento\n",
      "Unhas\n",
      "Alimentos\n",
      "Bebidas\n",
      "Nutrição Infantil\n",
      "Emagrecedores\n",
      "Nutrição Esportiva\n",
      "Colônias\n",
      "Desodorante Aerosol\n",
      "Desodorante Creme e Roll-on\n",
      "Desodorante Spray\n",
      "Perfume de Ambiente\n",
      "Kits Especiais\n",
      "Rosto\n",
      "Lábios\n",
      "Olhos\n",
      "Unhas\n",
      "Kits Especiais\n",
      "Acessórios\n",
      "Aparelhos\n",
      "Diabetes\n",
      "Testes\n"
     ]
    }
   ],
   "source": [
    "x=[]\n",
    "for name in list_grupo:\n",
    "    print name.getText()\n",
    "    x.append(name.getText())"
   ]
  },
  {
   "cell_type": "code",
   "execution_count": 46,
   "metadata": {
    "collapsed": false
   },
   "outputs": [
    {
     "data": {
      "text/plain": [
       "81"
      ]
     },
     "execution_count": 46,
     "metadata": {},
     "output_type": "execute_result"
    }
   ],
   "source": [
    "len(x)"
   ]
  },
  {
   "cell_type": "code",
   "execution_count": 47,
   "metadata": {
    "collapsed": false
   },
   "outputs": [
    {
     "data": {
      "text/plain": [
       "list"
      ]
     },
     "execution_count": 47,
     "metadata": {},
     "output_type": "execute_result"
    }
   ],
   "source": [
    "type(x)"
   ]
  },
  {
   "cell_type": "code",
   "execution_count": 48,
   "metadata": {
    "collapsed": false
   },
   "outputs": [],
   "source": [
    "cat_produto_Pacheco=pd.DataFrame(x)"
   ]
  },
  {
   "cell_type": "code",
   "execution_count": 49,
   "metadata": {
    "collapsed": true
   },
   "outputs": [],
   "source": [
    "cat_produto_Pacheco.columns =['categoria']"
   ]
  },
  {
   "cell_type": "code",
   "execution_count": 50,
   "metadata": {
    "collapsed": false
   },
   "outputs": [
    {
     "data": {
      "text/html": [
       "<div>\n",
       "<table border=\"1\" class=\"dataframe\">\n",
       "  <thead>\n",
       "    <tr style=\"text-align: right;\">\n",
       "      <th></th>\n",
       "      <th>categoria</th>\n",
       "    </tr>\n",
       "  </thead>\n",
       "  <tbody>\n",
       "    <tr>\n",
       "      <th>0</th>\n",
       "      <td>Alergias e Infecções</td>\n",
       "    </tr>\n",
       "    <tr>\n",
       "      <th>1</th>\n",
       "      <td>Diabetes</td>\n",
       "    </tr>\n",
       "    <tr>\n",
       "      <th>2</th>\n",
       "      <td>Digestão e Regulador Intestinal</td>\n",
       "    </tr>\n",
       "    <tr>\n",
       "      <th>3</th>\n",
       "      <td>Dor e Contusão</td>\n",
       "    </tr>\n",
       "    <tr>\n",
       "      <th>4</th>\n",
       "      <td>Gripes e Resfriados</td>\n",
       "    </tr>\n",
       "  </tbody>\n",
       "</table>\n",
       "</div>"
      ],
      "text/plain": [
       "                         categoria\n",
       "0             Alergias e Infecções\n",
       "1                         Diabetes\n",
       "2  Digestão e Regulador Intestinal\n",
       "3                   Dor e Contusão\n",
       "4              Gripes e Resfriados"
      ]
     },
     "execution_count": 50,
     "metadata": {},
     "output_type": "execute_result"
    }
   ],
   "source": [
    "cat_produto_Pacheco.head()"
   ]
  },
  {
   "cell_type": "code",
   "execution_count": 51,
   "metadata": {
    "collapsed": false
   },
   "outputs": [
    {
     "data": {
      "text/html": [
       "<div>\n",
       "<table border=\"1\" class=\"dataframe\">\n",
       "  <thead>\n",
       "    <tr style=\"text-align: right;\">\n",
       "      <th></th>\n",
       "      <th>categoria</th>\n",
       "    </tr>\n",
       "  </thead>\n",
       "  <tbody>\n",
       "    <tr>\n",
       "      <th>76</th>\n",
       "      <td>Kits Especiais</td>\n",
       "    </tr>\n",
       "    <tr>\n",
       "      <th>77</th>\n",
       "      <td>Acessórios</td>\n",
       "    </tr>\n",
       "    <tr>\n",
       "      <th>78</th>\n",
       "      <td>Aparelhos</td>\n",
       "    </tr>\n",
       "    <tr>\n",
       "      <th>79</th>\n",
       "      <td>Diabetes</td>\n",
       "    </tr>\n",
       "    <tr>\n",
       "      <th>80</th>\n",
       "      <td>Testes</td>\n",
       "    </tr>\n",
       "  </tbody>\n",
       "</table>\n",
       "</div>"
      ],
      "text/plain": [
       "         categoria\n",
       "76  Kits Especiais\n",
       "77      Acessórios\n",
       "78       Aparelhos\n",
       "79        Diabetes\n",
       "80          Testes"
      ]
     },
     "execution_count": 51,
     "metadata": {},
     "output_type": "execute_result"
    }
   ],
   "source": [
    "cat_produto_Pacheco.tail()"
   ]
  },
  {
   "cell_type": "code",
   "execution_count": 52,
   "metadata": {
    "collapsed": false
   },
   "outputs": [
    {
     "name": "stdout",
     "output_type": "stream",
     "text": [
      "[<a class=\"title_group\" href=\"/medicamentos/alergias-e-infeccoes/\">Alergias e Infecções</a>, <a class=\"title_group\" href=\"/medicamentos/diabetes/\">Diabetes</a>, <a class=\"title_group\" href=\"/medicamentos/digestao-e-regulador-intestinal/\">Digestão e Regulador Intestinal</a>, <a class=\"title_group\" href=\"/medicamentos/dor-e-contusao/\">Dor e Contusão</a>, <a class=\"title_group\" href=\"/medicamentos/gripes-e-resfriados/\">Gripes e Resfriados</a>, <a class=\"title_group\" href=\"/medicamentos/olhos/\">Olhos</a>, <a class=\"title_group\" href=\"/medicamentos/pele-e-mucosa/\">Pele e Mucosa</a>, <a class=\"title_group\" href=\"/medicamentos/pressao-alta/\">Pressão Alta</a>, <a class=\"title_group\" href=\"/medicamentos/respiratorio/\">Respiratório</a>, <a class=\"title_group\" href=\"/medicamentos/saude-feminina/\">Saúde Feminina</a>, <a class=\"title_group\" href=\"/medicamentos/saude-masculina/\">Saúde Masculina</a>, <a class=\"title_group\" href=\"/medicamentos/alergias-e-infeccoes/Genérico?map=c,c,spec_fct_18\">Alergias e Infecções</a>, <a class=\"title_group\" href=\"/medicamentos/diabetes/Genérico?map=c,c,spec_fct_18\">Diabetes</a>, <a class=\"title_group\" href=\"/medicamentos/digestao-e-regulador-intestinal/Genérico?map=c,c,spec_fct_18\">Digestão e Regulador Intestinal</a>, <a class=\"title_group\" href=\"/medicamentos/dor-e-contusao/Genérico?map=c,c,spec_fct_18\">Dor e Contusão</a>, <a class=\"title_group\" href=\"/medicamentos/gripes-e-resfriados/Genérico?map=c,c,spec_fct_18\">Gripes e Resfriados</a>, <a class=\"title_group\" href=\"/medicamentos/olhos/Genérico?map=c,c,spec_fct_18\">Olhos</a>, <a class=\"title_group\" href=\"/medicamentos/pele-e-mucosa/Genérico?map=c,c,spec_fct_18\">Pele e Mucosa</a>, <a class=\"title_group\" href=\"/medicamentos/pressao-alta/Genérico?map=c,c,spec_fct_18\">Pressão Alta</a>, <a class=\"title_group\" href=\"/medicamentos/respiratorio/Genérico?map=c,c,spec_fct_18\">Respiratório</a>, <a class=\"title_group\" href=\"/medicamentos/saude-feminina/Genérico?map=c,c,spec_fct_18\">Saúde Feminina</a>, <a class=\"title_group\" href=\"/medicamentos/saude-masculina/Genérico?map=c,c,spec_fct_18\">Saúde Masculina</a>, <a class=\"title_group\" href=\"/dermocosmeticos/capilar\">Cabelo</a>, <a class=\"title_group\" href=\"/dermocosmeticos/corporal\">Corpo</a>, <a class=\"title_group\" href=\"/dermocosmeticos/olhos\">Olhos</a>, <a class=\"title_group\" href=\"/dermocosmeticos/rosto\">Rosto</a>, <a class=\"title_group\" href=\"/dermocosmeticos/nutricosmeticos\">Nutricosméticos</a>, <a class=\"title_group\" href=\"/higiene/absorventes\">Absorventes</a>, <a class=\"title_group\" href=\"/higiene/barba\">Barba</a>, <a class=\"title_group\" href=\"/higiene/higiene-oral\">Higiene Oral</a>, <a class=\"title_group\" href=\"/higiene/higiene-pessoal\">Higiene Pessoal</a>, <a class=\"title_group\" href=\"/higiene/higiene-corporal\">Higiene Corporal</a>, <a class=\"title_group\" href=\"/higiene/shampoo\">Shampoo</a>, <a class=\"title_group\" href=\"/higiene/condicionador\">Condicionador</a>, <a class=\"title_group\" href=\"/higiene/kit?PS=20&amp;utmi_p=_kit&amp;utmi_pc=Refino Full Text&amp;utmi_cp=kit\">Kits Especiais</a>, <a class=\"title_group\" href=\"/higiene/repelentes\">Repelentes</a>, <a class=\"title_group\" href=\"/higiene/pes\">Pés</a>, <a class=\"title_group\" href=\"/higiene/geriatrico\">Geriátrico</a>, <a class=\"title_group\" href=\"/higiene/repelentes\">Repelentes</a>, <a class=\"title_group\" href=\"/higiene/vida-sexual\">Vida Sexual</a>, <a class=\"title_group\" href=\"/bebe-e-mamae/alimentos-infantis\">Alimentos Infantis</a>, <a class=\"title_group\" href=\"/bebe-e-mamae/acessorios-infantis\">Acessórios Infantis</a>, <a class=\"title_group\" href=\"/bebe-e-mamae/corpo-e-banho\">Corpo e Banho</a>, <a class=\"title_group\" href=\"/bebe-e-mamae/cuidado-bucal-infantil\">Cuidado Bucal Infantil</a>, <a class=\"title_group\" href=\"/bebe-e-mamae/fraldas/fraldas\">Fraldas</a>, <a class=\"title_group\" href=\"/bebe-e-mamae/para-troca-do-bebe\">Para troca do bebê</a>, <a class=\"title_group\" href=\"/bebe-e-mamae/cuidado-com-a-mae\">Cuidado com a Mãe</a>, <a class=\"title_group\" href=\"/bebe-e-mamae/kit?PS=20&amp;utmi_p=_kit&amp;utmi_pc=Refino Full Text&amp;utmi_cp=kit\">Kits e Presentes</a>, <a class=\"title_group\" href=\"/ortopedia-e-acessorios/acessorios\">Acessórios</a>, <a class=\"title_group\" href=\"/ortopedia-e-acessorios/cabeca\">Cabeça</a>, <a class=\"title_group\" href=\"/ortopedia-e-acessorios/maos-e-bracos\">Mãos e Braços</a>, <a class=\"title_group\" href=\"/ortopedia-e-acessorios/pes-e-pernas\">Pés e Pernas</a>, <a class=\"title_group\" href=\"/estetica/acessorios\">Acessórios</a>, <a class=\"title_group\" href=\"/estetica/cuidados-com-a-pele\">Cuidados com a Pele</a>, <a class=\"title_group\" href=\"/estetica/depilacao\">Depilação</a>, <a class=\"title_group\" href=\"/estetica/masculino?PS=20&amp;utmi_p=_masculino&amp;utmi_pc=Refino Full Text&amp;utmi_cp=masculino\">Estética Masculina</a>, <a class=\"title_group\" href=\"/estetica/finalizacao-e-tratamento\">Finalização e Tratamento Capilar</a>, <a class=\"title_group\" href=\"/estetica/kit?PS=20&amp;utmi_p=_kit&amp;utmi_pc=Refino Full Text&amp;utmi_cp=kit\">Kits Especiais</a>, <a class=\"title_group\" href=\"/estetica/protetor-solar\">Protetor Solar</a>, <a class=\"title_group\" href=\"/estetica/tintura-e-tratamento\">Tintura e Tratamento</a>, <a class=\"title_group\" href=\"/estetica/unhas\">Unhas</a>, <a class=\"title_group\" href=\"/nutricao-e-alimentos/alimentos\">Alimentos</a>, <a class=\"title_group\" href=\"/nutricao-e-alimentos/bebidas\">Bebidas</a>, <a class=\"title_group\" href=\"/bebe-e-mamae/alimentos-infantis\">Nutrição Infantil</a>, <a class=\"title_group\" href=\"/nutricao-e-alimentos/emagrecedores\">Emagrecedores</a>, <a class=\"title_group\" href=\"/nutricao-e-alimentos/nutricao-esportiva\">Nutrição Esportiva</a>, <a class=\"title_group\" href=\"/perfumaria/colonias\">Colônias</a>, <a class=\"title_group\" href=\"/perfumaria/desodorante-aerosol\">Desodorante Aerosol</a>, <a class=\"title_group\" href=\"/perfumaria/desodorante-roll-on-e-creme\">Desodorante Creme e Roll-on</a>, <a class=\"title_group\" href=\"/perfumaria/desodorante-spray\">Desodorante Spray</a>, <a class=\"title_group\" href=\"/perfumaria/perfume-de-ambiente\">Perfume de Ambiente</a>, <a class=\"title_group\" href=\"/perfumaria/kit?PS=20&amp;utmi_p=_kit&amp;utmi_pc=Refino Full Text&amp;utmi_cp=kit\">Kits Especiais</a>, <a class=\"title_group\" href=\"/maquiagem/rosto\">Rosto</a>, <a class=\"title_group\" href=\"/maquiagem/labios\">Lábios</a>, <a class=\"title_group\" href=\"/maquiagem/olhos\">Olhos</a>, <a class=\"title_group\" href=\"/estetica/unhas\">Unhas</a>, <a class=\"title_group\" href=\"/maquiagem/rosto/kits-especiais\">Kits Especiais</a>, <a class=\"title_group\" href=\"\">Acessórios</a>, <a class=\"title_group\" href=\"/testes-e-aparelhos/\">Aparelhos</a>, <a class=\"title_group\" href=\"/testes-e-aparelhos/diabetes\">Diabetes</a>, <a class=\"title_group\" href=\"/testes-e-aparelhos\">Testes</a>]\n"
     ]
    }
   ],
   "source": [
    "print list_grupo"
   ]
  },
  {
   "cell_type": "code",
   "execution_count": 5,
   "metadata": {
    "collapsed": false
   },
   "outputs": [
    {
     "name": "stdout",
     "output_type": "stream",
     "text": [
      "<a class=\"logo\" href=\"/\" title=\"Drogaria Pacheco\"><img src=\"//drogariaspacheco.vteximg.com.br/arquivos/logo-drogarias-pacheco.png\" title=\"Drogarias Pacheco\"/></a>\n",
      "<a class=\"sprite ico_lojas\" href=\"/institucional/nossas-lojas\">Encontre <strong>Nossas lojas</strong></a>\n",
      "<a class=\"sprite ico_atendimento\" href=\"/central-de-atendimento\">Central de <strong>Atendimento</strong></a>\n",
      "<a href=\"/medicamentos/saude-masculina/queda-de-cabelo/Genérico?map=c,c,c,spec_fct_18\">Queda de Cabelo</a>\n",
      "/central-de-atendimento\n"
     ]
    }
   ],
   "source": [
    "# Retrieve all of the anchor tags\n",
    "tags = soup('a')\n",
    "\n",
    "# Show tag and URL of interest\n",
    "url_enter=tags[2].get('href', None)\n",
    "\n",
    "print tags[0]\n",
    "print tags[1]\n",
    "print tags[2]\n",
    "print tags[100]\n",
    "\n",
    "#print(\"\\n\")\n",
    "print url_enter"
   ]
  },
  {
   "cell_type": "code",
   "execution_count": null,
   "metadata": {
    "collapsed": true
   },
   "outputs": [],
   "source": []
  },
  {
   "cell_type": "code",
   "execution_count": null,
   "metadata": {
    "collapsed": false
   },
   "outputs": [],
   "source": [
    "cat_level_01=[]\n",
    "tags = soup('a')\n",
    "for tag in tags:\n",
    "    # print tag.get('href',None)\n",
    "    # Look at the parts of a tag\n",
    "    #print 'TAG:',tag\n",
    "    print \"\\n\"\n",
    "   # print 'URL:',tag.get('href', None)\n",
    "   # print 'Contents:',tag.contents[0]\n",
    "    print 'Attrs:',tag.attrs\n",
    "    #cat_level_01.append\n",
    "    #letters = soup.findAll(\"div\", class_=\"title_group\")\n",
    "    letters = soup.findAll(\"div\", {'class':'title_group'})"
   ]
  },
  {
   "cell_type": "code",
   "execution_count": 40,
   "metadata": {
    "collapsed": false
   },
   "outputs": [
    {
     "data": {
      "text/plain": [
       "[]"
      ]
     },
     "execution_count": 40,
     "metadata": {},
     "output_type": "execute_result"
    }
   ],
   "source": [
    "letters"
   ]
  },
  {
   "cell_type": "code",
   "execution_count": 32,
   "metadata": {
    "collapsed": false
   },
   "outputs": [
    {
     "name": "stdout",
     "output_type": "stream",
     "text": [
      "<!DOCTYPE html PUBLIC \"-//W3C//DTD XHTML 1.0 Strict//EN\" \"http://www.w3.org/TR/xhtml1/DTD/xhtml1-strict.dtd\">\n",
      "<html lang=\"en-us\" xmlns=\"http://www.w3.org/1999/xhtml\" xmlns:vtex=\"http://www.vtex.com.br/2009/vtex-common\" xmlns:vtex.cmc=\"http://www.vtex.com.br/2009/vtex-commerce\">\n",
      " <head>\n",
      "  <meta content=\"pt-BR\" name=\"language\"/>\n",
      "  <meta content=\"BRA\" name=\"country\"/>\n",
      "  <meta content=\"R$\" name=\"currency\"/>\n",
      "  <meta content=\"text/html;charset=utf-8\" http-equiv=\"Content-Type\"/>\n",
      "  <meta content=\"Compre Medicamentos, Genéricos, Perfumaria e Ítens de Higiene Pessoal na Drogarias Pacheco | Entrega Rápida e Segura | Parcele em até 3 vezes sem Juros!\" name=\"description\"/>\n",
      "  <meta content=\"Driogarias Pacheco\" name=\"Abstract\"/>\n",
      "  <meta content=\"Driogarias Pacheco\" name=\"author\"/>\n",
      "  <meta content=\"Driogarias Pacheco\" name=\"copyright\"/>\n",
      "  <meta content=\"1.4.491.959\" name=\"vtex-version\"/>\n",
      "  <meta content=\"no-cache\" http-equiv=\"pragma\"/>\n",
      "  <link href=\"//drogariaspacheco.vteximg.com.br/arquivos/favicon.i\n"
     ]
    }
   ],
   "source": [
    "print soup.prettify()[0:1000]"
   ]
  },
  {
   "cell_type": "code",
   "execution_count": 29,
   "metadata": {
    "collapsed": false
   },
   "outputs": [
    {
     "data": {
      "text/plain": [
       "bs4.element.ResultSet"
      ]
     },
     "execution_count": 29,
     "metadata": {},
     "output_type": "execute_result"
    }
   ],
   "source": [
    "type(tags)"
   ]
  },
  {
   "cell_type": "code",
   "execution_count": 34,
   "metadata": {
    "collapsed": false
   },
   "outputs": [
    {
     "data": {
      "text/plain": [
       "0"
      ]
     },
     "execution_count": 34,
     "metadata": {},
     "output_type": "execute_result"
    }
   ],
   "source": [
    "len(letters)"
   ]
  },
  {
   "cell_type": "code",
   "execution_count": 35,
   "metadata": {
    "collapsed": false
   },
   "outputs": [
    {
     "data": {
      "text/plain": [
       "bs4.element.ResultSet"
      ]
     },
     "execution_count": 35,
     "metadata": {},
     "output_type": "execute_result"
    }
   ],
   "source": [
    "type(letters)"
   ]
  },
  {
   "cell_type": "code",
   "execution_count": 36,
   "metadata": {
    "collapsed": false
   },
   "outputs": [
    {
     "ename": "IndexError",
     "evalue": "list index out of range",
     "output_type": "error",
     "traceback": [
      "\u001b[1;31m---------------------------------------------------------------------------\u001b[0m",
      "\u001b[1;31mIndexError\u001b[0m                                Traceback (most recent call last)",
      "\u001b[1;32m<ipython-input-36-5f4b58e0ed1f>\u001b[0m in \u001b[0;36m<module>\u001b[1;34m()\u001b[0m\n\u001b[1;32m----> 1\u001b[1;33m \u001b[0mletters\u001b[0m\u001b[1;33m[\u001b[0m\u001b[1;36m0\u001b[0m\u001b[1;33m]\u001b[0m\u001b[1;33m\u001b[0m\u001b[0m\n\u001b[0m",
      "\u001b[1;31mIndexError\u001b[0m: list index out of range"
     ]
    }
   ],
   "source": [
    "letters[0]"
   ]
  },
  {
   "cell_type": "code",
   "execution_count": null,
   "metadata": {
    "collapsed": true
   },
   "outputs": [],
   "source": []
  }
 ],
 "metadata": {
  "kernelspec": {
   "display_name": "Python 2",
   "language": "python",
   "name": "python2"
  },
  "language_info": {
   "codemirror_mode": {
    "name": "ipython",
    "version": 2
   },
   "file_extension": ".py",
   "mimetype": "text/x-python",
   "name": "python",
   "nbconvert_exporter": "python",
   "pygments_lexer": "ipython2",
   "version": "2.7.10"
  }
 },
 "nbformat": 4,
 "nbformat_minor": 0
}
