{
 "cells": [
  {
   "cell_type": "markdown",
   "metadata": {},
   "source": [
    "## Scraping de Dados de Site de Pesquisa de Remédios"
   ]
  },
  {
   "cell_type": "markdown",
   "metadata": {},
   "source": [
    "### Versão 1.0.0."
   ]
  },
  {
   "cell_type": "markdown",
   "metadata": {},
   "source": [
    "### Data: 2015/12/28"
   ]
  },
  {
   "cell_type": "code",
   "execution_count": 1,
   "metadata": {
    "collapsed": false
   },
   "outputs": [],
   "source": [
    "import urllib\n",
    "from BeautifulSoup import *\n",
    "#from bs4 import *\n",
    "import re"
   ]
  },
  {
   "cell_type": "code",
   "execution_count": 2,
   "metadata": {
    "collapsed": true
   },
   "outputs": [],
   "source": [
    "import pandas as pd"
   ]
  },
  {
   "cell_type": "code",
   "execution_count": 3,
   "metadata": {
    "collapsed": true
   },
   "outputs": [],
   "source": [
    "# # Scraping - First level - Losartana\n",
    "# ====================================\n",
    "url = 'http://www.pesquisemedicamentos.com.br/site/medicamentos_busca/losartana/medicamentos_nome/1/ordem_nome/12'\n",
    "html = urllib.urlopen(url).read()\n",
    "soup = BeautifulSoup(html)"
   ]
  },
  {
   "cell_type": "code",
   "execution_count": null,
   "metadata": {
    "collapsed": true
   },
   "outputs": [],
   "source": []
  },
  {
   "cell_type": "code",
   "execution_count": 144,
   "metadata": {
    "collapsed": true
   },
   "outputs": [],
   "source": [
    "cat_level_01=[]   # to hold links, eventually\n",
    "# tags = soup('a')"
   ]
  },
  {
   "cell_type": "code",
   "execution_count": 155,
   "metadata": {
    "collapsed": true
   },
   "outputs": [],
   "source": [
    "# Mostra todas anchor tags\n",
    "tags = soup.findAll('a')"
   ]
  },
  {
   "cell_type": "code",
   "execution_count": null,
   "metadata": {
    "collapsed": true
   },
   "outputs": [],
   "source": []
  },
  {
   "cell_type": "code",
   "execution_count": 156,
   "metadata": {
    "collapsed": false
   },
   "outputs": [
    {
     "name": "stdout",
     "output_type": "stream",
     "text": [
      "\n",
      "\n",
      "Attrs: [(u'href', u'/'), (u'class', u'navbar-brand logo logo-title')]\n",
      "\n",
      "\n",
      "Attrs: [(u'href', u'/site/empresa')]\n",
      "\n",
      "\n",
      "Attrs: [(u'href', u'/site/noticias')]\n",
      "\n",
      "\n",
      "Attrs: [(u'href', u'/site/doencas')]\n",
      "\n",
      "\n",
      "Attrs: [(u'href', u'/site/entenda')]\n",
      "\n",
      "\n",
      "Attrs: [(u'href', u'/site/contato')]\n",
      "\n",
      "\n",
      "Attrs: [(u'class', u'btn btn-block btn-border btn-post btn-primary bold'), (u'href', u'https://cdlcenter.com?utm_source=PesquiseMedicamentos.com.br&utm_medium=LojaOnline')]\n",
      "\n",
      "\n",
      "Attrs: [(u'href', u'http://www.pesquisemedicamentos.com.br/site/entenda')]\n",
      "\n",
      "\n",
      "Attrs: [(u'href', u'http://www.pesquisemedicamentos.com.br/site/entenda/20/Link-remedios')]\n",
      "\n",
      "\n",
      "Attrs: [(u'href', u'http://www.pesquisemedicamentos.com.br/site/entenda/29/O-poder-do-AMARANTO')]\n",
      "\n",
      "\n",
      "Attrs: [(u'href', u'http://www.pesquisemedicamentos.com.br/site/entenda/53/Lista-oficial-de-medicamentos-gratuitos-contra-diabetes-e-hipertensao-pelo-Farmacia-Popular')]\n",
      "\n",
      "\n",
      "Attrs: [(u'href', u'http://www.pesquisemedicamentos.com.br/site/entenda')]\n",
      "\n",
      "\n",
      "Attrs: [(u'target', u'_blank'), (u'href', u'http://portal.saude.gov.br')]\n",
      "\n",
      "\n",
      "Attrs: [(u'target', u'_blank'), (u'href', u'http://www.anvisa.gov.br/')]\n",
      "\n",
      "\n",
      "Attrs: [(u'class', u'texto text-center'), (u'href', u'http://www.pesquisemedicamentos.com.br/site/medicamentos/228519/losartana/medicamentos_nome/LOSARTANA-POTASSICA-50MG-CX-60-COMP-GENERICO-TEUTO')]\n",
      "\n",
      "\n",
      "Attrs: [(u'style', u'text-decoration:none;'), (u'class', u'texto'), (u'href', u'http://www.pesquisemedicamentos.com.br/site/medicamentos/228519/losartana/medicamentos_nome/LOSARTANA-POTASSICA-50MG-CX-60-COMP-GENERICO-TEUTO')]\n",
      "\n",
      "\n",
      "Attrs: [(u'style', u'text-decoration:none;'), (u'class', u'texto'), (u'target', u'_top'), (u'href', u'http://www.pesquisemedicamentos.com.br/site/medicamentos/228519/losartana/medicamentos_nome/LOSARTANA-POTASSICA-50MG-CX-60-COMP-GENERICO-TEUTO')]\n",
      "\n",
      "\n",
      "Attrs: [(u'style', u'text-decoration:none;'), (u'class', u'texto'), (u'target', u'_top'), (u'href', u'http://www.pesquisemedicamentos.com.br/site/medicamentos/228519/losartana/medicamentos_nome/LOSARTANA-POTASSICA-50MG-CX-60-COMP-GENERICO-TEUTO')]\n",
      "\n",
      "\n",
      "Attrs: [(u'title', u'https://cdlcenter.com/busca/'), (u'style', u'text-decoration:none;'), (u'class', u'texto hidden-xs'), (u'target', u'_blank'), (u'href', u'https://cdlcenter.com/busca/LOSARTANA POTASSICA?utm_source=PesquiseMedicamentos.com.br&utm_medium=Busca')]\n",
      "\n",
      "\n",
      "Attrs: [(u'title', u'https://cdlcenter.com/busca/'), (u'style', u'text-decoration:none;'), (u'class', u'texto visible-xs'), (u'target', u'_blank'), (u'href', u'https://cdlcenter.com/busca/LOSARTANA POTASSICA?utm_source=PesquiseMedicamentos.com.br&utm_medium=Busca')]\n",
      "\n",
      "\n",
      "Attrs: [(u'class', u'texto text-center'), (u'href', u'http://www.pesquisemedicamentos.com.br/site/medicamentos/219498/losartana/medicamentos_nome/LOSARTANA-POTASSICA-50MG-CX-60-COMP-GENERICO-MEDLEY')]\n",
      "\n",
      "\n",
      "Attrs: [(u'style', u'text-decoration:none;'), (u'class', u'texto'), (u'href', u'http://www.pesquisemedicamentos.com.br/site/medicamentos/219498/losartana/medicamentos_nome/LOSARTANA-POTASSICA-50MG-CX-60-COMP-GENERICO-MEDLEY')]\n",
      "\n",
      "\n",
      "Attrs: [(u'style', u'text-decoration:none;'), (u'class', u'texto'), (u'target', u'_top'), (u'href', u'http://www.pesquisemedicamentos.com.br/site/medicamentos/219498/losartana/medicamentos_nome/LOSARTANA-POTASSICA-50MG-CX-60-COMP-GENERICO-MEDLEY')]\n",
      "\n",
      "\n",
      "Attrs: [(u'style', u'text-decoration:none;'), (u'class', u'texto'), (u'target', u'_top'), (u'href', u'http://www.pesquisemedicamentos.com.br/site/medicamentos/219498/losartana/medicamentos_nome/LOSARTANA-POTASSICA-50MG-CX-60-COMP-GENERICO-MEDLEY')]\n",
      "\n",
      "\n",
      "Attrs: [(u'title', u'https://cdlcenter.com/busca/'), (u'style', u'text-decoration:none;'), (u'class', u'texto hidden-xs'), (u'target', u'_blank'), (u'href', u'https://cdlcenter.com/busca/LOSARTANA POTASSICA?utm_source=PesquiseMedicamentos.com.br&utm_medium=Busca')]\n",
      "\n",
      "\n",
      "Attrs: [(u'title', u'https://cdlcenter.com/busca/'), (u'style', u'text-decoration:none;'), (u'class', u'texto visible-xs'), (u'target', u'_blank'), (u'href', u'https://cdlcenter.com/busca/LOSARTANA POTASSICA?utm_source=PesquiseMedicamentos.com.br&utm_medium=Busca')]\n",
      "\n",
      "\n",
      "Attrs: [(u'class', u'texto text-center'), (u'href', u'http://www.pesquisemedicamentos.com.br/site/medicamentos/227567/losartana/medicamentos_nome/LOSARTANA-POTASSICA-50MG-CX-3BL-X-10-COMP-GENERICO-LEGRAND-GENERICOS')]\n",
      "\n",
      "\n",
      "Attrs: [(u'style', u'text-decoration:none;'), (u'class', u'texto'), (u'href', u'http://www.pesquisemedicamentos.com.br/site/medicamentos/227567/losartana/medicamentos_nome/LOSARTANA-POTASSICA-50MG-CX-3BL-X-10-COMP-GENERICO-LEGRAND-GENERICOS')]\n",
      "\n",
      "\n",
      "Attrs: [(u'style', u'text-decoration:none;'), (u'class', u'texto'), (u'target', u'_top'), (u'href', u'http://www.pesquisemedicamentos.com.br/site/medicamentos/227567/losartana/medicamentos_nome/LOSARTANA-POTASSICA-50MG-CX-3BL-X-10-COMP-GENERICO-LEGRAND-GENERICOS')]\n",
      "\n",
      "\n",
      "Attrs: [(u'style', u'text-decoration:none;'), (u'class', u'texto'), (u'target', u'_top'), (u'href', u'http://www.pesquisemedicamentos.com.br/site/medicamentos/227567/losartana/medicamentos_nome/LOSARTANA-POTASSICA-50MG-CX-3BL-X-10-COMP-GENERICO-LEGRAND-GENERICOS')]\n",
      "\n",
      "\n",
      "Attrs: [(u'title', u'https://cdlcenter.com/busca/'), (u'style', u'text-decoration:none;'), (u'class', u'texto hidden-xs'), (u'target', u'_blank'), (u'href', u'https://cdlcenter.com/busca/LOSARTANA POTASSICA?utm_source=PesquiseMedicamentos.com.br&utm_medium=Busca')]\n",
      "\n",
      "\n",
      "Attrs: [(u'title', u'https://cdlcenter.com/busca/'), (u'style', u'text-decoration:none;'), (u'class', u'texto visible-xs'), (u'target', u'_blank'), (u'href', u'https://cdlcenter.com/busca/LOSARTANA POTASSICA?utm_source=PesquiseMedicamentos.com.br&utm_medium=Busca')]\n",
      "\n",
      "\n",
      "Attrs: [(u'class', u'texto text-center'), (u'href', u'http://www.pesquisemedicamentos.com.br/site/medicamentos/227557/losartana/medicamentos_nome/LOSARTANA-POTASSICA-50MG-CX-3BL-X-10-COMP-GENERICO-GENERICOS-GERMED')]\n",
      "\n",
      "\n",
      "Attrs: [(u'style', u'text-decoration:none;'), (u'class', u'texto'), (u'href', u'http://www.pesquisemedicamentos.com.br/site/medicamentos/227557/losartana/medicamentos_nome/LOSARTANA-POTASSICA-50MG-CX-3BL-X-10-COMP-GENERICO-GENERICOS-GERMED')]\n",
      "\n",
      "\n",
      "Attrs: [(u'style', u'text-decoration:none;'), (u'class', u'texto'), (u'target', u'_top'), (u'href', u'http://www.pesquisemedicamentos.com.br/site/medicamentos/227557/losartana/medicamentos_nome/LOSARTANA-POTASSICA-50MG-CX-3BL-X-10-COMP-GENERICO-GENERICOS-GERMED')]\n",
      "\n",
      "\n",
      "Attrs: [(u'style', u'text-decoration:none;'), (u'class', u'texto'), (u'target', u'_top'), (u'href', u'http://www.pesquisemedicamentos.com.br/site/medicamentos/227557/losartana/medicamentos_nome/LOSARTANA-POTASSICA-50MG-CX-3BL-X-10-COMP-GENERICO-GENERICOS-GERMED')]\n",
      "\n",
      "\n",
      "Attrs: [(u'title', u'https://cdlcenter.com/busca/'), (u'style', u'text-decoration:none;'), (u'class', u'texto hidden-xs'), (u'target', u'_blank'), (u'href', u'https://cdlcenter.com/busca/LOSARTANA POTASSICA?utm_source=PesquiseMedicamentos.com.br&utm_medium=Busca')]\n",
      "\n",
      "\n",
      "Attrs: [(u'title', u'https://cdlcenter.com/busca/'), (u'style', u'text-decoration:none;'), (u'class', u'texto visible-xs'), (u'target', u'_blank'), (u'href', u'https://cdlcenter.com/busca/LOSARTANA POTASSICA?utm_source=PesquiseMedicamentos.com.br&utm_medium=Busca')]\n",
      "\n",
      "\n",
      "Attrs: [(u'class', u'texto text-center'), (u'href', u'http://www.pesquisemedicamentos.com.br/site/medicamentos/229296/losartana/medicamentos_nome/LOSARTANA-POTASSICA-50MG-CX-300-COMP-REV-HOSP-GENERICO-PRATI-DONADUZZI')]\n",
      "\n",
      "\n",
      "Attrs: [(u'style', u'text-decoration:none;'), (u'class', u'texto'), (u'href', u'http://www.pesquisemedicamentos.com.br/site/medicamentos/229296/losartana/medicamentos_nome/LOSARTANA-POTASSICA-50MG-CX-300-COMP-REV-HOSP-GENERICO-PRATI-DONADUZZI')]\n",
      "\n",
      "\n",
      "Attrs: [(u'style', u'text-decoration:none;'), (u'class', u'texto'), (u'target', u'_top'), (u'href', u'http://www.pesquisemedicamentos.com.br/site/medicamentos/229296/losartana/medicamentos_nome/LOSARTANA-POTASSICA-50MG-CX-300-COMP-REV-HOSP-GENERICO-PRATI-DONADUZZI')]\n",
      "\n",
      "\n",
      "Attrs: [(u'style', u'text-decoration:none;'), (u'class', u'texto'), (u'target', u'_top'), (u'href', u'http://www.pesquisemedicamentos.com.br/site/medicamentos/229296/losartana/medicamentos_nome/LOSARTANA-POTASSICA-50MG-CX-300-COMP-REV-HOSP-GENERICO-PRATI-DONADUZZI')]\n",
      "\n",
      "\n",
      "Attrs: [(u'title', u'https://cdlcenter.com/busca/'), (u'style', u'text-decoration:none;'), (u'class', u'texto hidden-xs'), (u'target', u'_blank'), (u'href', u'https://cdlcenter.com/busca/LOSARTANA POTASSICA?utm_source=PesquiseMedicamentos.com.br&utm_medium=Busca')]\n",
      "\n",
      "\n",
      "Attrs: [(u'title', u'https://cdlcenter.com/busca/'), (u'style', u'text-decoration:none;'), (u'class', u'texto visible-xs'), (u'target', u'_blank'), (u'href', u'https://cdlcenter.com/busca/LOSARTANA POTASSICA?utm_source=PesquiseMedicamentos.com.br&utm_medium=Busca')]\n",
      "\n",
      "\n",
      "Attrs: [(u'class', u'texto text-center'), (u'href', u'http://www.pesquisemedicamentos.com.br/site/medicamentos/229295/losartana/medicamentos_nome/LOSARTANA-POTASSICA-50MG-CX-30-COMP-REV-GENERICO-PRATI-DONADUZZI')]\n",
      "\n",
      "\n",
      "Attrs: [(u'style', u'text-decoration:none;'), (u'class', u'texto'), (u'href', u'http://www.pesquisemedicamentos.com.br/site/medicamentos/229295/losartana/medicamentos_nome/LOSARTANA-POTASSICA-50MG-CX-30-COMP-REV-GENERICO-PRATI-DONADUZZI')]\n",
      "\n",
      "\n",
      "Attrs: [(u'style', u'text-decoration:none;'), (u'class', u'texto'), (u'target', u'_top'), (u'href', u'http://www.pesquisemedicamentos.com.br/site/medicamentos/229295/losartana/medicamentos_nome/LOSARTANA-POTASSICA-50MG-CX-30-COMP-REV-GENERICO-PRATI-DONADUZZI')]\n",
      "\n",
      "\n",
      "Attrs: [(u'style', u'text-decoration:none;'), (u'class', u'texto'), (u'target', u'_top'), (u'href', u'http://www.pesquisemedicamentos.com.br/site/medicamentos/229295/losartana/medicamentos_nome/LOSARTANA-POTASSICA-50MG-CX-30-COMP-REV-GENERICO-PRATI-DONADUZZI')]\n",
      "\n",
      "\n",
      "Attrs: [(u'title', u'https://cdlcenter.com/Losartana-Potassica-50-Mg-C--30-Comprimidos---Prati---Generico/produto/8886-0-0'), (u'style', u'text-decoration:none;'), (u'class', u'texto hidden-xs'), (u'target', u'_blank'), (u'href', u'https://cdlcenter.com/Losartana-Potassica-50-Mg-C--30-Comprimidos---Prati---Generico/produto/8886-0-0?utm_source=PesquiseMedicamentos.com.br&utm_medium=Busca')]\n",
      "\n",
      "\n",
      "Attrs: [(u'title', u'https://cdlcenter.com/Losartana-Potassica-50-Mg-C--30-Comprimidos---Prati---Generico/produto/8886-0-0'), (u'style', u'text-decoration:none;'), (u'class', u'texto visible-xs'), (u'target', u'_blank'), (u'href', u'https://cdlcenter.com/Losartana-Potassica-50-Mg-C--30-Comprimidos---Prati---Generico/produto/8886-0-0?utm_source=PesquiseMedicamentos.com.br&utm_medium=Busca')]\n",
      "\n",
      "\n",
      "Attrs: [(u'class', u'texto text-center'), (u'href', u'http://www.pesquisemedicamentos.com.br/site/medicamentos/226799/losartana/medicamentos_nome/LOSARTANA-POTASSICA-50MG-CX-30-COMP-GENERICO-ZYDUS')]\n",
      "\n",
      "\n",
      "Attrs: [(u'style', u'text-decoration:none;'), (u'class', u'texto'), (u'href', u'http://www.pesquisemedicamentos.com.br/site/medicamentos/226799/losartana/medicamentos_nome/LOSARTANA-POTASSICA-50MG-CX-30-COMP-GENERICO-ZYDUS')]\n",
      "\n",
      "\n",
      "Attrs: [(u'style', u'text-decoration:none;'), (u'class', u'texto'), (u'target', u'_top'), (u'href', u'http://www.pesquisemedicamentos.com.br/site/medicamentos/226799/losartana/medicamentos_nome/LOSARTANA-POTASSICA-50MG-CX-30-COMP-GENERICO-ZYDUS')]\n",
      "\n",
      "\n",
      "Attrs: [(u'style', u'text-decoration:none;'), (u'class', u'texto'), (u'target', u'_top'), (u'href', u'http://www.pesquisemedicamentos.com.br/site/medicamentos/226799/losartana/medicamentos_nome/LOSARTANA-POTASSICA-50MG-CX-30-COMP-GENERICO-ZYDUS')]\n",
      "\n",
      "\n",
      "Attrs: [(u'title', u'https://cdlcenter.com/busca/'), (u'style', u'text-decoration:none;'), (u'class', u'texto hidden-xs'), (u'target', u'_blank'), (u'href', u'https://cdlcenter.com/busca/LOSARTANA POTASSICA?utm_source=PesquiseMedicamentos.com.br&utm_medium=Busca')]\n",
      "\n",
      "\n",
      "Attrs: [(u'title', u'https://cdlcenter.com/busca/'), (u'style', u'text-decoration:none;'), (u'class', u'texto visible-xs'), (u'target', u'_blank'), (u'href', u'https://cdlcenter.com/busca/LOSARTANA POTASSICA?utm_source=PesquiseMedicamentos.com.br&utm_medium=Busca')]\n",
      "\n",
      "\n",
      "Attrs: [(u'class', u'texto text-center'), (u'href', u'http://www.pesquisemedicamentos.com.br/site/medicamentos/227112/losartana/medicamentos_nome/LOSARTANA-POTASSICA-50MG-CX-30-COMP-GENERICO-TEUTO')]\n",
      "\n",
      "\n",
      "Attrs: [(u'style', u'text-decoration:none;'), (u'class', u'texto'), (u'href', u'http://www.pesquisemedicamentos.com.br/site/medicamentos/227112/losartana/medicamentos_nome/LOSARTANA-POTASSICA-50MG-CX-30-COMP-GENERICO-TEUTO')]\n",
      "\n",
      "\n",
      "Attrs: [(u'style', u'text-decoration:none;'), (u'class', u'texto'), (u'target', u'_top'), (u'href', u'http://www.pesquisemedicamentos.com.br/site/medicamentos/227112/losartana/medicamentos_nome/LOSARTANA-POTASSICA-50MG-CX-30-COMP-GENERICO-TEUTO')]\n",
      "\n",
      "\n",
      "Attrs: [(u'style', u'text-decoration:none;'), (u'class', u'texto'), (u'target', u'_top'), (u'href', u'http://www.pesquisemedicamentos.com.br/site/medicamentos/227112/losartana/medicamentos_nome/LOSARTANA-POTASSICA-50MG-CX-30-COMP-GENERICO-TEUTO')]\n",
      "\n",
      "\n",
      "Attrs: [(u'title', u'https://cdlcenter.com/busca/'), (u'style', u'text-decoration:none;'), (u'class', u'texto hidden-xs'), (u'target', u'_blank'), (u'href', u'https://cdlcenter.com/busca/LOSARTANA POTASSICA?utm_source=PesquiseMedicamentos.com.br&utm_medium=Busca')]\n",
      "\n",
      "\n",
      "Attrs: [(u'title', u'https://cdlcenter.com/busca/'), (u'style', u'text-decoration:none;'), (u'class', u'texto visible-xs'), (u'target', u'_blank'), (u'href', u'https://cdlcenter.com/busca/LOSARTANA POTASSICA?utm_source=PesquiseMedicamentos.com.br&utm_medium=Busca')]\n",
      "\n",
      "\n",
      "Attrs: [(u'class', u'texto text-center'), (u'href', u'http://www.pesquisemedicamentos.com.br/site/medicamentos/224274/losartana/medicamentos_nome/LOSARTANA-POTASSICA-50MG-CX-30-COMP-GENERICO-RANBAXY')]\n",
      "\n",
      "\n",
      "Attrs: [(u'style', u'text-decoration:none;'), (u'class', u'texto'), (u'href', u'http://www.pesquisemedicamentos.com.br/site/medicamentos/224274/losartana/medicamentos_nome/LOSARTANA-POTASSICA-50MG-CX-30-COMP-GENERICO-RANBAXY')]\n",
      "\n",
      "\n",
      "Attrs: [(u'style', u'text-decoration:none;'), (u'class', u'texto'), (u'target', u'_top'), (u'href', u'http://www.pesquisemedicamentos.com.br/site/medicamentos/224274/losartana/medicamentos_nome/LOSARTANA-POTASSICA-50MG-CX-30-COMP-GENERICO-RANBAXY')]\n",
      "\n",
      "\n",
      "Attrs: [(u'style', u'text-decoration:none;'), (u'class', u'texto'), (u'target', u'_top'), (u'href', u'http://www.pesquisemedicamentos.com.br/site/medicamentos/224274/losartana/medicamentos_nome/LOSARTANA-POTASSICA-50MG-CX-30-COMP-GENERICO-RANBAXY')]\n",
      "\n",
      "\n",
      "Attrs: [(u'title', u'https://cdlcenter.com/busca/'), (u'style', u'text-decoration:none;'), (u'class', u'texto hidden-xs'), (u'target', u'_blank'), (u'href', u'https://cdlcenter.com/busca/LOSARTANA POTASSICA?utm_source=PesquiseMedicamentos.com.br&utm_medium=Busca')]\n",
      "\n",
      "\n",
      "Attrs: [(u'title', u'https://cdlcenter.com/busca/'), (u'style', u'text-decoration:none;'), (u'class', u'texto visible-xs'), (u'target', u'_blank'), (u'href', u'https://cdlcenter.com/busca/LOSARTANA POTASSICA?utm_source=PesquiseMedicamentos.com.br&utm_medium=Busca')]\n",
      "\n",
      "\n",
      "Attrs: [(u'class', u'texto text-center'), (u'href', u'http://www.pesquisemedicamentos.com.br/site/medicamentos/220725/losartana/medicamentos_nome/LOSARTANA-POTASSICA-50MG-CX-30-COMP-GENERICO-MERCK')]\n",
      "\n",
      "\n",
      "Attrs: [(u'style', u'text-decoration:none;'), (u'class', u'texto'), (u'href', u'http://www.pesquisemedicamentos.com.br/site/medicamentos/220725/losartana/medicamentos_nome/LOSARTANA-POTASSICA-50MG-CX-30-COMP-GENERICO-MERCK')]\n",
      "\n",
      "\n",
      "Attrs: [(u'style', u'text-decoration:none;'), (u'class', u'texto'), (u'target', u'_top'), (u'href', u'http://www.pesquisemedicamentos.com.br/site/medicamentos/220725/losartana/medicamentos_nome/LOSARTANA-POTASSICA-50MG-CX-30-COMP-GENERICO-MERCK')]\n",
      "\n",
      "\n",
      "Attrs: [(u'style', u'text-decoration:none;'), (u'class', u'texto'), (u'target', u'_top'), (u'href', u'http://www.pesquisemedicamentos.com.br/site/medicamentos/220725/losartana/medicamentos_nome/LOSARTANA-POTASSICA-50MG-CX-30-COMP-GENERICO-MERCK')]\n",
      "\n",
      "\n",
      "Attrs: [(u'title', u'https://cdlcenter.com/busca/'), (u'style', u'text-decoration:none;'), (u'class', u'texto hidden-xs'), (u'target', u'_blank'), (u'href', u'https://cdlcenter.com/busca/LOSARTANA POTASSICA?utm_source=PesquiseMedicamentos.com.br&utm_medium=Busca')]\n",
      "\n",
      "\n",
      "Attrs: [(u'title', u'https://cdlcenter.com/busca/'), (u'style', u'text-decoration:none;'), (u'class', u'texto visible-xs'), (u'target', u'_blank'), (u'href', u'https://cdlcenter.com/busca/LOSARTANA POTASSICA?utm_source=PesquiseMedicamentos.com.br&utm_medium=Busca')]\n",
      "\n",
      "\n",
      "Attrs: [(u'class', u'texto text-center'), (u'href', u'http://www.pesquisemedicamentos.com.br/site/medicamentos/219497/losartana/medicamentos_nome/LOSARTANA-POTASSICA-50MG-CX-30-COMP-GENERICO-MEDLEY')]\n",
      "\n",
      "\n",
      "Attrs: [(u'style', u'text-decoration:none;'), (u'class', u'texto'), (u'href', u'http://www.pesquisemedicamentos.com.br/site/medicamentos/219497/losartana/medicamentos_nome/LOSARTANA-POTASSICA-50MG-CX-30-COMP-GENERICO-MEDLEY')]\n",
      "\n",
      "\n",
      "Attrs: [(u'style', u'text-decoration:none;'), (u'class', u'texto'), (u'target', u'_top'), (u'href', u'http://www.pesquisemedicamentos.com.br/site/medicamentos/219497/losartana/medicamentos_nome/LOSARTANA-POTASSICA-50MG-CX-30-COMP-GENERICO-MEDLEY')]\n",
      "\n",
      "\n",
      "Attrs: [(u'style', u'text-decoration:none;'), (u'class', u'texto'), (u'target', u'_top'), (u'href', u'http://www.pesquisemedicamentos.com.br/site/medicamentos/219497/losartana/medicamentos_nome/LOSARTANA-POTASSICA-50MG-CX-30-COMP-GENERICO-MEDLEY')]\n",
      "\n",
      "\n",
      "Attrs: [(u'title', u'https://cdlcenter.com/busca/'), (u'style', u'text-decoration:none;'), (u'class', u'texto hidden-xs'), (u'target', u'_blank'), (u'href', u'https://cdlcenter.com/busca/LOSARTANA POTASSICA?utm_source=PesquiseMedicamentos.com.br&utm_medium=Busca')]\n",
      "\n",
      "\n",
      "Attrs: [(u'title', u'https://cdlcenter.com/busca/'), (u'style', u'text-decoration:none;'), (u'class', u'texto visible-xs'), (u'target', u'_blank'), (u'href', u'https://cdlcenter.com/busca/LOSARTANA POTASSICA?utm_source=PesquiseMedicamentos.com.br&utm_medium=Busca')]\n",
      "\n",
      "\n",
      "Attrs: [(u'class', u'texto text-center'), (u'href', u'http://www.pesquisemedicamentos.com.br/site/medicamentos/223880/losartana/medicamentos_nome/LOSARTANA-POTASSICA-50MG-CX-30-COMP-GENERICO-FARMASA')]\n",
      "\n",
      "\n",
      "Attrs: [(u'style', u'text-decoration:none;'), (u'class', u'texto'), (u'href', u'http://www.pesquisemedicamentos.com.br/site/medicamentos/223880/losartana/medicamentos_nome/LOSARTANA-POTASSICA-50MG-CX-30-COMP-GENERICO-FARMASA')]\n",
      "\n",
      "\n",
      "Attrs: [(u'style', u'text-decoration:none;'), (u'class', u'texto'), (u'target', u'_top'), (u'href', u'http://www.pesquisemedicamentos.com.br/site/medicamentos/223880/losartana/medicamentos_nome/LOSARTANA-POTASSICA-50MG-CX-30-COMP-GENERICO-FARMASA')]\n",
      "\n",
      "\n",
      "Attrs: [(u'style', u'text-decoration:none;'), (u'class', u'texto'), (u'target', u'_top'), (u'href', u'http://www.pesquisemedicamentos.com.br/site/medicamentos/223880/losartana/medicamentos_nome/LOSARTANA-POTASSICA-50MG-CX-30-COMP-GENERICO-FARMASA')]\n",
      "\n",
      "\n",
      "Attrs: [(u'title', u'https://cdlcenter.com/busca/'), (u'style', u'text-decoration:none;'), (u'class', u'texto hidden-xs'), (u'target', u'_blank'), (u'href', u'https://cdlcenter.com/busca/LOSARTANA POTASSICA?utm_source=PesquiseMedicamentos.com.br&utm_medium=Busca')]\n",
      "\n",
      "\n",
      "Attrs: [(u'title', u'https://cdlcenter.com/busca/'), (u'style', u'text-decoration:none;'), (u'class', u'texto visible-xs'), (u'target', u'_blank'), (u'href', u'https://cdlcenter.com/busca/LOSARTANA POTASSICA?utm_source=PesquiseMedicamentos.com.br&utm_medium=Busca')]\n",
      "\n",
      "\n",
      "Attrs: [(u'href', u'http://www.pesquisemedicamentos.com.br/site/medicamentos_busca/losartana/medicamentos_nome/1/ordem_nome/')]\n",
      "\n",
      "\n",
      "Attrs: [(u'href', u'http://www.pesquisemedicamentos.com.br/site/medicamentos_busca/losartana/medicamentos_nome/1/ordem_nome/')]\n",
      "\n",
      "\n",
      "Attrs: [(u'href', u'http://www.pesquisemedicamentos.com.br/site/medicamentos_busca/losartana/medicamentos_nome/1/ordem_nome/24')]\n",
      "\n",
      "\n",
      "Attrs: [(u'href', u'http://www.pesquisemedicamentos.com.br/site/medicamentos_busca/losartana/medicamentos_nome/1/ordem_nome/36')]\n",
      "\n",
      "\n",
      "Attrs: [(u'href', u'http://www.pesquisemedicamentos.com.br/site/medicamentos_busca/losartana/medicamentos_nome/1/ordem_nome/24')]\n",
      "\n",
      "\n",
      "Attrs: [(u'href', u'http://www.pesquisemedicamentos.com.br/site/noticias')]\n",
      "\n",
      "\n",
      "Attrs: [(u'href', u'http://www.pesquisemedicamentos.com.br/site/noticias/355/SP-testar-substncia-contra-o-cncer-em-cinco-hospitais')]\n",
      "\n",
      "\n",
      "Attrs: [(u'href', u'http://www.pesquisemedicamentos.com.br/site/noticias/356/Em-10-anos-taxa-de-HIV-entre-adolescentes-do-sexo-masculino-triplica-na-capital-paulista')]\n",
      "\n",
      "\n",
      "Attrs: [(u'href', u'http://www.pesquisemedicamentos.com.br/site/noticias/354/Microcefalia-pode-reduzir-6-meses-aps-pico-de-zika')]\n",
      "\n",
      "\n",
      "Attrs: [(u'href', u'http://www.pesquisemedicamentos.com.br/site/noticias'), (u'style', u'text-decoration:underline;')]\n",
      "\n",
      "\n",
      "Attrs: [(u'href', u'http://www.pesquisemedicamentos.com.br/site/doencas')]\n",
      "\n",
      "\n",
      "Attrs: [(u'href', u'http://www.pesquisemedicamentos.com.br/site/doencas/63/Cncer-de-bexiga-relao-com-o-tabagismo')]\n",
      "\n",
      "\n",
      "Attrs: [(u'href', u'http://www.pesquisemedicamentos.com.br/site/doencas/45/AVC-Derrame-cerebral')]\n",
      "\n",
      "\n",
      "Attrs: [(u'href', u'http://www.pesquisemedicamentos.com.br/site/doencas/79/Cura-do-cncer-de-mama')]\n",
      "\n",
      "\n",
      "Attrs: [(u'href', u'http://www.pesquisemedicamentos.com.br/site/doencas'), (u'style', u'text-decoration:underline;')]\n",
      "\n",
      "\n",
      "Attrs: [(u'target', u'_blank'), (u'href', u'http://www.pesquisemedicamentos.com.br/login')]\n",
      "\n",
      "\n",
      "Attrs: [(u'target', u'_top'), (u'href', u'http://mail.pesquisemedicamentos.com.br')]\n",
      "\n",
      "\n",
      "Attrs: [(u'href', u'http://www.pesquisemedicamentos.com.br/')]\n",
      "\n",
      "\n",
      "Attrs: [(u'href', u'http://www.pesquisemedicamentos.com.br/site/empresa/0/empresa.html')]\n",
      "\n",
      "\n",
      "Attrs: [(u'href', u'http://www.pesquisemedicamentos.com.br/site/noticias/0/noticias.html')]\n",
      "\n",
      "\n",
      "Attrs: [(u'href', u'http://www.pesquisemedicamentos.com.br/site/doencas/0/doencas.html')]\n",
      "\n",
      "\n",
      "Attrs: [(u'href', u'http://www.pesquisemedicamentos.com.br/site/entenda/0/entenda.html')]\n",
      "\n",
      "\n",
      "Attrs: [(u'href', u'http://www.pesquisemedicamentos.com.br/site/contato/')]\n"
     ]
    }
   ],
   "source": [
    "for tag in tags:\n",
    "    # print tag.get('href',None)\n",
    "    # Look at the parts of a tag\n",
    "    print \"\\n\"\n",
    "    # Mostra atributos das tags\n",
    "    print 'Attrs:',tag.attrs\n",
    "    #cat_level_01.append\n",
    "    links = soup.findAll('a',{\"class\":\"texto visible-xs\"}, {'href':'losartana'})\n",
    "    subgroup_links = soup.findAll('a',{\"class\":\"texto visible-xs\", \"class\": \"texto\"}, {'href':'losartana'})"
   ]
  },
  {
   "cell_type": "code",
   "execution_count": 157,
   "metadata": {
    "collapsed": false
   },
   "outputs": [
    {
     "data": {
      "text/plain": [
       "12"
      ]
     },
     "execution_count": 157,
     "metadata": {},
     "output_type": "execute_result"
    }
   ],
   "source": [
    "len(links)"
   ]
  },
  {
   "cell_type": "code",
   "execution_count": 159,
   "metadata": {
    "collapsed": false
   },
   "outputs": [
    {
     "data": {
      "text/plain": [
       "[<a title=\"https://cdlcenter.com/busca/\" style=\"text-decoration:none;\" class=\"texto visible-xs\" target=\"_blank\" href=\"https://cdlcenter.com/busca/LOSARTANA POTASSICA?utm_source=PesquiseMedicamentos.com.br&amp;utm_medium=Busca\">\n",
       " <div style=\"width: 100%; height: 100%; padding: 8px;\">\n",
       " <span class=\"btn btn-danger\">\n",
       " <i class=\"fa fa-shopping-bag fa-2x\"></i>\n",
       " </span>\n",
       " </div>\n",
       " </a>,\n",
       " <a title=\"https://cdlcenter.com/busca/\" style=\"text-decoration:none;\" class=\"texto visible-xs\" target=\"_blank\" href=\"https://cdlcenter.com/busca/LOSARTANA POTASSICA?utm_source=PesquiseMedicamentos.com.br&amp;utm_medium=Busca\">\n",
       " <div style=\"width: 100%; height: 100%; padding: 8px;\">\n",
       " <span class=\"btn btn-danger\">\n",
       " <i class=\"fa fa-shopping-bag fa-2x\"></i>\n",
       " </span>\n",
       " </div>\n",
       " </a>,\n",
       " <a title=\"https://cdlcenter.com/busca/\" style=\"text-decoration:none;\" class=\"texto visible-xs\" target=\"_blank\" href=\"https://cdlcenter.com/busca/LOSARTANA POTASSICA?utm_source=PesquiseMedicamentos.com.br&amp;utm_medium=Busca\">\n",
       " <div style=\"width: 100%; height: 100%; padding: 8px;\">\n",
       " <span class=\"btn btn-danger\">\n",
       " <i class=\"fa fa-shopping-bag fa-2x\"></i>\n",
       " </span>\n",
       " </div>\n",
       " </a>]"
      ]
     },
     "execution_count": 159,
     "metadata": {},
     "output_type": "execute_result"
    }
   ],
   "source": [
    "links[0:3]"
   ]
  },
  {
   "cell_type": "code",
   "execution_count": 158,
   "metadata": {
    "collapsed": false
   },
   "outputs": [
    {
     "data": {
      "text/plain": [
       "36"
      ]
     },
     "execution_count": 158,
     "metadata": {},
     "output_type": "execute_result"
    }
   ],
   "source": [
    "len(subgroup_links)\n",
    "\n",
    "# print subgroup_links"
   ]
  },
  {
   "cell_type": "code",
   "execution_count": 160,
   "metadata": {
    "collapsed": false
   },
   "outputs": [
    {
     "data": {
      "text/plain": [
       "[<a style=\"text-decoration:none;\" class=\"texto\" href=\"http://www.pesquisemedicamentos.com.br/site/medicamentos/228519/losartana/medicamentos_nome/LOSARTANA-POTASSICA-50MG-CX-60-COMP-GENERICO-TEUTO\">\n",
       " <div style=\"width: 100%; height: 100%;\">\n",
       "                                                     Sim                                                </div>\n",
       " </a>,\n",
       " <a style=\"text-decoration:none;\" class=\"texto\" target=\"_top\" href=\"http://www.pesquisemedicamentos.com.br/site/medicamentos/228519/losartana/medicamentos_nome/LOSARTANA-POTASSICA-50MG-CX-60-COMP-GENERICO-TEUTO\">\n",
       " <div style=\"width: 100%; height: 100%;\">\n",
       "                                                     TEUTO                                                </div>\n",
       " </a>,\n",
       " <a style=\"text-decoration:none;\" class=\"texto\" target=\"_top\" href=\"http://www.pesquisemedicamentos.com.br/site/medicamentos/228519/losartana/medicamentos_nome/LOSARTANA-POTASSICA-50MG-CX-60-COMP-GENERICO-TEUTO\">\n",
       " <div style=\"width: 100%; height: 100%;\">\n",
       "                                                     R$ 46,53                                            \n",
       "                                                 </div>\n",
       " </a>]"
      ]
     },
     "execution_count": 160,
     "metadata": {},
     "output_type": "execute_result"
    }
   ],
   "source": [
    "subgroup_links[0:3]"
   ]
  },
  {
   "cell_type": "code",
   "execution_count": null,
   "metadata": {
    "collapsed": false
   },
   "outputs": [],
   "source": [
    "# Tamanho da lista que contém anchor tags\n",
    "len(tags)"
   ]
  },
  {
   "cell_type": "code",
   "execution_count": null,
   "metadata": {
    "collapsed": false
   },
   "outputs": [],
   "source": [
    "# Mostra o conteúdo de todos os links\n",
    "n = len(tags)\n",
    "for tag in tags:  #for i in xrange(0,n):\n",
    "    # Olha as partes de uma tag\n",
    "    print \"Tag: \" , tag\n",
    "    print \"URL: \", tag.get('href', None)\n",
    "    #print(\"\\n\")"
   ]
  },
  {
   "cell_type": "markdown",
   "metadata": {},
   "source": [
    "#### Acha os links de produtos a partir da página inicial (é necessário conhecer a estrutura da página inicial)"
   ]
  },
  {
   "cell_type": "code",
   "execution_count": 118,
   "metadata": {
    "collapsed": true
   },
   "outputs": [],
   "source": [
    "list_grupo = soup.findAll(\"a\", {\"class\":\"texto visible-xs\"}, {'href':'losartana'})"
   ]
  },
  {
   "cell_type": "code",
   "execution_count": 119,
   "metadata": {
    "collapsed": false
   },
   "outputs": [
    {
     "data": {
      "text/plain": [
       "12"
      ]
     },
     "execution_count": 119,
     "metadata": {},
     "output_type": "execute_result"
    }
   ],
   "source": [
    "len(list_grupo)"
   ]
  },
  {
   "cell_type": "code",
   "execution_count": 120,
   "metadata": {
    "collapsed": false
   },
   "outputs": [
    {
     "name": "stdout",
     "output_type": "stream",
     "text": [
      "[<a title=\"https://cdlcenter.com/busca/\" style=\"text-decoration:none;\" class=\"texto visible-xs\" target=\"_blank\" href=\"https://cdlcenter.com/busca/LOSARTANA POTASSICA?utm_source=PesquiseMedicamentos.com.br&amp;utm_medium=Busca\">\n",
      "<div style=\"width: 100%; height: 100%; padding: 8px;\">\n",
      "<span class=\"btn btn-danger\">\n",
      "<i class=\"fa fa-shopping-bag fa-2x\"></i>\n",
      "</span>\n",
      "</div>\n",
      "</a>, <a title=\"https://cdlcenter.com/busca/\" style=\"text-decoration:none;\" class=\"texto visible-xs\" target=\"_blank\" href=\"https://cdlcenter.com/busca/LOSARTANA POTASSICA?utm_source=PesquiseMedicamentos.com.br&amp;utm_medium=Busca\">\n",
      "<div style=\"width: 100%; height: 100%; padding: 8px;\">\n",
      "<span class=\"btn btn-danger\">\n",
      "<i class=\"fa fa-shopping-bag fa-2x\"></i>\n",
      "</span>\n",
      "</div>\n",
      "</a>, <a title=\"https://cdlcenter.com/busca/\" style=\"text-decoration:none;\" class=\"texto visible-xs\" target=\"_blank\" href=\"https://cdlcenter.com/busca/LOSARTANA POTASSICA?utm_source=PesquiseMedicamentos.com.br&amp;utm_medium=Busca\">\n",
      "<div style=\"width: 100%; height: 100%; padding: 8px;\">\n",
      "<span class=\"btn btn-danger\">\n",
      "<i class=\"fa fa-shopping-bag fa-2x\"></i>\n",
      "</span>\n",
      "</div>\n",
      "</a>, <a title=\"https://cdlcenter.com/busca/\" style=\"text-decoration:none;\" class=\"texto visible-xs\" target=\"_blank\" href=\"https://cdlcenter.com/busca/LOSARTANA POTASSICA?utm_source=PesquiseMedicamentos.com.br&amp;utm_medium=Busca\">\n",
      "<div style=\"width: 100%; height: 100%; padding: 8px;\">\n",
      "<span class=\"btn btn-danger\">\n",
      "<i class=\"fa fa-shopping-bag fa-2x\"></i>\n",
      "</span>\n",
      "</div>\n",
      "</a>, <a title=\"https://cdlcenter.com/busca/\" style=\"text-decoration:none;\" class=\"texto visible-xs\" target=\"_blank\" href=\"https://cdlcenter.com/busca/LOSARTANA POTASSICA?utm_source=PesquiseMedicamentos.com.br&amp;utm_medium=Busca\">\n",
      "<div style=\"width: 100%; height: 100%; padding: 8px;\">\n",
      "<span class=\"btn btn-danger\">\n",
      "<i class=\"fa fa-shopping-bag fa-2x\"></i>\n",
      "</span>\n",
      "</div>\n",
      "</a>, <a title=\"https://cdlcenter.com/Losartana-Potassica-50-Mg-C--30-Comprimidos---Prati---Generico/produto/8886-0-0\" style=\"text-decoration:none;\" class=\"texto visible-xs\" target=\"_blank\" href=\"https://cdlcenter.com/Losartana-Potassica-50-Mg-C--30-Comprimidos---Prati---Generico/produto/8886-0-0?utm_source=PesquiseMedicamentos.com.br&amp;utm_medium=Busca\">\n",
      "<div style=\"width: 100%; height: 100%; padding: 8px;\">\n",
      "<span class=\"btn btn-danger\">\n",
      "<i class=\"fa fa-shopping-bag fa-2x\"></i>\n",
      "</span>\n",
      "</div>\n",
      "</a>, <a title=\"https://cdlcenter.com/busca/\" style=\"text-decoration:none;\" class=\"texto visible-xs\" target=\"_blank\" href=\"https://cdlcenter.com/busca/LOSARTANA POTASSICA?utm_source=PesquiseMedicamentos.com.br&amp;utm_medium=Busca\">\n",
      "<div style=\"width: 100%; height: 100%; padding: 8px;\">\n",
      "<span class=\"btn btn-danger\">\n",
      "<i class=\"fa fa-shopping-bag fa-2x\"></i>\n",
      "</span>\n",
      "</div>\n",
      "</a>, <a title=\"https://cdlcenter.com/busca/\" style=\"text-decoration:none;\" class=\"texto visible-xs\" target=\"_blank\" href=\"https://cdlcenter.com/busca/LOSARTANA POTASSICA?utm_source=PesquiseMedicamentos.com.br&amp;utm_medium=Busca\">\n",
      "<div style=\"width: 100%; height: 100%; padding: 8px;\">\n",
      "<span class=\"btn btn-danger\">\n",
      "<i class=\"fa fa-shopping-bag fa-2x\"></i>\n",
      "</span>\n",
      "</div>\n",
      "</a>, <a title=\"https://cdlcenter.com/busca/\" style=\"text-decoration:none;\" class=\"texto visible-xs\" target=\"_blank\" href=\"https://cdlcenter.com/busca/LOSARTANA POTASSICA?utm_source=PesquiseMedicamentos.com.br&amp;utm_medium=Busca\">\n",
      "<div style=\"width: 100%; height: 100%; padding: 8px;\">\n",
      "<span class=\"btn btn-danger\">\n",
      "<i class=\"fa fa-shopping-bag fa-2x\"></i>\n",
      "</span>\n",
      "</div>\n",
      "</a>, <a title=\"https://cdlcenter.com/busca/\" style=\"text-decoration:none;\" class=\"texto visible-xs\" target=\"_blank\" href=\"https://cdlcenter.com/busca/LOSARTANA POTASSICA?utm_source=PesquiseMedicamentos.com.br&amp;utm_medium=Busca\">\n",
      "<div style=\"width: 100%; height: 100%; padding: 8px;\">\n",
      "<span class=\"btn btn-danger\">\n",
      "<i class=\"fa fa-shopping-bag fa-2x\"></i>\n",
      "</span>\n",
      "</div>\n",
      "</a>, <a title=\"https://cdlcenter.com/busca/\" style=\"text-decoration:none;\" class=\"texto visible-xs\" target=\"_blank\" href=\"https://cdlcenter.com/busca/LOSARTANA POTASSICA?utm_source=PesquiseMedicamentos.com.br&amp;utm_medium=Busca\">\n",
      "<div style=\"width: 100%; height: 100%; padding: 8px;\">\n",
      "<span class=\"btn btn-danger\">\n",
      "<i class=\"fa fa-shopping-bag fa-2x\"></i>\n",
      "</span>\n",
      "</div>\n",
      "</a>, <a title=\"https://cdlcenter.com/busca/\" style=\"text-decoration:none;\" class=\"texto visible-xs\" target=\"_blank\" href=\"https://cdlcenter.com/busca/LOSARTANA POTASSICA?utm_source=PesquiseMedicamentos.com.br&amp;utm_medium=Busca\">\n",
      "<div style=\"width: 100%; height: 100%; padding: 8px;\">\n",
      "<span class=\"btn btn-danger\">\n",
      "<i class=\"fa fa-shopping-bag fa-2x\"></i>\n",
      "</span>\n",
      "</div>\n",
      "</a>]\n"
     ]
    }
   ],
   "source": [
    "print(list_grupo)"
   ]
  },
  {
   "cell_type": "code",
   "execution_count": 122,
   "metadata": {
    "collapsed": false
   },
   "outputs": [
    {
     "name": "stdout",
     "output_type": "stream",
     "text": [
      "\n",
      "\n",
      "\n",
      "\n",
      "\n",
      "\n",
      "\n",
      "\n",
      "\n",
      "\n",
      "\n",
      "\n"
     ]
    }
   ],
   "source": [
    "list_links_remedios = []\n",
    "for row in soup.findAll(\"a\", {\"class\":\"texto visible-xs\"}, {'href':'losartana'}):\n",
    "    print row.text\n",
    "    list_links_remedios.append(row.text)"
   ]
  },
  {
   "cell_type": "code",
   "execution_count": 123,
   "metadata": {
    "collapsed": true
   },
   "outputs": [],
   "source": [
    "# Create a dataframe from the list\n",
    "df = pd.DataFrame(list_links_remedios, columns=['Conteudo'])"
   ]
  },
  {
   "cell_type": "code",
   "execution_count": 124,
   "metadata": {
    "collapsed": false
   },
   "outputs": [
    {
     "data": {
      "text/plain": [
       "u''"
      ]
     },
     "execution_count": 124,
     "metadata": {},
     "output_type": "execute_result"
    }
   ],
   "source": [
    "list_links_remedios[1]"
   ]
  },
  {
   "cell_type": "code",
   "execution_count": 125,
   "metadata": {
    "collapsed": false
   },
   "outputs": [
    {
     "data": {
      "text/html": [
       "<div>\n",
       "<table border=\"1\" class=\"dataframe\">\n",
       "  <thead>\n",
       "    <tr style=\"text-align: right;\">\n",
       "      <th></th>\n",
       "      <th>Conteudo</th>\n",
       "    </tr>\n",
       "  </thead>\n",
       "  <tbody>\n",
       "    <tr>\n",
       "      <th>0</th>\n",
       "      <td></td>\n",
       "    </tr>\n",
       "    <tr>\n",
       "      <th>1</th>\n",
       "      <td></td>\n",
       "    </tr>\n",
       "    <tr>\n",
       "      <th>2</th>\n",
       "      <td></td>\n",
       "    </tr>\n",
       "    <tr>\n",
       "      <th>3</th>\n",
       "      <td></td>\n",
       "    </tr>\n",
       "    <tr>\n",
       "      <th>4</th>\n",
       "      <td></td>\n",
       "    </tr>\n",
       "  </tbody>\n",
       "</table>\n",
       "</div>"
      ],
      "text/plain": [
       "  Conteudo\n",
       "0         \n",
       "1         \n",
       "2         \n",
       "3         \n",
       "4         "
      ]
     },
     "execution_count": 125,
     "metadata": {},
     "output_type": "execute_result"
    }
   ],
   "source": [
    "df.head()"
   ]
  },
  {
   "cell_type": "code",
   "execution_count": 4,
   "metadata": {
    "collapsed": true
   },
   "outputs": [],
   "source": [
    "list_link= soup.findAll('a',{'target' :'_top'},{'href':'losartana'})\n",
    "#list_grupo = soup.findAll(\"a\", {\"class\":\"texto visible-xs\"})"
   ]
  },
  {
   "cell_type": "code",
   "execution_count": 5,
   "metadata": {
    "collapsed": false
   },
   "outputs": [
    {
     "data": {
      "text/plain": [
       "25"
      ]
     },
     "execution_count": 5,
     "metadata": {},
     "output_type": "execute_result"
    }
   ],
   "source": [
    "len(list_link)"
   ]
  },
  {
   "cell_type": "code",
   "execution_count": 6,
   "metadata": {
    "collapsed": false
   },
   "outputs": [
    {
     "name": "stdout",
     "output_type": "stream",
     "text": [
      "[<a style=\"text-decoration:none;\" class=\"texto\" target=\"_top\" href=\"http://www.pesquisemedicamentos.com.br/site/medicamentos/228519/losartana/medicamentos_nome/LOSARTANA-POTASSICA-50MG-CX-60-COMP-GENERICO-TEUTO\">\n",
      "<div style=\"width: 100%; height: 100%;\">\n",
      "                                                    TEUTO                                                </div>\n",
      "</a>, <a style=\"text-decoration:none;\" class=\"texto\" target=\"_top\" href=\"http://www.pesquisemedicamentos.com.br/site/medicamentos/228519/losartana/medicamentos_nome/LOSARTANA-POTASSICA-50MG-CX-60-COMP-GENERICO-TEUTO\">\n",
      "<div style=\"width: 100%; height: 100%;\">\n",
      "                                                    R$ 46,53                                            \n",
      "                                                </div>\n",
      "</a>, <a style=\"text-decoration:none;\" class=\"texto\" target=\"_top\" href=\"http://www.pesquisemedicamentos.com.br/site/medicamentos/219498/losartana/medicamentos_nome/LOSARTANA-POTASSICA-50MG-CX-60-COMP-GENERICO-MEDLEY\">\n",
      "<div style=\"width: 100%; height: 100%;\">\n",
      "                                                    MEDLEY                                                </div>\n",
      "</a>, <a style=\"text-decoration:none;\" class=\"texto\" target=\"_top\" href=\"http://www.pesquisemedicamentos.com.br/site/medicamentos/219498/losartana/medicamentos_nome/LOSARTANA-POTASSICA-50MG-CX-60-COMP-GENERICO-MEDLEY\">\n",
      "<div style=\"width: 100%; height: 100%;\">\n",
      "                                                    R$ 46,36                                            \n",
      "                                                </div>\n",
      "</a>, <a style=\"text-decoration:none;\" class=\"texto\" target=\"_top\" href=\"http://www.pesquisemedicamentos.com.br/site/medicamentos/227567/losartana/medicamentos_nome/LOSARTANA-POTASSICA-50MG-CX-3BL-X-10-COMP-GENERICO-LEGRAND-GENERICOS\">\n",
      "<div style=\"width: 100%; height: 100%;\">\n",
      "                                                    LEGRAND GENERICOS                                                </div>\n",
      "</a>, <a style=\"text-decoration:none;\" class=\"texto\" target=\"_top\" href=\"http://www.pesquisemedicamentos.com.br/site/medicamentos/227567/losartana/medicamentos_nome/LOSARTANA-POTASSICA-50MG-CX-3BL-X-10-COMP-GENERICO-LEGRAND-GENERICOS\">\n",
      "<div style=\"width: 100%; height: 100%;\">\n",
      "                                                    R$ 23,85                                            \n",
      "                                                </div>\n",
      "</a>, <a style=\"text-decoration:none;\" class=\"texto\" target=\"_top\" href=\"http://www.pesquisemedicamentos.com.br/site/medicamentos/227557/losartana/medicamentos_nome/LOSARTANA-POTASSICA-50MG-CX-3BL-X-10-COMP-GENERICO-GENERICOS-GERMED\">\n",
      "<div style=\"width: 100%; height: 100%;\">\n",
      "                                                    GENERICOS GERMED                                                </div>\n",
      "</a>, <a style=\"text-decoration:none;\" class=\"texto\" target=\"_top\" href=\"http://www.pesquisemedicamentos.com.br/site/medicamentos/227557/losartana/medicamentos_nome/LOSARTANA-POTASSICA-50MG-CX-3BL-X-10-COMP-GENERICO-GENERICOS-GERMED\">\n",
      "<div style=\"width: 100%; height: 100%;\">\n",
      "                                                    R$ 23,85                                            \n",
      "                                                </div>\n",
      "</a>, <a style=\"text-decoration:none;\" class=\"texto\" target=\"_top\" href=\"http://www.pesquisemedicamentos.com.br/site/medicamentos/229296/losartana/medicamentos_nome/LOSARTANA-POTASSICA-50MG-CX-300-COMP-REV-HOSP-GENERICO-PRATI-DONADUZZI\">\n",
      "<div style=\"width: 100%; height: 100%;\">\n",
      "                                                    PRATI, DONADUZZI                                                </div>\n",
      "</a>, <a style=\"text-decoration:none;\" class=\"texto\" target=\"_top\" href=\"http://www.pesquisemedicamentos.com.br/site/medicamentos/229296/losartana/medicamentos_nome/LOSARTANA-POTASSICA-50MG-CX-300-COMP-REV-HOSP-GENERICO-PRATI-DONADUZZI\">\n",
      "<div style=\"width: 100%; height: 100%;\">\n",
      "                                                    R$ 115,94                                            \n",
      "                                                </div>\n",
      "</a>, <a style=\"text-decoration:none;\" class=\"texto\" target=\"_top\" href=\"http://www.pesquisemedicamentos.com.br/site/medicamentos/229295/losartana/medicamentos_nome/LOSARTANA-POTASSICA-50MG-CX-30-COMP-REV-GENERICO-PRATI-DONADUZZI\">\n",
      "<div style=\"width: 100%; height: 100%;\">\n",
      "                                                    PRATI, DONADUZZI                                                </div>\n",
      "</a>, <a style=\"text-decoration:none;\" class=\"texto\" target=\"_top\" href=\"http://www.pesquisemedicamentos.com.br/site/medicamentos/229295/losartana/medicamentos_nome/LOSARTANA-POTASSICA-50MG-CX-30-COMP-REV-GENERICO-PRATI-DONADUZZI\">\n",
      "<div style=\"width: 100%; height: 100%;\">\n",
      "                                                    R$ 23,84                                            \n",
      "                                                </div>\n",
      "</a>, <a style=\"text-decoration:none;\" class=\"texto\" target=\"_top\" href=\"http://www.pesquisemedicamentos.com.br/site/medicamentos/226799/losartana/medicamentos_nome/LOSARTANA-POTASSICA-50MG-CX-30-COMP-GENERICO-ZYDUS\">\n",
      "<div style=\"width: 100%; height: 100%;\">\n",
      "                                                    ZYDUS                                                </div>\n",
      "</a>, <a style=\"text-decoration:none;\" class=\"texto\" target=\"_top\" href=\"http://www.pesquisemedicamentos.com.br/site/medicamentos/226799/losartana/medicamentos_nome/LOSARTANA-POTASSICA-50MG-CX-30-COMP-GENERICO-ZYDUS\">\n",
      "<div style=\"width: 100%; height: 100%;\">\n",
      "                                                    R$ 26,14                                            \n",
      "                                                </div>\n",
      "</a>, <a style=\"text-decoration:none;\" class=\"texto\" target=\"_top\" href=\"http://www.pesquisemedicamentos.com.br/site/medicamentos/227112/losartana/medicamentos_nome/LOSARTANA-POTASSICA-50MG-CX-30-COMP-GENERICO-TEUTO\">\n",
      "<div style=\"width: 100%; height: 100%;\">\n",
      "                                                    TEUTO                                                </div>\n",
      "</a>, <a style=\"text-decoration:none;\" class=\"texto\" target=\"_top\" href=\"http://www.pesquisemedicamentos.com.br/site/medicamentos/227112/losartana/medicamentos_nome/LOSARTANA-POTASSICA-50MG-CX-30-COMP-GENERICO-TEUTO\">\n",
      "<div style=\"width: 100%; height: 100%;\">\n",
      "                                                    R$ 23,84                                            \n",
      "                                                </div>\n",
      "</a>, <a style=\"text-decoration:none;\" class=\"texto\" target=\"_top\" href=\"http://www.pesquisemedicamentos.com.br/site/medicamentos/224274/losartana/medicamentos_nome/LOSARTANA-POTASSICA-50MG-CX-30-COMP-GENERICO-RANBAXY\">\n",
      "<div style=\"width: 100%; height: 100%;\">\n",
      "                                                    RANBAXY                                                </div>\n",
      "</a>, <a style=\"text-decoration:none;\" class=\"texto\" target=\"_top\" href=\"http://www.pesquisemedicamentos.com.br/site/medicamentos/224274/losartana/medicamentos_nome/LOSARTANA-POTASSICA-50MG-CX-30-COMP-GENERICO-RANBAXY\">\n",
      "<div style=\"width: 100%; height: 100%;\">\n",
      "                                                    R$ 25,92                                            \n",
      "                                                </div>\n",
      "</a>, <a style=\"text-decoration:none;\" class=\"texto\" target=\"_top\" href=\"http://www.pesquisemedicamentos.com.br/site/medicamentos/220725/losartana/medicamentos_nome/LOSARTANA-POTASSICA-50MG-CX-30-COMP-GENERICO-MERCK\">\n",
      "<div style=\"width: 100%; height: 100%;\">\n",
      "                                                    MERCK                                                </div>\n",
      "</a>, <a style=\"text-decoration:none;\" class=\"texto\" target=\"_top\" href=\"http://www.pesquisemedicamentos.com.br/site/medicamentos/220725/losartana/medicamentos_nome/LOSARTANA-POTASSICA-50MG-CX-30-COMP-GENERICO-MERCK\">\n",
      "<div style=\"width: 100%; height: 100%;\">\n",
      "                                                    R$ 33,08                                            \n",
      "                                                </div>\n",
      "</a>, <a style=\"text-decoration:none;\" class=\"texto\" target=\"_top\" href=\"http://www.pesquisemedicamentos.com.br/site/medicamentos/219497/losartana/medicamentos_nome/LOSARTANA-POTASSICA-50MG-CX-30-COMP-GENERICO-MEDLEY\">\n",
      "<div style=\"width: 100%; height: 100%;\">\n",
      "                                                    MEDLEY                                                </div>\n",
      "</a>, <a style=\"text-decoration:none;\" class=\"texto\" target=\"_top\" href=\"http://www.pesquisemedicamentos.com.br/site/medicamentos/219497/losartana/medicamentos_nome/LOSARTANA-POTASSICA-50MG-CX-30-COMP-GENERICO-MEDLEY\">\n",
      "<div style=\"width: 100%; height: 100%;\">\n",
      "                                                    R$ 23,85                                            \n",
      "                                                </div>\n",
      "</a>, <a style=\"text-decoration:none;\" class=\"texto\" target=\"_top\" href=\"http://www.pesquisemedicamentos.com.br/site/medicamentos/223880/losartana/medicamentos_nome/LOSARTANA-POTASSICA-50MG-CX-30-COMP-GENERICO-FARMASA\">\n",
      "<div style=\"width: 100%; height: 100%;\">\n",
      "                                                    FARMASA                                                </div>\n",
      "</a>, <a style=\"text-decoration:none;\" class=\"texto\" target=\"_top\" href=\"http://www.pesquisemedicamentos.com.br/site/medicamentos/223880/losartana/medicamentos_nome/LOSARTANA-POTASSICA-50MG-CX-30-COMP-GENERICO-FARMASA\">\n",
      "<div style=\"width: 100%; height: 100%;\">\n",
      "                                                    R$ 27,36                                            \n",
      "                                                </div>\n",
      "</a>, <a target=\"_top\" href=\"http://mail.pesquisemedicamentos.com.br\">Webmail</a>]\n"
     ]
    }
   ],
   "source": [
    "print(list_link)"
   ]
  },
  {
   "cell_type": "code",
   "execution_count": 21,
   "metadata": {
    "collapsed": false
   },
   "outputs": [
    {
     "ename": "TypeError",
     "evalue": "list indices must be integers, not str",
     "output_type": "error",
     "traceback": [
      "\u001b[1;31m---------------------------------------------------------------------------\u001b[0m",
      "\u001b[1;31mTypeError\u001b[0m                                 Traceback (most recent call last)",
      "\u001b[1;32m<ipython-input-21-ad6c49e1c4d4>\u001b[0m in \u001b[0;36m<module>\u001b[1;34m()\u001b[0m\n\u001b[0;32m      1\u001b[0m \u001b[1;32mfor\u001b[0m \u001b[0mlink\u001b[0m \u001b[1;32min\u001b[0m \u001b[0msoup\u001b[0m\u001b[1;33m.\u001b[0m\u001b[0mfindAll\u001b[0m\u001b[1;33m(\u001b[0m\u001b[1;34m\"a\"\u001b[0m\u001b[1;33m,\u001b[0m \u001b[1;33m{\u001b[0m\u001b[1;34m'target'\u001b[0m \u001b[1;33m:\u001b[0m\u001b[1;34m'_top'\u001b[0m\u001b[1;33m}\u001b[0m\u001b[1;33m,\u001b[0m\u001b[1;33m{\u001b[0m\u001b[1;34m'href'\u001b[0m\u001b[1;33m:\u001b[0m\u001b[1;34m'losartana'\u001b[0m\u001b[1;33m}\u001b[0m\u001b[1;33m)\u001b[0m\u001b[1;33m:\u001b[0m\u001b[1;33m\u001b[0m\u001b[0m\n\u001b[0;32m      2\u001b[0m     \u001b[1;31m# if 'href' in link.attrs:\u001b[0m\u001b[1;33m\u001b[0m\u001b[1;33m\u001b[0m\u001b[0m\n\u001b[1;32m----> 3\u001b[1;33m         \u001b[1;32mprint\u001b[0m \u001b[0mlink\u001b[0m\u001b[1;33m.\u001b[0m\u001b[0mattrs\u001b[0m\u001b[1;33m[\u001b[0m\u001b[1;34m'href'\u001b[0m\u001b[1;33m]\u001b[0m\u001b[1;33m\u001b[0m\u001b[0m\n\u001b[0m\u001b[0;32m      4\u001b[0m \u001b[1;33m\u001b[0m\u001b[0m\n",
      "\u001b[1;31mTypeError\u001b[0m: list indices must be integers, not str"
     ]
    }
   ],
   "source": [
    "for link in soup.findAll(\"a\", {'target' :'_top'},{'href':'losartana'}):\n",
    "     if 'href' in link.attrs:\n",
    "        print link.attrs['href']\n",
    "    "
   ]
  },
  {
   "cell_type": "code",
   "execution_count": null,
   "metadata": {
    "collapsed": false
   },
   "outputs": [],
   "source": []
  },
  {
   "cell_type": "code",
   "execution_count": 22,
   "metadata": {
    "collapsed": false
   },
   "outputs": [
    {
     "name": "stdout",
     "output_type": "stream",
     "text": [
      "TEUTO\n",
      "R$ 46,53\n",
      "MEDLEY\n",
      "R$ 46,36\n",
      "LEGRAND GENERICOS\n",
      "R$ 23,85\n",
      "GENERICOS GERMED\n",
      "R$ 23,85\n",
      "PRATI, DONADUZZI\n",
      "R$ 115,94\n",
      "PRATI, DONADUZZI\n",
      "R$ 23,84\n",
      "ZYDUS\n",
      "R$ 26,14\n",
      "TEUTO\n",
      "R$ 23,84\n",
      "RANBAXY\n",
      "R$ 25,92\n",
      "MERCK\n",
      "R$ 33,08\n",
      "MEDLEY\n",
      "R$ 23,85\n",
      "FARMASA\n",
      "R$ 27,36\n",
      "Webmail\n"
     ]
    }
   ],
   "source": [
    "list_links_remedios = []\n",
    "for row in soup.findAll(\"a\", {'target' :'_top'},{'href':'losartana'}):  \n",
    "    print row.text\n",
    "    list_links_remedios.append(row.text)"
   ]
  },
  {
   "cell_type": "code",
   "execution_count": null,
   "metadata": {
    "collapsed": true
   },
   "outputs": [],
   "source": [
    "x = re.compile('text-center hidden-xs')"
   ]
  },
  {
   "cell_type": "code",
   "execution_count": null,
   "metadata": {
    "collapsed": false
   },
   "outputs": [],
   "source": [
    "for name in list_tipo_aplicacao:\n",
    "    print name.getText()\n",
    "    print \"\\n\""
   ]
  },
  {
   "cell_type": "code",
   "execution_count": 138,
   "metadata": {
    "collapsed": false
   },
   "outputs": [
    {
     "name": "stdout",
     "output_type": "stream",
     "text": [
      "TEUTO                                                                                               \n",
      "R$ 46,53                                                                                            \n",
      "MEDLEY                                                                                              \n",
      "R$ 46,36                                                                                            \n",
      "LEGRAND GENERICOS                                                                                   \n",
      "R$ 23,85                                                                                            \n",
      "GENERICOS GERMED                                                                                    \n",
      "R$ 23,85                                                                                            \n",
      "PRATI, DONADUZZI                                                                                    \n",
      "R$ 115,94                                                                                           \n",
      "PRATI, DONADUZZI                                                                                    \n",
      "R$ 23,84                                                                                            \n",
      "ZYDUS                                                                                               \n",
      "R$ 26,14                                                                                            \n",
      "TEUTO                                                                                               \n",
      "R$ 23,84                                                                                            \n",
      "RANBAXY                                                                                             \n",
      "R$ 25,92                                                                                            \n",
      "MERCK                                                                                               \n",
      "R$ 33,08                                                                                            \n",
      "MEDLEY                                                                                              \n",
      "R$ 23,85                                                                                            \n",
      "FARMASA                                                                                             \n",
      "R$ 27,36                                                                                            \n",
      "Webmail                                                                                             \n"
     ]
    }
   ],
   "source": [
    "x=[]\n",
    "for name in list_links_remedios:\n",
    "    print name.ljust(100)\n",
    "    x.append(name.ljust(100))"
   ]
  },
  {
   "cell_type": "code",
   "execution_count": 134,
   "metadata": {
    "collapsed": true
   },
   "outputs": [],
   "source": [
    "? name.ljust"
   ]
  },
  {
   "cell_type": "code",
   "execution_count": 136,
   "metadata": {
    "collapsed": false
   },
   "outputs": [
    {
     "data": {
      "text/plain": [
       "25"
      ]
     },
     "execution_count": 136,
     "metadata": {},
     "output_type": "execute_result"
    }
   ],
   "source": [
    "len(x)"
   ]
  },
  {
   "cell_type": "code",
   "execution_count": 137,
   "metadata": {
    "collapsed": false
   },
   "outputs": [
    {
     "data": {
      "text/plain": [
       "list"
      ]
     },
     "execution_count": 137,
     "metadata": {},
     "output_type": "execute_result"
    }
   ],
   "source": [
    "type(x)"
   ]
  },
  {
   "cell_type": "code",
   "execution_count": 139,
   "metadata": {
    "collapsed": false
   },
   "outputs": [
    {
     "name": "stdout",
     "output_type": "stream",
     "text": [
      "[<a title=\"https://cdlcenter.com/busca/\" style=\"text-decoration:none;\" class=\"texto visible-xs\" target=\"_blank\" href=\"https://cdlcenter.com/busca/LOSARTANA POTASSICA?utm_source=PesquiseMedicamentos.com.br&amp;utm_medium=Busca\">\n",
      "<div style=\"width: 100%; height: 100%; padding: 8px;\">\n",
      "<span class=\"btn btn-danger\">\n",
      "<i class=\"fa fa-shopping-bag fa-2x\"></i>\n",
      "</span>\n",
      "</div>\n",
      "</a>, <a title=\"https://cdlcenter.com/busca/\" style=\"text-decoration:none;\" class=\"texto visible-xs\" target=\"_blank\" href=\"https://cdlcenter.com/busca/LOSARTANA POTASSICA?utm_source=PesquiseMedicamentos.com.br&amp;utm_medium=Busca\">\n",
      "<div style=\"width: 100%; height: 100%; padding: 8px;\">\n",
      "<span class=\"btn btn-danger\">\n",
      "<i class=\"fa fa-shopping-bag fa-2x\"></i>\n",
      "</span>\n",
      "</div>\n",
      "</a>, <a title=\"https://cdlcenter.com/busca/\" style=\"text-decoration:none;\" class=\"texto visible-xs\" target=\"_blank\" href=\"https://cdlcenter.com/busca/LOSARTANA POTASSICA?utm_source=PesquiseMedicamentos.com.br&amp;utm_medium=Busca\">\n",
      "<div style=\"width: 100%; height: 100%; padding: 8px;\">\n",
      "<span class=\"btn btn-danger\">\n",
      "<i class=\"fa fa-shopping-bag fa-2x\"></i>\n",
      "</span>\n",
      "</div>\n",
      "</a>, <a title=\"https://cdlcenter.com/busca/\" style=\"text-decoration:none;\" class=\"texto visible-xs\" target=\"_blank\" href=\"https://cdlcenter.com/busca/LOSARTANA POTASSICA?utm_source=PesquiseMedicamentos.com.br&amp;utm_medium=Busca\">\n",
      "<div style=\"width: 100%; height: 100%; padding: 8px;\">\n",
      "<span class=\"btn btn-danger\">\n",
      "<i class=\"fa fa-shopping-bag fa-2x\"></i>\n",
      "</span>\n",
      "</div>\n",
      "</a>, <a title=\"https://cdlcenter.com/busca/\" style=\"text-decoration:none;\" class=\"texto visible-xs\" target=\"_blank\" href=\"https://cdlcenter.com/busca/LOSARTANA POTASSICA?utm_source=PesquiseMedicamentos.com.br&amp;utm_medium=Busca\">\n",
      "<div style=\"width: 100%; height: 100%; padding: 8px;\">\n",
      "<span class=\"btn btn-danger\">\n",
      "<i class=\"fa fa-shopping-bag fa-2x\"></i>\n",
      "</span>\n",
      "</div>\n",
      "</a>, <a title=\"https://cdlcenter.com/Losartana-Potassica-50-Mg-C--30-Comprimidos---Prati---Generico/produto/8886-0-0\" style=\"text-decoration:none;\" class=\"texto visible-xs\" target=\"_blank\" href=\"https://cdlcenter.com/Losartana-Potassica-50-Mg-C--30-Comprimidos---Prati---Generico/produto/8886-0-0?utm_source=PesquiseMedicamentos.com.br&amp;utm_medium=Busca\">\n",
      "<div style=\"width: 100%; height: 100%; padding: 8px;\">\n",
      "<span class=\"btn btn-danger\">\n",
      "<i class=\"fa fa-shopping-bag fa-2x\"></i>\n",
      "</span>\n",
      "</div>\n",
      "</a>, <a title=\"https://cdlcenter.com/busca/\" style=\"text-decoration:none;\" class=\"texto visible-xs\" target=\"_blank\" href=\"https://cdlcenter.com/busca/LOSARTANA POTASSICA?utm_source=PesquiseMedicamentos.com.br&amp;utm_medium=Busca\">\n",
      "<div style=\"width: 100%; height: 100%; padding: 8px;\">\n",
      "<span class=\"btn btn-danger\">\n",
      "<i class=\"fa fa-shopping-bag fa-2x\"></i>\n",
      "</span>\n",
      "</div>\n",
      "</a>, <a title=\"https://cdlcenter.com/busca/\" style=\"text-decoration:none;\" class=\"texto visible-xs\" target=\"_blank\" href=\"https://cdlcenter.com/busca/LOSARTANA POTASSICA?utm_source=PesquiseMedicamentos.com.br&amp;utm_medium=Busca\">\n",
      "<div style=\"width: 100%; height: 100%; padding: 8px;\">\n",
      "<span class=\"btn btn-danger\">\n",
      "<i class=\"fa fa-shopping-bag fa-2x\"></i>\n",
      "</span>\n",
      "</div>\n",
      "</a>, <a title=\"https://cdlcenter.com/busca/\" style=\"text-decoration:none;\" class=\"texto visible-xs\" target=\"_blank\" href=\"https://cdlcenter.com/busca/LOSARTANA POTASSICA?utm_source=PesquiseMedicamentos.com.br&amp;utm_medium=Busca\">\n",
      "<div style=\"width: 100%; height: 100%; padding: 8px;\">\n",
      "<span class=\"btn btn-danger\">\n",
      "<i class=\"fa fa-shopping-bag fa-2x\"></i>\n",
      "</span>\n",
      "</div>\n",
      "</a>, <a title=\"https://cdlcenter.com/busca/\" style=\"text-decoration:none;\" class=\"texto visible-xs\" target=\"_blank\" href=\"https://cdlcenter.com/busca/LOSARTANA POTASSICA?utm_source=PesquiseMedicamentos.com.br&amp;utm_medium=Busca\">\n",
      "<div style=\"width: 100%; height: 100%; padding: 8px;\">\n",
      "<span class=\"btn btn-danger\">\n",
      "<i class=\"fa fa-shopping-bag fa-2x\"></i>\n",
      "</span>\n",
      "</div>\n",
      "</a>, <a title=\"https://cdlcenter.com/busca/\" style=\"text-decoration:none;\" class=\"texto visible-xs\" target=\"_blank\" href=\"https://cdlcenter.com/busca/LOSARTANA POTASSICA?utm_source=PesquiseMedicamentos.com.br&amp;utm_medium=Busca\">\n",
      "<div style=\"width: 100%; height: 100%; padding: 8px;\">\n",
      "<span class=\"btn btn-danger\">\n",
      "<i class=\"fa fa-shopping-bag fa-2x\"></i>\n",
      "</span>\n",
      "</div>\n",
      "</a>, <a title=\"https://cdlcenter.com/busca/\" style=\"text-decoration:none;\" class=\"texto visible-xs\" target=\"_blank\" href=\"https://cdlcenter.com/busca/LOSARTANA POTASSICA?utm_source=PesquiseMedicamentos.com.br&amp;utm_medium=Busca\">\n",
      "<div style=\"width: 100%; height: 100%; padding: 8px;\">\n",
      "<span class=\"btn btn-danger\">\n",
      "<i class=\"fa fa-shopping-bag fa-2x\"></i>\n",
      "</span>\n",
      "</div>\n",
      "</a>]\n"
     ]
    }
   ],
   "source": [
    "print list_grupo"
   ]
  },
  {
   "cell_type": "code",
   "execution_count": null,
   "metadata": {
    "collapsed": false
   },
   "outputs": [],
   "source": [
    "# Retrieve all of the anchor tags\n",
    "tags = soup('a')\n",
    "\n",
    "# Show tag and URL of interest\n",
    "url_enter=tags[2].get('href', None)\n",
    "\n",
    "print tags[0]\n",
    "print tags[1]\n",
    "print tags[2]\n",
    "print tags[100]\n",
    "\n",
    "#print(\"\\n\")\n",
    "print url_enter"
   ]
  },
  {
   "cell_type": "code",
   "execution_count": null,
   "metadata": {
    "collapsed": true
   },
   "outputs": [],
   "source": []
  },
  {
   "cell_type": "code",
   "execution_count": null,
   "metadata": {
    "collapsed": false
   },
   "outputs": [],
   "source": [
    "print soup.prettify()[0:5000]"
   ]
  },
  {
   "cell_type": "code",
   "execution_count": null,
   "metadata": {
    "collapsed": true
   },
   "outputs": [],
   "source": []
  }
 ],
 "metadata": {
  "kernelspec": {
   "display_name": "Python 2",
   "language": "python",
   "name": "python2"
  },
  "language_info": {
   "codemirror_mode": {
    "name": "ipython",
    "version": 2
   },
   "file_extension": ".py",
   "mimetype": "text/x-python",
   "name": "python",
   "nbconvert_exporter": "python",
   "pygments_lexer": "ipython2",
   "version": "2.7.11"
  }
 },
 "nbformat": 4,
 "nbformat_minor": 0
}
