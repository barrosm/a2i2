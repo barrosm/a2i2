{
 "cells": [
  {
   "cell_type": "markdown",
   "metadata": {},
   "source": [
    "### Simple Connection of a MySQL Database"
   ]
  },
  {
   "cell_type": "code",
   "execution_count": null,
   "metadata": {
    "collapsed": true
   },
   "outputs": [],
   "source": [
    "### import MySQLdb\n",
    "### import mysql.connector"
   ]
  },
  {
   "cell_type": "code",
   "execution_count": 7,
   "metadata": {
    "collapsed": true
   },
   "outputs": [],
   "source": [
    "import numpy as np\n",
    "import pandas as pd\n",
    "import matplotlib\n",
    "%matplotlib inline"
   ]
  },
  {
   "cell_type": "markdown",
   "metadata": {},
   "source": [
    "### Connection using pymsql module"
   ]
  },
  {
   "cell_type": "code",
   "execution_count": 1,
   "metadata": {
    "collapsed": false
   },
   "outputs": [],
   "source": [
    "import pymysql"
   ]
  },
  {
   "cell_type": "code",
   "execution_count": 2,
   "metadata": {
    "collapsed": true
   },
   "outputs": [],
   "source": [
    "conn = pymysql.Connect(host = '111.111.111.111',user = 'monica',password = 'a2i2',database = 'a2i2_monica', port = 3306, use_unicode = 'TRUE')"
   ]
  },
  {
   "cell_type": "code",
   "execution_count": 3,
   "metadata": {
    "collapsed": false
   },
   "outputs": [
    {
     "name": "stdout",
     "output_type": "stream",
     "text": [
      "((u'codBarra', 253, None, 13, 13, 0, False), (u'nome', 253, None, 45, 45, 0, False), (u'fabricante', 253, None, 45, 45, 0, True), (u'categoria', 3, None, 2, 2, 0, True))\n",
      "()\n"
     ]
    }
   ],
   "source": [
    "cur = conn.cursor()\n",
    "# ===========================================================\n",
    "# Executes query\n",
    "# ===========================================================\n",
    "cur.execute(\"SELECT * FROM a2i2_monica.produto LIMIT 30000;\")\n",
    "# ===========================================================\n",
    "# Exhibits database structure\n",
    "# ===========================================================\n",
    "print(cur.description)\n",
    "print()"
   ]
  },
  {
   "cell_type": "code",
   "execution_count": null,
   "metadata": {
    "collapsed": true
   },
   "outputs": [],
   "source": [
    "import MySQLdb\n",
    "\n",
    "# Open database connection\n",
    "db = MySQLdb.connect(\"localhost\",\"testuser\",\"test123\",\"TESTDB\" )\n",
    "\n",
    "# prepare a cursor object using cursor() method\n",
    "cursor = db.cursor()\n",
    "\n",
    "# Prepare SQL query to INSERT a record into the database.\n",
    "sql = \"\"\"INSERT INTO EMPLOYEE(FIRST_NAME,\n",
    "         LAST_NAME, AGE, SEX, INCOME)\n",
    "         VALUES ('Mac', 'Mohan', 20, 'M', 2000)\"\"\"\n",
    "try:\n",
    "   # Execute the SQL command\n",
    "   cursor.execute(sql)\n",
    "   # Commit your changes in the database\n",
    "   db.commit()\n",
    "except:\n",
    "   # Rollback in case there is any error\n",
    "   db.rollback()\n",
    "\n",
    "# disconnect from server\n",
    "db.close()"
   ]
  },
  {
   "cell_type": "code",
   "execution_count": null,
   "metadata": {
    "collapsed": true
   },
   "outputs": [],
   "source": [
    "import MySQLdb\n",
    "\n",
    "# Open database connection\n",
    "db = MySQLdb.connect(\"localhost\",\"testuser\",\"test123\",\"TESTDB\" )\n",
    "\n",
    "# prepare a cursor object using cursor() method\n",
    "cursor = db.cursor()\n",
    "\n",
    "# Prepare SQL query to INSERT a record into the database.\n",
    "sql = \"INSERT INTO EMPLOYEE(FIRST_NAME, \\\n",
    "       LAST_NAME, AGE, SEX, INCOME) \\\n",
    "       VALUES ('%s', '%s', '%d', '%c', '%d' )\" % \\\n",
    "       ('Mac', 'Mohan', 20, 'M', 2000)\n",
    "try:\n",
    "   # Execute the SQL command\n",
    "   cursor.execute(sql)\n",
    "   # Commit your changes in the database\n",
    "   db.commit()\n",
    "except:\n",
    "   # Rollback in case there is any error\n",
    "   db.rollback()\n",
    "\n",
    "# disconnect from server\n",
    "db.close()"
   ]
  },
  {
   "cell_type": "code",
   "execution_count": 4,
   "metadata": {
    "collapsed": false
   },
   "outputs": [
    {
     "name": "stdout",
     "output_type": "stream",
     "text": [
      "30000\n"
     ]
    }
   ],
   "source": [
    "# get the number of rows in the result set (or the maximum specified in the SELECT statement)\n",
    "num_rows= cur.rowcount\n",
    "print num_rows"
   ]
  },
  {
   "cell_type": "code",
   "execution_count": 5,
   "metadata": {
    "collapsed": false
   },
   "outputs": [],
   "source": [
    "# get and display one row at a time\n",
    "# for row in cur: \n",
    "   # print(row)"
   ]
  },
  {
   "cell_type": "code",
   "execution_count": null,
   "metadata": {
    "collapsed": false
   },
   "outputs": [],
   "source": [
    "## type(row)"
   ]
  },
  {
   "cell_type": "markdown",
   "metadata": {},
   "source": [
    "### Creates a Dataframe directly from a SQL query"
   ]
  },
  {
   "cell_type": "code",
   "execution_count": 8,
   "metadata": {
    "collapsed": false
   },
   "outputs": [],
   "source": [
    "sql_query = \"SELECT * FROM a2i2_monica.produto LIMIT 30000;\"\n",
    "df_produto = pd.read_sql(sql_query, conn)"
   ]
  },
  {
   "cell_type": "code",
   "execution_count": 9,
   "metadata": {
    "collapsed": false
   },
   "outputs": [
    {
     "data": {
      "text/html": [
       "<div>\n",
       "<table border=\"1\" class=\"dataframe\">\n",
       "  <thead>\n",
       "    <tr style=\"text-align: right;\">\n",
       "      <th></th>\n",
       "      <th>codBarra</th>\n",
       "      <th>nome</th>\n",
       "      <th>fabricante</th>\n",
       "      <th>categoria</th>\n",
       "    </tr>\n",
       "  </thead>\n",
       "  <tbody>\n",
       "    <tr>\n",
       "      <th>0</th>\n",
       "      <td></td>\n",
       "      <td>PENTE LONDON BONITINHO PROFISSIONAL 1196</td>\n",
       "      <td>APAG</td>\n",
       "      <td>3</td>\n",
       "    </tr>\n",
       "    <tr>\n",
       "      <th>1</th>\n",
       "      <td>000011</td>\n",
       "      <td>DESATIVADO BIOFENAC LP 100MG CPS C/20</td>\n",
       "      <td>ACHE</td>\n",
       "      <td>6</td>\n",
       "    </tr>\n",
       "    <tr>\n",
       "      <th>2</th>\n",
       "      <td>007288</td>\n",
       "      <td>REDOXON 1G LIMAO CPR C/10</td>\n",
       "      <td>BAYER OTC</td>\n",
       "      <td>6</td>\n",
       "    </tr>\n",
       "    <tr>\n",
       "      <th>3</th>\n",
       "      <td>007582</td>\n",
       "      <td>CANDECLA-ENGOV ENV C/4</td>\n",
       "      <td>DIVERSOS</td>\n",
       "      <td>14</td>\n",
       "    </tr>\n",
       "    <tr>\n",
       "      <th>4</th>\n",
       "      <td>011215</td>\n",
       "      <td>FRAMB RAYS PAYOT 155ML</td>\n",
       "      <td>PAYOT</td>\n",
       "      <td>3</td>\n",
       "    </tr>\n",
       "  </tbody>\n",
       "</table>\n",
       "</div>"
      ],
      "text/plain": [
       "  codBarra                                      nome fabricante  categoria\n",
       "0           PENTE LONDON BONITINHO PROFISSIONAL 1196       APAG          3\n",
       "1   000011     DESATIVADO BIOFENAC LP 100MG CPS C/20       ACHE          6\n",
       "2   007288                 REDOXON 1G LIMAO CPR C/10  BAYER OTC          6\n",
       "3   007582                    CANDECLA-ENGOV ENV C/4   DIVERSOS         14\n",
       "4   011215                    FRAMB RAYS PAYOT 155ML      PAYOT          3"
      ]
     },
     "execution_count": 9,
     "metadata": {},
     "output_type": "execute_result"
    }
   ],
   "source": [
    "df_produto.head()"
   ]
  },
  {
   "cell_type": "code",
   "execution_count": 10,
   "metadata": {
    "collapsed": false
   },
   "outputs": [
    {
     "data": {
      "text/html": [
       "<div>\n",
       "<table border=\"1\" class=\"dataframe\">\n",
       "  <thead>\n",
       "    <tr style=\"text-align: right;\">\n",
       "      <th></th>\n",
       "      <th>codBarra</th>\n",
       "      <th>nome</th>\n",
       "      <th>fabricante</th>\n",
       "      <th>categoria</th>\n",
       "    </tr>\n",
       "  </thead>\n",
       "  <tbody>\n",
       "    <tr>\n",
       "      <th>29995</th>\n",
       "      <td>7896658001666</td>\n",
       "      <td>TANDRILAX 300+125+30mg cx 30 comp</td>\n",
       "      <td>ACHE</td>\n",
       "      <td>6</td>\n",
       "    </tr>\n",
       "    <tr>\n",
       "      <th>29996</th>\n",
       "      <td>7896658001680</td>\n",
       "      <td>VITA E 400mg fr 30 cap</td>\n",
       "      <td>ACHE</td>\n",
       "      <td>6</td>\n",
       "    </tr>\n",
       "    <tr>\n",
       "      <th>29997</th>\n",
       "      <td>7896658001727</td>\n",
       "      <td>NISULID 20mg/g gel bg 40g</td>\n",
       "      <td>ACHE</td>\n",
       "      <td>14</td>\n",
       "    </tr>\n",
       "    <tr>\n",
       "      <th>29998</th>\n",
       "      <td>7896658001741</td>\n",
       "      <td>NOVOCILIN 250mg/5ml po prep extemp sus oral f</td>\n",
       "      <td>ACHE</td>\n",
       "      <td>6</td>\n",
       "    </tr>\n",
       "    <tr>\n",
       "      <th>29999</th>\n",
       "      <td>7896658001765</td>\n",
       "      <td>ANTUX 30mg sol oral fr gts 20ml</td>\n",
       "      <td>ACHE</td>\n",
       "      <td>6</td>\n",
       "    </tr>\n",
       "  </tbody>\n",
       "</table>\n",
       "</div>"
      ],
      "text/plain": [
       "            codBarra                                           nome  \\\n",
       "29995  7896658001666              TANDRILAX 300+125+30mg cx 30 comp   \n",
       "29996  7896658001680                         VITA E 400mg fr 30 cap   \n",
       "29997  7896658001727                      NISULID 20mg/g gel bg 40g   \n",
       "29998  7896658001741  NOVOCILIN 250mg/5ml po prep extemp sus oral f   \n",
       "29999  7896658001765                ANTUX 30mg sol oral fr gts 20ml   \n",
       "\n",
       "      fabricante  categoria  \n",
       "29995       ACHE          6  \n",
       "29996       ACHE          6  \n",
       "29997       ACHE         14  \n",
       "29998       ACHE          6  \n",
       "29999       ACHE          6  "
      ]
     },
     "execution_count": 10,
     "metadata": {},
     "output_type": "execute_result"
    }
   ],
   "source": [
    "df_produto.tail()"
   ]
  },
  {
   "cell_type": "code",
   "execution_count": 11,
   "metadata": {
    "collapsed": false
   },
   "outputs": [
    {
     "data": {
      "text/plain": [
       "(30000, 4)"
      ]
     },
     "execution_count": 11,
     "metadata": {},
     "output_type": "execute_result"
    }
   ],
   "source": [
    "# Dimensions of the dataframe\n",
    "df_produto.shape"
   ]
  },
  {
   "cell_type": "code",
   "execution_count": 13,
   "metadata": {
    "collapsed": false
   },
   "outputs": [],
   "source": [
    "cur.close()"
   ]
  },
  {
   "cell_type": "markdown",
   "metadata": {},
   "source": [
    "### Query to create time series of sales since a given starting date (01/01/2013)"
   ]
  },
  {
   "cell_type": "code",
   "execution_count": 14,
   "metadata": {
    "collapsed": false
   },
   "outputs": [],
   "source": [
    "part1=\"select datavenda, categoria, idproduto, quantidade, (valorUnitario - descontoUnitario) from a2i2_monica.itemvenda\"\n",
    "part2= \" left join a2i2_monica.venda on a2i2_monica.itemvenda.idNotaVenda = a2i2_monica.venda.idNotaVenda\"\n",
    "part3= \" left join a2i2_monica.produto on a2i2_monica.itemvenda.idProduto = a2i2_monica.produto.codBarra\"\n",
    "part4 = \" where dataVenda >= '2015-07-01';\""
   ]
  },
  {
   "cell_type": "code",
   "execution_count": 15,
   "metadata": {
    "collapsed": false
   },
   "outputs": [],
   "source": [
    "sql_query_historico=part1+part2+part3+ part4"
   ]
  },
  {
   "cell_type": "code",
   "execution_count": 16,
   "metadata": {
    "collapsed": false
   },
   "outputs": [
    {
     "name": "stdout",
     "output_type": "stream",
     "text": [
      "select datavenda, categoria, idproduto, quantidade, (valorUnitario - descontoUnitario) from a2i2_monica.itemvenda left join a2i2_monica.venda on a2i2_monica.itemvenda.idNotaVenda = a2i2_monica.venda.idNotaVenda left join a2i2_monica.produto on a2i2_monica.itemvenda.idProduto = a2i2_monica.produto.codBarra where dataVenda >= '2015-07-01';\n"
     ]
    }
   ],
   "source": [
    "print sql_query_historico"
   ]
  },
  {
   "cell_type": "code",
   "execution_count": 17,
   "metadata": {
    "collapsed": false
   },
   "outputs": [
    {
     "name": "stdout",
     "output_type": "stream",
     "text": [
      "Wall time: 17min 43s\n"
     ]
    }
   ],
   "source": [
    "%%time\n",
    "df_query_historico = pd.read_sql(sql_query_historico, conn)"
   ]
  },
  {
   "cell_type": "code",
   "execution_count": 18,
   "metadata": {
    "collapsed": false
   },
   "outputs": [],
   "source": [
    "df_query_historico.rename(columns={'(valorUnitario - descontoUnitario)': 'venda_liq'}, inplace=True)"
   ]
  },
  {
   "cell_type": "code",
   "execution_count": 19,
   "metadata": {
    "collapsed": false
   },
   "outputs": [
    {
     "data": {
      "text/html": [
       "<div>\n",
       "<table border=\"1\" class=\"dataframe\">\n",
       "  <thead>\n",
       "    <tr style=\"text-align: right;\">\n",
       "      <th></th>\n",
       "      <th>datavenda</th>\n",
       "      <th>categoria</th>\n",
       "      <th>idproduto</th>\n",
       "      <th>quantidade</th>\n",
       "      <th>venda_liq</th>\n",
       "    </tr>\n",
       "  </thead>\n",
       "  <tbody>\n",
       "    <tr>\n",
       "      <th>0</th>\n",
       "      <td>2015-07-11</td>\n",
       "      <td>3</td>\n",
       "      <td>7898422751234</td>\n",
       "      <td>1</td>\n",
       "      <td>3.03</td>\n",
       "    </tr>\n",
       "    <tr>\n",
       "      <th>1</th>\n",
       "      <td>2015-07-01</td>\n",
       "      <td>6</td>\n",
       "      <td>7891106006279</td>\n",
       "      <td>1</td>\n",
       "      <td>11.82</td>\n",
       "    </tr>\n",
       "    <tr>\n",
       "      <th>2</th>\n",
       "      <td>2015-07-01</td>\n",
       "      <td>14</td>\n",
       "      <td>7891104193087</td>\n",
       "      <td>1</td>\n",
       "      <td>5.42</td>\n",
       "    </tr>\n",
       "    <tr>\n",
       "      <th>3</th>\n",
       "      <td>2015-07-01</td>\n",
       "      <td>20</td>\n",
       "      <td>7898495602457</td>\n",
       "      <td>2</td>\n",
       "      <td>8.68</td>\n",
       "    </tr>\n",
       "    <tr>\n",
       "      <th>4</th>\n",
       "      <td>2015-07-02</td>\n",
       "      <td>6</td>\n",
       "      <td>7891106006279</td>\n",
       "      <td>1</td>\n",
       "      <td>11.94</td>\n",
       "    </tr>\n",
       "  </tbody>\n",
       "</table>\n",
       "</div>"
      ],
      "text/plain": [
       "    datavenda  categoria      idproduto  quantidade  venda_liq\n",
       "0  2015-07-11          3  7898422751234           1       3.03\n",
       "1  2015-07-01          6  7891106006279           1      11.82\n",
       "2  2015-07-01         14  7891104193087           1       5.42\n",
       "3  2015-07-01         20  7898495602457           2       8.68\n",
       "4  2015-07-02          6  7891106006279           1      11.94"
      ]
     },
     "execution_count": 19,
     "metadata": {},
     "output_type": "execute_result"
    }
   ],
   "source": [
    "df_query_historico.head()"
   ]
  },
  {
   "cell_type": "code",
   "execution_count": 20,
   "metadata": {
    "collapsed": false
   },
   "outputs": [
    {
     "data": {
      "text/html": [
       "<div>\n",
       "<table border=\"1\" class=\"dataframe\">\n",
       "  <thead>\n",
       "    <tr style=\"text-align: right;\">\n",
       "      <th></th>\n",
       "      <th>datavenda</th>\n",
       "      <th>categoria</th>\n",
       "      <th>idproduto</th>\n",
       "      <th>quantidade</th>\n",
       "      <th>venda_liq</th>\n",
       "    </tr>\n",
       "  </thead>\n",
       "  <tbody>\n",
       "    <tr>\n",
       "      <th>44122</th>\n",
       "      <td>2015-07-31</td>\n",
       "      <td>3</td>\n",
       "      <td>340525</td>\n",
       "      <td>1</td>\n",
       "      <td>2</td>\n",
       "    </tr>\n",
       "    <tr>\n",
       "      <th>44123</th>\n",
       "      <td>2015-07-31</td>\n",
       "      <td>3</td>\n",
       "      <td>340525</td>\n",
       "      <td>1</td>\n",
       "      <td>2</td>\n",
       "    </tr>\n",
       "    <tr>\n",
       "      <th>44124</th>\n",
       "      <td>2015-07-31</td>\n",
       "      <td>3</td>\n",
       "      <td>340525</td>\n",
       "      <td>1</td>\n",
       "      <td>2</td>\n",
       "    </tr>\n",
       "    <tr>\n",
       "      <th>44125</th>\n",
       "      <td>2015-07-31</td>\n",
       "      <td>3</td>\n",
       "      <td>340525</td>\n",
       "      <td>1</td>\n",
       "      <td>2</td>\n",
       "    </tr>\n",
       "    <tr>\n",
       "      <th>44126</th>\n",
       "      <td>2015-07-31</td>\n",
       "      <td>3</td>\n",
       "      <td>340525</td>\n",
       "      <td>1</td>\n",
       "      <td>2</td>\n",
       "    </tr>\n",
       "  </tbody>\n",
       "</table>\n",
       "</div>"
      ],
      "text/plain": [
       "        datavenda  categoria idproduto  quantidade  venda_liq\n",
       "44122  2015-07-31          3    340525           1          2\n",
       "44123  2015-07-31          3    340525           1          2\n",
       "44124  2015-07-31          3    340525           1          2\n",
       "44125  2015-07-31          3    340525           1          2\n",
       "44126  2015-07-31          3    340525           1          2"
      ]
     },
     "execution_count": 20,
     "metadata": {},
     "output_type": "execute_result"
    }
   ],
   "source": [
    "df_query_historico.tail()"
   ]
  },
  {
   "cell_type": "markdown",
   "metadata": {},
   "source": [
    "### Creating a Dataframe with a column of totals and columns of quantities sold for all categories"
   ]
  },
  {
   "cell_type": "code",
   "execution_count": 21,
   "metadata": {
    "collapsed": false
   },
   "outputs": [],
   "source": [
    "df_total_sales=pd.pivot_table(df_query_historico,index=[\"datavenda\"], \n",
    "                   columns=[\"categoria\"], values = [\"venda_liq\"], aggfunc=[np.sum,len],fill_value=0,margins=True)"
   ]
  },
  {
   "cell_type": "markdown",
   "metadata": {},
   "source": [
    "#### Subsetting The Dataframe to make sure indexes are correct"
   ]
  },
  {
   "cell_type": "code",
   "execution_count": 22,
   "metadata": {
    "collapsed": false
   },
   "outputs": [
    {
     "data": {
      "text/html": [
       "<div>\n",
       "<table border=\"1\" class=\"dataframe\">\n",
       "  <thead>\n",
       "    <tr>\n",
       "      <th></th>\n",
       "      <th colspan=\"10\" halign=\"left\">sum</th>\n",
       "    </tr>\n",
       "    <tr>\n",
       "      <th></th>\n",
       "      <th colspan=\"10\" halign=\"left\">venda_liq</th>\n",
       "    </tr>\n",
       "    <tr>\n",
       "      <th>categoria</th>\n",
       "      <th>1</th>\n",
       "      <th>2</th>\n",
       "      <th>3</th>\n",
       "      <th>4</th>\n",
       "      <th>5</th>\n",
       "      <th>6</th>\n",
       "      <th>7</th>\n",
       "      <th>8</th>\n",
       "      <th>9</th>\n",
       "      <th>10</th>\n",
       "    </tr>\n",
       "    <tr>\n",
       "      <th>datavenda</th>\n",
       "      <th></th>\n",
       "      <th></th>\n",
       "      <th></th>\n",
       "      <th></th>\n",
       "      <th></th>\n",
       "      <th></th>\n",
       "      <th></th>\n",
       "      <th></th>\n",
       "      <th></th>\n",
       "      <th></th>\n",
       "    </tr>\n",
       "  </thead>\n",
       "  <tbody>\n",
       "    <tr>\n",
       "      <th>2015-07-01</th>\n",
       "      <td>188.32</td>\n",
       "      <td>187.71</td>\n",
       "      <td>900.25</td>\n",
       "      <td>428.58</td>\n",
       "      <td>18.19</td>\n",
       "      <td>5023.35</td>\n",
       "      <td>171.78</td>\n",
       "      <td>2463.85</td>\n",
       "      <td>273.57</td>\n",
       "      <td>214.91</td>\n",
       "    </tr>\n",
       "    <tr>\n",
       "      <th>2015-07-02</th>\n",
       "      <td>232.14</td>\n",
       "      <td>225.50</td>\n",
       "      <td>1010.09</td>\n",
       "      <td>374.28</td>\n",
       "      <td>50.87</td>\n",
       "      <td>5092.63</td>\n",
       "      <td>204.22</td>\n",
       "      <td>2819.37</td>\n",
       "      <td>283.70</td>\n",
       "      <td>173.80</td>\n",
       "    </tr>\n",
       "    <tr>\n",
       "      <th>2015-07-03</th>\n",
       "      <td>195.22</td>\n",
       "      <td>298.60</td>\n",
       "      <td>1060.00</td>\n",
       "      <td>393.77</td>\n",
       "      <td>38.44</td>\n",
       "      <td>4703.60</td>\n",
       "      <td>115.10</td>\n",
       "      <td>2187.87</td>\n",
       "      <td>254.79</td>\n",
       "      <td>193.36</td>\n",
       "    </tr>\n",
       "    <tr>\n",
       "      <th>2015-07-04</th>\n",
       "      <td>207.90</td>\n",
       "      <td>189.66</td>\n",
       "      <td>760.46</td>\n",
       "      <td>341.80</td>\n",
       "      <td>80.66</td>\n",
       "      <td>3889.70</td>\n",
       "      <td>215.79</td>\n",
       "      <td>2656.00</td>\n",
       "      <td>147.69</td>\n",
       "      <td>170.09</td>\n",
       "    </tr>\n",
       "    <tr>\n",
       "      <th>2015-07-05</th>\n",
       "      <td>171.88</td>\n",
       "      <td>172.91</td>\n",
       "      <td>517.00</td>\n",
       "      <td>193.75</td>\n",
       "      <td>5.64</td>\n",
       "      <td>2141.88</td>\n",
       "      <td>88.67</td>\n",
       "      <td>1405.92</td>\n",
       "      <td>146.76</td>\n",
       "      <td>129.21</td>\n",
       "    </tr>\n",
       "  </tbody>\n",
       "</table>\n",
       "</div>"
      ],
      "text/plain": [
       "                 sum                                                   \\\n",
       "           venda_liq                                                    \n",
       "categoria         1       2        3       4      5        6       7    \n",
       "datavenda                                                               \n",
       "2015-07-01    188.32  187.71   900.25  428.58  18.19  5023.35  171.78   \n",
       "2015-07-02    232.14  225.50  1010.09  374.28  50.87  5092.63  204.22   \n",
       "2015-07-03    195.22  298.60  1060.00  393.77  38.44  4703.60  115.10   \n",
       "2015-07-04    207.90  189.66   760.46  341.80  80.66  3889.70  215.79   \n",
       "2015-07-05    171.88  172.91   517.00  193.75   5.64  2141.88   88.67   \n",
       "\n",
       "                                     \n",
       "                                     \n",
       "categoria        8       9       10  \n",
       "datavenda                            \n",
       "2015-07-01  2463.85  273.57  214.91  \n",
       "2015-07-02  2819.37  283.70  173.80  \n",
       "2015-07-03  2187.87  254.79  193.36  \n",
       "2015-07-04  2656.00  147.69  170.09  \n",
       "2015-07-05  1405.92  146.76  129.21  "
      ]
     },
     "execution_count": 22,
     "metadata": {},
     "output_type": "execute_result"
    }
   ],
   "source": [
    "df_total_sales.ix[0:5,0:10]"
   ]
  },
  {
   "cell_type": "code",
   "execution_count": 23,
   "metadata": {
    "collapsed": false
   },
   "outputs": [
    {
     "data": {
      "text/html": [
       "<div>\n",
       "<table border=\"1\" class=\"dataframe\">\n",
       "  <thead>\n",
       "    <tr>\n",
       "      <th></th>\n",
       "      <th colspan=\"2\" halign=\"left\">sum</th>\n",
       "      <th colspan=\"19\" halign=\"left\">len</th>\n",
       "    </tr>\n",
       "    <tr>\n",
       "      <th></th>\n",
       "      <th colspan=\"2\" halign=\"left\">venda_liq</th>\n",
       "      <th colspan=\"19\" halign=\"left\">venda_liq</th>\n",
       "    </tr>\n",
       "    <tr>\n",
       "      <th>categoria</th>\n",
       "      <th>22.0</th>\n",
       "      <th>All</th>\n",
       "      <th>1.0</th>\n",
       "      <th>2.0</th>\n",
       "      <th>3.0</th>\n",
       "      <th>4.0</th>\n",
       "      <th>5.0</th>\n",
       "      <th>6.0</th>\n",
       "      <th>7.0</th>\n",
       "      <th>8.0</th>\n",
       "      <th>...</th>\n",
       "      <th>14.0</th>\n",
       "      <th>15.0</th>\n",
       "      <th>16.0</th>\n",
       "      <th>17.0</th>\n",
       "      <th>18.0</th>\n",
       "      <th>19.0</th>\n",
       "      <th>20.0</th>\n",
       "      <th>21.0</th>\n",
       "      <th>22.0</th>\n",
       "      <th>All</th>\n",
       "    </tr>\n",
       "    <tr>\n",
       "      <th>datavenda</th>\n",
       "      <th></th>\n",
       "      <th></th>\n",
       "      <th></th>\n",
       "      <th></th>\n",
       "      <th></th>\n",
       "      <th></th>\n",
       "      <th></th>\n",
       "      <th></th>\n",
       "      <th></th>\n",
       "      <th></th>\n",
       "      <th></th>\n",
       "      <th></th>\n",
       "      <th></th>\n",
       "      <th></th>\n",
       "      <th></th>\n",
       "      <th></th>\n",
       "      <th></th>\n",
       "      <th></th>\n",
       "      <th></th>\n",
       "      <th></th>\n",
       "      <th></th>\n",
       "    </tr>\n",
       "  </thead>\n",
       "  <tbody>\n",
       "    <tr>\n",
       "      <th>2015-07-01</th>\n",
       "      <td>217.93</td>\n",
       "      <td>16937.60</td>\n",
       "      <td>37</td>\n",
       "      <td>27</td>\n",
       "      <td>152</td>\n",
       "      <td>157</td>\n",
       "      <td>3</td>\n",
       "      <td>229</td>\n",
       "      <td>21</td>\n",
       "      <td>176</td>\n",
       "      <td>...</td>\n",
       "      <td>372</td>\n",
       "      <td>27</td>\n",
       "      <td>20</td>\n",
       "      <td>29</td>\n",
       "      <td>29</td>\n",
       "      <td>0</td>\n",
       "      <td>187</td>\n",
       "      <td>0</td>\n",
       "      <td>17</td>\n",
       "      <td>1659</td>\n",
       "    </tr>\n",
       "    <tr>\n",
       "      <th>2015-07-02</th>\n",
       "      <td>310.10</td>\n",
       "      <td>17328.82</td>\n",
       "      <td>45</td>\n",
       "      <td>32</td>\n",
       "      <td>159</td>\n",
       "      <td>142</td>\n",
       "      <td>8</td>\n",
       "      <td>220</td>\n",
       "      <td>22</td>\n",
       "      <td>225</td>\n",
       "      <td>...</td>\n",
       "      <td>391</td>\n",
       "      <td>40</td>\n",
       "      <td>30</td>\n",
       "      <td>15</td>\n",
       "      <td>33</td>\n",
       "      <td>1</td>\n",
       "      <td>163</td>\n",
       "      <td>1</td>\n",
       "      <td>26</td>\n",
       "      <td>1706</td>\n",
       "    </tr>\n",
       "    <tr>\n",
       "      <th>2015-07-03</th>\n",
       "      <td>464.43</td>\n",
       "      <td>16543.05</td>\n",
       "      <td>46</td>\n",
       "      <td>31</td>\n",
       "      <td>158</td>\n",
       "      <td>141</td>\n",
       "      <td>5</td>\n",
       "      <td>209</td>\n",
       "      <td>24</td>\n",
       "      <td>189</td>\n",
       "      <td>...</td>\n",
       "      <td>414</td>\n",
       "      <td>34</td>\n",
       "      <td>31</td>\n",
       "      <td>32</td>\n",
       "      <td>37</td>\n",
       "      <td>1</td>\n",
       "      <td>167</td>\n",
       "      <td>0</td>\n",
       "      <td>35</td>\n",
       "      <td>1700</td>\n",
       "    </tr>\n",
       "    <tr>\n",
       "      <th>2015-07-04</th>\n",
       "      <td>428.22</td>\n",
       "      <td>15221.33</td>\n",
       "      <td>41</td>\n",
       "      <td>24</td>\n",
       "      <td>127</td>\n",
       "      <td>113</td>\n",
       "      <td>6</td>\n",
       "      <td>178</td>\n",
       "      <td>24</td>\n",
       "      <td>200</td>\n",
       "      <td>...</td>\n",
       "      <td>369</td>\n",
       "      <td>25</td>\n",
       "      <td>11</td>\n",
       "      <td>29</td>\n",
       "      <td>15</td>\n",
       "      <td>2</td>\n",
       "      <td>174</td>\n",
       "      <td>0</td>\n",
       "      <td>36</td>\n",
       "      <td>1517</td>\n",
       "    </tr>\n",
       "    <tr>\n",
       "      <th>2015-07-05</th>\n",
       "      <td>152.06</td>\n",
       "      <td>8561.77</td>\n",
       "      <td>28</td>\n",
       "      <td>15</td>\n",
       "      <td>87</td>\n",
       "      <td>64</td>\n",
       "      <td>2</td>\n",
       "      <td>90</td>\n",
       "      <td>12</td>\n",
       "      <td>89</td>\n",
       "      <td>...</td>\n",
       "      <td>201</td>\n",
       "      <td>10</td>\n",
       "      <td>4</td>\n",
       "      <td>21</td>\n",
       "      <td>21</td>\n",
       "      <td>0</td>\n",
       "      <td>73</td>\n",
       "      <td>0</td>\n",
       "      <td>13</td>\n",
       "      <td>828</td>\n",
       "    </tr>\n",
       "  </tbody>\n",
       "</table>\n",
       "<p>5 rows × 25 columns</p>\n",
       "</div>"
      ],
      "text/plain": [
       "                 sum                 len                                  \\\n",
       "           venda_liq           venda_liq                                   \n",
       "categoria       22.0       All       1.0 2.0  3.0  4.0 5.0  6.0 7.0  8.0   \n",
       "datavenda                                                                  \n",
       "2015-07-01    217.93  16937.60        37  27  152  157   3  229  21  176   \n",
       "2015-07-02    310.10  17328.82        45  32  159  142   8  220  22  225   \n",
       "2015-07-03    464.43  16543.05        46  31  158  141   5  209  24  189   \n",
       "2015-07-04    428.22  15221.33        41  24  127  113   6  178  24  200   \n",
       "2015-07-05    152.06   8561.77        28  15   87   64   2   90  12   89   \n",
       "\n",
       "            ...                                                      \n",
       "            ...                                                      \n",
       "categoria   ...  14.0 15.0 16.0 17.0 18.0 19.0 20.0 21.0 22.0   All  \n",
       "datavenda   ...                                                      \n",
       "2015-07-01  ...   372   27   20   29   29    0  187    0   17  1659  \n",
       "2015-07-02  ...   391   40   30   15   33    1  163    1   26  1706  \n",
       "2015-07-03  ...   414   34   31   32   37    1  167    0   35  1700  \n",
       "2015-07-04  ...   369   25   11   29   15    2  174    0   36  1517  \n",
       "2015-07-05  ...   201   10    4   21   21    0   73    0   13   828  \n",
       "\n",
       "[5 rows x 25 columns]"
      ]
     },
     "execution_count": 23,
     "metadata": {},
     "output_type": "execute_result"
    }
   ],
   "source": [
    "df_total_sales.ix[0:5,21:48]"
   ]
  },
  {
   "cell_type": "code",
   "execution_count": 24,
   "metadata": {
    "collapsed": false
   },
   "outputs": [
    {
     "data": {
      "text/plain": [
       "MultiIndex(levels=[[u'sum', u'len'], [u'venda_liq'], [1.0, 2.0, 3.0, 4.0, 5.0, 6.0, 7.0, 8.0, 9.0, 10.0, 11.0, 12.0, 13.0, 14.0, 15.0, 16.0, 17.0, 18.0, 19.0, 20.0, 21.0, 22.0, u'All']],\n",
       "           labels=[[0, 0, 0, 0, 0, 0, 0, 0, 0, 0, 0, 0, 0, 0, 0, 0, 0, 0, 0, 0, 0, 0, 0, 1, 1, 1, 1, 1, 1, 1, 1, 1, 1, 1, 1, 1, 1, 1, 1, 1, 1, 1, 1, 1, 1, 1], [0, 0, 0, 0, 0, 0, 0, 0, 0, 0, 0, 0, 0, 0, 0, 0, 0, 0, 0, 0, 0, 0, 0, 0, 0, 0, 0, 0, 0, 0, 0, 0, 0, 0, 0, 0, 0, 0, 0, 0, 0, 0, 0, 0, 0, 0], [0, 1, 2, 3, 4, 5, 6, 7, 8, 9, 10, 11, 12, 13, 14, 15, 16, 17, 18, 19, 20, 21, 22, 0, 1, 2, 3, 4, 5, 6, 7, 8, 9, 10, 11, 12, 13, 14, 15, 16, 17, 18, 19, 20, 21, 22]],\n",
       "           names=[None, None, u'categoria'])"
      ]
     },
     "execution_count": 24,
     "metadata": {},
     "output_type": "execute_result"
    }
   ],
   "source": [
    "df_total_sales.columns"
   ]
  },
  {
   "cell_type": "code",
   "execution_count": 25,
   "metadata": {
    "collapsed": false
   },
   "outputs": [
    {
     "data": {
      "text/plain": [
       "datavenda\n",
       "2015-07-01    16937.60\n",
       "2015-07-02    17328.82\n",
       "2015-07-03    16543.05\n",
       "2015-07-04    15221.33\n",
       "2015-07-05     8561.77\n",
       "2015-07-06    17473.72\n",
       "2015-07-07    15563.92\n",
       "2015-07-08    14001.50\n",
       "2015-07-09    16360.03\n",
       "2015-07-10    18072.12\n",
       "Name: (sum, venda_liq, All), dtype: float64"
      ]
     },
     "execution_count": 25,
     "metadata": {},
     "output_type": "execute_result"
    }
   ],
   "source": [
    "# Acessing the column of total sales via index\n",
    "df_total_sales.ix[0:10,22]"
   ]
  },
  {
   "cell_type": "code",
   "execution_count": 26,
   "metadata": {
    "collapsed": false
   },
   "outputs": [
    {
     "data": {
      "text/plain": [
       "datavenda\n",
       "2015-07-01    16937.60\n",
       "2015-07-02    17328.82\n",
       "2015-07-03    16543.05\n",
       "2015-07-04    15221.33\n",
       "2015-07-05     8561.77\n",
       "2015-07-06    17473.72\n",
       "2015-07-07    15563.92\n",
       "2015-07-08    14001.50\n",
       "2015-07-09    16360.03\n",
       "2015-07-10    18072.12\n",
       "Name: (sum, venda_liq, All), dtype: float64"
      ]
     },
     "execution_count": 26,
     "metadata": {},
     "output_type": "execute_result"
    }
   ],
   "source": [
    "# Acessing the column of total sales via name\n",
    "df_total_sales[\"sum\", \"venda_liq\",\"All\"][0:10]"
   ]
  },
  {
   "cell_type": "code",
   "execution_count": 27,
   "metadata": {
    "collapsed": false
   },
   "outputs": [],
   "source": [
    "# Number of observations of sales data \n",
    "num_rows=len(df_total_sales.index)"
   ]
  },
  {
   "cell_type": "code",
   "execution_count": 28,
   "metadata": {
    "collapsed": false
   },
   "outputs": [],
   "source": [
    "# Create time index\n",
    "t=df_total_sales.index.values"
   ]
  },
  {
   "cell_type": "code",
   "execution_count": 29,
   "metadata": {
    "collapsed": false
   },
   "outputs": [
    {
     "data": {
      "text/plain": [
       "numpy.ndarray"
      ]
     },
     "execution_count": 29,
     "metadata": {},
     "output_type": "execute_result"
    }
   ],
   "source": [
    "type(t)"
   ]
  },
  {
   "cell_type": "code",
   "execution_count": 30,
   "metadata": {
    "collapsed": false
   },
   "outputs": [
    {
     "data": {
      "text/plain": [
       "array([datetime.date(2015, 7, 1), datetime.date(2015, 7, 2),\n",
       "       datetime.date(2015, 7, 3), datetime.date(2015, 7, 4),\n",
       "       datetime.date(2015, 7, 5), datetime.date(2015, 7, 6),\n",
       "       datetime.date(2015, 7, 7), datetime.date(2015, 7, 8),\n",
       "       datetime.date(2015, 7, 9), datetime.date(2015, 7, 10)], dtype=object)"
      ]
     },
     "execution_count": 30,
     "metadata": {},
     "output_type": "execute_result"
    }
   ],
   "source": [
    "t[0:10]"
   ]
  },
  {
   "cell_type": "code",
   "execution_count": 47,
   "metadata": {
    "collapsed": false
   },
   "outputs": [
    {
     "data": {
      "text/plain": [
       "(32L,)"
      ]
     },
     "execution_count": 47,
     "metadata": {},
     "output_type": "execute_result"
    }
   ],
   "source": [
    "t.shape"
   ]
  },
  {
   "cell_type": "code",
   "execution_count": 48,
   "metadata": {
    "collapsed": false
   },
   "outputs": [
    {
     "data": {
      "text/plain": [
       "numpy.ndarray"
      ]
     },
     "execution_count": 48,
     "metadata": {},
     "output_type": "execute_result"
    }
   ],
   "source": [
    "type(t)"
   ]
  },
  {
   "cell_type": "code",
   "execution_count": 33,
   "metadata": {
    "collapsed": false
   },
   "outputs": [
    {
     "data": {
      "text/plain": [
       "datavenda\n",
       "2015-07-01    16937.60\n",
       "2015-07-02    17328.82\n",
       "2015-07-03    16543.05\n",
       "Name: (sum, venda_liq, All), dtype: float64"
      ]
     },
     "execution_count": 33,
     "metadata": {},
     "output_type": "execute_result"
    }
   ],
   "source": [
    "df_total_sales[\"sum\", \"venda_liq\",\"All\"][0:3]"
   ]
  },
  {
   "cell_type": "code",
   "execution_count": 34,
   "metadata": {
    "collapsed": false
   },
   "outputs": [
    {
     "data": {
      "text/plain": [
       "(32, 46)"
      ]
     },
     "execution_count": 34,
     "metadata": {},
     "output_type": "execute_result"
    }
   ],
   "source": [
    "# Dimensions of the total sales dataframe\n",
    "df_total_sales.shape"
   ]
  },
  {
   "cell_type": "code",
   "execution_count": 37,
   "metadata": {
    "collapsed": false
   },
   "outputs": [
    {
     "name": "stdout",
     "output_type": "stream",
     "text": [
      "2015-07-01 00:00:00\n"
     ]
    }
   ],
   "source": [
    "start = pd.to_datetime(str(t[0]))\n",
    "print start"
   ]
  },
  {
   "cell_type": "code",
   "execution_count": 57,
   "metadata": {
    "collapsed": false
   },
   "outputs": [
    {
     "data": {
      "text/plain": [
       "32"
      ]
     },
     "execution_count": 57,
     "metadata": {},
     "output_type": "execute_result"
    }
   ],
   "source": [
    "num_rows"
   ]
  },
  {
   "cell_type": "code",
   "execution_count": 71,
   "metadata": {
    "collapsed": false
   },
   "outputs": [
    {
     "name": "stdout",
     "output_type": "stream",
     "text": [
      "[datetime.date(2015, 7, 1) datetime.date(2015, 7, 2)\n",
      " datetime.date(2015, 7, 3) datetime.date(2015, 7, 4)\n",
      " datetime.date(2015, 7, 5) datetime.date(2015, 7, 6)\n",
      " datetime.date(2015, 7, 7) datetime.date(2015, 7, 8)\n",
      " datetime.date(2015, 7, 9) datetime.date(2015, 7, 10)\n",
      " datetime.date(2015, 7, 11) datetime.date(2015, 7, 12)\n",
      " datetime.date(2015, 7, 13) datetime.date(2015, 7, 14)\n",
      " datetime.date(2015, 7, 15) datetime.date(2015, 7, 16)\n",
      " datetime.date(2015, 7, 17) datetime.date(2015, 7, 18)\n",
      " datetime.date(2015, 7, 19) datetime.date(2015, 7, 20)\n",
      " datetime.date(2015, 7, 21) datetime.date(2015, 7, 22)\n",
      " datetime.date(2015, 7, 23) datetime.date(2015, 7, 24)\n",
      " datetime.date(2015, 7, 25) datetime.date(2015, 7, 26)\n",
      " datetime.date(2015, 7, 27) datetime.date(2015, 7, 28)\n",
      " datetime.date(2015, 7, 29) datetime.date(2015, 7, 30)\n",
      " datetime.date(2015, 7, 31) 'All']\n"
     ]
    }
   ],
   "source": [
    "print t"
   ]
  },
  {
   "cell_type": "code",
   "execution_count": 136,
   "metadata": {
    "collapsed": false
   },
   "outputs": [],
   "source": [
    "dt_reference = [ts for ts in pd.to_timedelta(range(len(t)-1), unit='d') + pd.to_datetime(start)]"
   ]
  },
  {
   "cell_type": "code",
   "execution_count": 137,
   "metadata": {
    "collapsed": false
   },
   "outputs": [
    {
     "name": "stdout",
     "output_type": "stream",
     "text": [
      "[Timestamp('2015-07-01 00:00:00'), Timestamp('2015-07-02 00:00:00'), Timestamp('2015-07-03 00:00:00'), Timestamp('2015-07-04 00:00:00'), Timestamp('2015-07-05 00:00:00'), Timestamp('2015-07-06 00:00:00'), Timestamp('2015-07-07 00:00:00'), Timestamp('2015-07-08 00:00:00'), Timestamp('2015-07-09 00:00:00'), Timestamp('2015-07-10 00:00:00'), Timestamp('2015-07-11 00:00:00'), Timestamp('2015-07-12 00:00:00'), Timestamp('2015-07-13 00:00:00'), Timestamp('2015-07-14 00:00:00'), Timestamp('2015-07-15 00:00:00'), Timestamp('2015-07-16 00:00:00'), Timestamp('2015-07-17 00:00:00'), Timestamp('2015-07-18 00:00:00'), Timestamp('2015-07-19 00:00:00'), Timestamp('2015-07-20 00:00:00'), Timestamp('2015-07-21 00:00:00'), Timestamp('2015-07-22 00:00:00'), Timestamp('2015-07-23 00:00:00'), Timestamp('2015-07-24 00:00:00'), Timestamp('2015-07-25 00:00:00'), Timestamp('2015-07-26 00:00:00'), Timestamp('2015-07-27 00:00:00'), Timestamp('2015-07-28 00:00:00'), Timestamp('2015-07-29 00:00:00'), Timestamp('2015-07-30 00:00:00'), Timestamp('2015-07-31 00:00:00')]\n"
     ]
    }
   ],
   "source": [
    "print dt_reference"
   ]
  },
  {
   "cell_type": "code",
   "execution_count": 138,
   "metadata": {
    "collapsed": true
   },
   "outputs": [],
   "source": [
    "venda_total = df_total_sales[\"sum\", \"venda_liq\",\"All\"]"
   ]
  },
  {
   "cell_type": "code",
   "execution_count": 139,
   "metadata": {
    "collapsed": false
   },
   "outputs": [
    {
     "name": "stdout",
     "output_type": "stream",
     "text": [
      "datavenda\n",
      "2015-07-01     16937.60\n",
      "2015-07-02     17328.82\n",
      "2015-07-03     16543.05\n",
      "2015-07-04     15221.33\n",
      "2015-07-05      8561.77\n",
      "2015-07-06     17473.72\n",
      "2015-07-07     15563.92\n",
      "2015-07-08     14001.50\n",
      "2015-07-09     16360.03\n",
      "2015-07-10     18072.12\n",
      "2015-07-11     14946.13\n",
      "2015-07-12      8816.72\n",
      "2015-07-13     16720.79\n",
      "2015-07-14     15017.15\n",
      "2015-07-15     16558.45\n",
      "2015-07-16     17267.12\n",
      "2015-07-17     16547.02\n",
      "2015-07-18     15575.19\n",
      "2015-07-19      8048.71\n",
      "2015-07-20     14192.70\n",
      "2015-07-21     15419.64\n",
      "2015-07-22     15221.32\n",
      "2015-07-23     13119.28\n",
      "2015-07-24     16337.37\n",
      "2015-07-25     13015.35\n",
      "2015-07-26      8721.18\n",
      "2015-07-27     15092.36\n",
      "2015-07-28     14212.57\n",
      "2015-07-29     14540.96\n",
      "2015-07-30     13344.13\n",
      "2015-07-31     14273.74\n",
      "All           453051.74\n",
      "Name: (sum, venda_liq, All), dtype: float64\n"
     ]
    }
   ],
   "source": [
    "print venda_total"
   ]
  },
  {
   "cell_type": "code",
   "execution_count": 140,
   "metadata": {
    "collapsed": false
   },
   "outputs": [
    {
     "data": {
      "text/plain": [
       "32"
      ]
     },
     "execution_count": 140,
     "metadata": {},
     "output_type": "execute_result"
    }
   ],
   "source": [
    "len(venda_total)"
   ]
  },
  {
   "cell_type": "code",
   "execution_count": 146,
   "metadata": {
    "collapsed": true
   },
   "outputs": [],
   "source": [
    "df_total_sales_plot=pd.DataFrame({'dt_reference': dt_reference[0:len(venda_total)-2], 'Venda Liq': venda_total[0:len(venda_total)-2]})"
   ]
  },
  {
   "cell_type": "code",
   "execution_count": 147,
   "metadata": {
    "collapsed": false
   },
   "outputs": [
    {
     "data": {
      "text/html": [
       "<div>\n",
       "<table border=\"1\" class=\"dataframe\">\n",
       "  <thead>\n",
       "    <tr style=\"text-align: right;\">\n",
       "      <th></th>\n",
       "      <th>Venda Liq</th>\n",
       "      <th>dt_reference</th>\n",
       "    </tr>\n",
       "    <tr>\n",
       "      <th>datavenda</th>\n",
       "      <th></th>\n",
       "      <th></th>\n",
       "    </tr>\n",
       "  </thead>\n",
       "  <tbody>\n",
       "    <tr>\n",
       "      <th>2015-07-01</th>\n",
       "      <td>16937.60</td>\n",
       "      <td>2015-07-01</td>\n",
       "    </tr>\n",
       "    <tr>\n",
       "      <th>2015-07-02</th>\n",
       "      <td>17328.82</td>\n",
       "      <td>2015-07-02</td>\n",
       "    </tr>\n",
       "    <tr>\n",
       "      <th>2015-07-03</th>\n",
       "      <td>16543.05</td>\n",
       "      <td>2015-07-03</td>\n",
       "    </tr>\n",
       "    <tr>\n",
       "      <th>2015-07-04</th>\n",
       "      <td>15221.33</td>\n",
       "      <td>2015-07-04</td>\n",
       "    </tr>\n",
       "    <tr>\n",
       "      <th>2015-07-05</th>\n",
       "      <td>8561.77</td>\n",
       "      <td>2015-07-05</td>\n",
       "    </tr>\n",
       "  </tbody>\n",
       "</table>\n",
       "</div>"
      ],
      "text/plain": [
       "            Venda Liq dt_reference\n",
       "datavenda                         \n",
       "2015-07-01   16937.60   2015-07-01\n",
       "2015-07-02   17328.82   2015-07-02\n",
       "2015-07-03   16543.05   2015-07-03\n",
       "2015-07-04   15221.33   2015-07-04\n",
       "2015-07-05    8561.77   2015-07-05"
      ]
     },
     "execution_count": 147,
     "metadata": {},
     "output_type": "execute_result"
    }
   ],
   "source": [
    "df_total_sales_plot.head()"
   ]
  },
  {
   "cell_type": "code",
   "execution_count": 148,
   "metadata": {
    "collapsed": false
   },
   "outputs": [
    {
     "ename": "UnicodeDecodeError",
     "evalue": "'ascii' codec can't decode byte 0xc3 in position 14: ordinal not in range(128)",
     "output_type": "error",
     "traceback": [
      "\u001b[1;31m---------------------------------------------------------------------------\u001b[0m",
      "\u001b[1;31mUnicodeDecodeError\u001b[0m                        Traceback (most recent call last)",
      "\u001b[1;32m<ipython-input-148-424226ae3054>\u001b[0m in \u001b[0;36m<module>\u001b[1;34m()\u001b[0m\n\u001b[1;32m----> 1\u001b[1;33m \u001b[0mdf_total_sales_plot\u001b[0m\u001b[1;33m.\u001b[0m\u001b[0mplot\u001b[0m\u001b[1;33m(\u001b[0m\u001b[0mfigsize\u001b[0m\u001b[1;33m=\u001b[0m\u001b[1;33m(\u001b[0m\u001b[1;36m12\u001b[0m\u001b[1;33m,\u001b[0m\u001b[1;36m6\u001b[0m\u001b[1;33m)\u001b[0m\u001b[1;33m,\u001b[0m \u001b[0mtitle\u001b[0m \u001b[1;33m=\u001b[0m \u001b[1;34m'Venda Total Diária'\u001b[0m\u001b[1;33m,\u001b[0m \u001b[0mx\u001b[0m\u001b[1;33m=\u001b[0m\u001b[1;34m'dt_reference'\u001b[0m\u001b[1;33m,\u001b[0m \u001b[0mcolor\u001b[0m \u001b[1;33m=\u001b[0m \u001b[1;34m\"red\"\u001b[0m\u001b[1;33m)\u001b[0m\u001b[1;33m;\u001b[0m\u001b[1;33m\u001b[0m\u001b[0m\n\u001b[0m\u001b[0;32m      2\u001b[0m \u001b[1;31m#pd.DataFrame({'data': [ts for ts in pd.to_timedelta(range(len(df_total_sales)),unit='d') + pd.to_datetime(t[0])], 'Vendas)':df_total_sales[\"sum\", \"venda_liq\",\"All\"] })\u001b[0m\u001b[1;33m\u001b[0m\u001b[1;33m\u001b[0m\u001b[0m\n",
      "\u001b[1;32mC:\\Users\\barro\\Anaconda2\\lib\\site-packages\\pandas\\tools\\plotting.pyc\u001b[0m in \u001b[0;36m__call__\u001b[1;34m(self, x, y, kind, ax, subplots, sharex, sharey, layout, figsize, use_index, title, grid, legend, style, logx, logy, loglog, xticks, yticks, xlim, ylim, rot, fontsize, colormap, table, yerr, xerr, secondary_y, sort_columns, **kwds)\u001b[0m\n\u001b[0;32m   3665\u001b[0m                           \u001b[0mfontsize\u001b[0m\u001b[1;33m=\u001b[0m\u001b[0mfontsize\u001b[0m\u001b[1;33m,\u001b[0m \u001b[0mcolormap\u001b[0m\u001b[1;33m=\u001b[0m\u001b[0mcolormap\u001b[0m\u001b[1;33m,\u001b[0m \u001b[0mtable\u001b[0m\u001b[1;33m=\u001b[0m\u001b[0mtable\u001b[0m\u001b[1;33m,\u001b[0m\u001b[1;33m\u001b[0m\u001b[0m\n\u001b[0;32m   3666\u001b[0m                           \u001b[0myerr\u001b[0m\u001b[1;33m=\u001b[0m\u001b[0myerr\u001b[0m\u001b[1;33m,\u001b[0m \u001b[0mxerr\u001b[0m\u001b[1;33m=\u001b[0m\u001b[0mxerr\u001b[0m\u001b[1;33m,\u001b[0m \u001b[0msecondary_y\u001b[0m\u001b[1;33m=\u001b[0m\u001b[0msecondary_y\u001b[0m\u001b[1;33m,\u001b[0m\u001b[1;33m\u001b[0m\u001b[0m\n\u001b[1;32m-> 3667\u001b[1;33m                           sort_columns=sort_columns, **kwds)\n\u001b[0m\u001b[0;32m   3668\u001b[0m     \u001b[0m__call__\u001b[0m\u001b[1;33m.\u001b[0m\u001b[0m__doc__\u001b[0m \u001b[1;33m=\u001b[0m \u001b[0mplot_frame\u001b[0m\u001b[1;33m.\u001b[0m\u001b[0m__doc__\u001b[0m\u001b[1;33m\u001b[0m\u001b[0m\n\u001b[0;32m   3669\u001b[0m \u001b[1;33m\u001b[0m\u001b[0m\n",
      "\u001b[1;32mC:\\Users\\barro\\Anaconda2\\lib\\site-packages\\pandas\\tools\\plotting.pyc\u001b[0m in \u001b[0;36mplot_frame\u001b[1;34m(data, x, y, kind, ax, subplots, sharex, sharey, layout, figsize, use_index, title, grid, legend, style, logx, logy, loglog, xticks, yticks, xlim, ylim, rot, fontsize, colormap, table, yerr, xerr, secondary_y, sort_columns, **kwds)\u001b[0m\n\u001b[0;32m   2550\u001b[0m                  \u001b[0myerr\u001b[0m\u001b[1;33m=\u001b[0m\u001b[0myerr\u001b[0m\u001b[1;33m,\u001b[0m \u001b[0mxerr\u001b[0m\u001b[1;33m=\u001b[0m\u001b[0mxerr\u001b[0m\u001b[1;33m,\u001b[0m\u001b[1;33m\u001b[0m\u001b[0m\n\u001b[0;32m   2551\u001b[0m                  \u001b[0msecondary_y\u001b[0m\u001b[1;33m=\u001b[0m\u001b[0msecondary_y\u001b[0m\u001b[1;33m,\u001b[0m \u001b[0msort_columns\u001b[0m\u001b[1;33m=\u001b[0m\u001b[0msort_columns\u001b[0m\u001b[1;33m,\u001b[0m\u001b[1;33m\u001b[0m\u001b[0m\n\u001b[1;32m-> 2552\u001b[1;33m                  **kwds)\n\u001b[0m\u001b[0;32m   2553\u001b[0m \u001b[1;33m\u001b[0m\u001b[0m\n\u001b[0;32m   2554\u001b[0m \u001b[1;33m\u001b[0m\u001b[0m\n",
      "\u001b[1;32mC:\\Users\\barro\\Anaconda2\\lib\\site-packages\\pandas\\tools\\plotting.pyc\u001b[0m in \u001b[0;36m_plot\u001b[1;34m(data, x, y, subplots, ax, kind, **kwds)\u001b[0m\n\u001b[0;32m   2378\u001b[0m         \u001b[0mplot_obj\u001b[0m \u001b[1;33m=\u001b[0m \u001b[0mklass\u001b[0m\u001b[1;33m(\u001b[0m\u001b[0mdata\u001b[0m\u001b[1;33m,\u001b[0m \u001b[0msubplots\u001b[0m\u001b[1;33m=\u001b[0m\u001b[0msubplots\u001b[0m\u001b[1;33m,\u001b[0m \u001b[0max\u001b[0m\u001b[1;33m=\u001b[0m\u001b[0max\u001b[0m\u001b[1;33m,\u001b[0m \u001b[0mkind\u001b[0m\u001b[1;33m=\u001b[0m\u001b[0mkind\u001b[0m\u001b[1;33m,\u001b[0m \u001b[1;33m**\u001b[0m\u001b[0mkwds\u001b[0m\u001b[1;33m)\u001b[0m\u001b[1;33m\u001b[0m\u001b[0m\n\u001b[0;32m   2379\u001b[0m \u001b[1;33m\u001b[0m\u001b[0m\n\u001b[1;32m-> 2380\u001b[1;33m     \u001b[0mplot_obj\u001b[0m\u001b[1;33m.\u001b[0m\u001b[0mgenerate\u001b[0m\u001b[1;33m(\u001b[0m\u001b[1;33m)\u001b[0m\u001b[1;33m\u001b[0m\u001b[0m\n\u001b[0m\u001b[0;32m   2381\u001b[0m     \u001b[0mplot_obj\u001b[0m\u001b[1;33m.\u001b[0m\u001b[0mdraw\u001b[0m\u001b[1;33m(\u001b[0m\u001b[1;33m)\u001b[0m\u001b[1;33m\u001b[0m\u001b[0m\n\u001b[0;32m   2382\u001b[0m     \u001b[1;32mreturn\u001b[0m \u001b[0mplot_obj\u001b[0m\u001b[1;33m.\u001b[0m\u001b[0mresult\u001b[0m\u001b[1;33m\u001b[0m\u001b[0m\n",
      "\u001b[1;32mC:\\Users\\barro\\Anaconda2\\lib\\site-packages\\pandas\\tools\\plotting.pyc\u001b[0m in \u001b[0;36mgenerate\u001b[1;34m(self)\u001b[0m\n\u001b[0;32m    990\u001b[0m             \u001b[0mself\u001b[0m\u001b[1;33m.\u001b[0m\u001b[0m_post_plot_logic_common\u001b[0m\u001b[1;33m(\u001b[0m\u001b[0max\u001b[0m\u001b[1;33m,\u001b[0m \u001b[0mself\u001b[0m\u001b[1;33m.\u001b[0m\u001b[0mdata\u001b[0m\u001b[1;33m)\u001b[0m\u001b[1;33m\u001b[0m\u001b[0m\n\u001b[0;32m    991\u001b[0m             \u001b[0mself\u001b[0m\u001b[1;33m.\u001b[0m\u001b[0m_post_plot_logic\u001b[0m\u001b[1;33m(\u001b[0m\u001b[0max\u001b[0m\u001b[1;33m,\u001b[0m \u001b[0mself\u001b[0m\u001b[1;33m.\u001b[0m\u001b[0mdata\u001b[0m\u001b[1;33m)\u001b[0m\u001b[1;33m\u001b[0m\u001b[0m\n\u001b[1;32m--> 992\u001b[1;33m         \u001b[0mself\u001b[0m\u001b[1;33m.\u001b[0m\u001b[0m_adorn_subplots\u001b[0m\u001b[1;33m(\u001b[0m\u001b[1;33m)\u001b[0m\u001b[1;33m\u001b[0m\u001b[0m\n\u001b[0m\u001b[0;32m    993\u001b[0m \u001b[1;33m\u001b[0m\u001b[0m\n\u001b[0;32m    994\u001b[0m     \u001b[1;32mdef\u001b[0m \u001b[0m_args_adjust\u001b[0m\u001b[1;33m(\u001b[0m\u001b[0mself\u001b[0m\u001b[1;33m)\u001b[0m\u001b[1;33m:\u001b[0m\u001b[1;33m\u001b[0m\u001b[0m\n",
      "\u001b[1;32mC:\\Users\\barro\\Anaconda2\\lib\\site-packages\\pandas\\tools\\plotting.pyc\u001b[0m in \u001b[0;36m_adorn_subplots\u001b[1;34m(self)\u001b[0m\n\u001b[0;32m   1162\u001b[0m                 \u001b[0mself\u001b[0m\u001b[1;33m.\u001b[0m\u001b[0mfig\u001b[0m\u001b[1;33m.\u001b[0m\u001b[0msuptitle\u001b[0m\u001b[1;33m(\u001b[0m\u001b[0mself\u001b[0m\u001b[1;33m.\u001b[0m\u001b[0mtitle\u001b[0m\u001b[1;33m)\u001b[0m\u001b[1;33m\u001b[0m\u001b[0m\n\u001b[0;32m   1163\u001b[0m             \u001b[1;32melse\u001b[0m\u001b[1;33m:\u001b[0m\u001b[1;33m\u001b[0m\u001b[0m\n\u001b[1;32m-> 1164\u001b[1;33m                 \u001b[0mself\u001b[0m\u001b[1;33m.\u001b[0m\u001b[0maxes\u001b[0m\u001b[1;33m[\u001b[0m\u001b[1;36m0\u001b[0m\u001b[1;33m]\u001b[0m\u001b[1;33m.\u001b[0m\u001b[0mset_title\u001b[0m\u001b[1;33m(\u001b[0m\u001b[0mself\u001b[0m\u001b[1;33m.\u001b[0m\u001b[0mtitle\u001b[0m\u001b[1;33m)\u001b[0m\u001b[1;33m\u001b[0m\u001b[0m\n\u001b[0m\u001b[0;32m   1165\u001b[0m \u001b[1;33m\u001b[0m\u001b[0m\n\u001b[0;32m   1166\u001b[0m     \u001b[1;32mdef\u001b[0m \u001b[0m_apply_axis_properties\u001b[0m\u001b[1;33m(\u001b[0m\u001b[0mself\u001b[0m\u001b[1;33m,\u001b[0m \u001b[0maxis\u001b[0m\u001b[1;33m,\u001b[0m \u001b[0mrot\u001b[0m\u001b[1;33m=\u001b[0m\u001b[0mNone\u001b[0m\u001b[1;33m,\u001b[0m \u001b[0mfontsize\u001b[0m\u001b[1;33m=\u001b[0m\u001b[0mNone\u001b[0m\u001b[1;33m)\u001b[0m\u001b[1;33m:\u001b[0m\u001b[1;33m\u001b[0m\u001b[0m\n",
      "\u001b[1;32mC:\\Users\\barro\\Anaconda2\\lib\\site-packages\\matplotlib\\axes\\_axes.pyc\u001b[0m in \u001b[0;36mset_title\u001b[1;34m(self, label, fontdict, loc, **kwargs)\u001b[0m\n\u001b[0;32m    140\u001b[0m             \u001b[1;34m'verticalalignment'\u001b[0m\u001b[1;33m:\u001b[0m \u001b[1;34m'baseline'\u001b[0m\u001b[1;33m,\u001b[0m\u001b[1;33m\u001b[0m\u001b[0m\n\u001b[0;32m    141\u001b[0m             'horizontalalignment': loc.lower()}\n\u001b[1;32m--> 142\u001b[1;33m         \u001b[0mtitle\u001b[0m\u001b[1;33m.\u001b[0m\u001b[0mset_text\u001b[0m\u001b[1;33m(\u001b[0m\u001b[0mlabel\u001b[0m\u001b[1;33m)\u001b[0m\u001b[1;33m\u001b[0m\u001b[0m\n\u001b[0m\u001b[0;32m    143\u001b[0m         \u001b[0mtitle\u001b[0m\u001b[1;33m.\u001b[0m\u001b[0mupdate\u001b[0m\u001b[1;33m(\u001b[0m\u001b[0mdefault\u001b[0m\u001b[1;33m)\u001b[0m\u001b[1;33m\u001b[0m\u001b[0m\n\u001b[0;32m    144\u001b[0m         \u001b[1;32mif\u001b[0m \u001b[0mfontdict\u001b[0m \u001b[1;32mis\u001b[0m \u001b[1;32mnot\u001b[0m \u001b[0mNone\u001b[0m\u001b[1;33m:\u001b[0m\u001b[1;33m\u001b[0m\u001b[0m\n",
      "\u001b[1;32mC:\\Users\\barro\\Anaconda2\\lib\\site-packages\\matplotlib\\text.pyc\u001b[0m in \u001b[0;36mset_text\u001b[1;34m(self, s)\u001b[0m\n\u001b[0;32m   1026\u001b[0m         \u001b[0mACCEPTS\u001b[0m\u001b[1;33m:\u001b[0m \u001b[0mstring\u001b[0m \u001b[1;32mor\u001b[0m \u001b[0manything\u001b[0m \u001b[0mprintable\u001b[0m \u001b[1;32mwith\u001b[0m \u001b[1;34m'%s'\u001b[0m \u001b[0mconversion\u001b[0m\u001b[1;33m.\u001b[0m\u001b[1;33m\u001b[0m\u001b[0m\n\u001b[0;32m   1027\u001b[0m         \"\"\"\n\u001b[1;32m-> 1028\u001b[1;33m         \u001b[0mself\u001b[0m\u001b[1;33m.\u001b[0m\u001b[0m_text\u001b[0m \u001b[1;33m=\u001b[0m \u001b[1;34m'%s'\u001b[0m \u001b[1;33m%\u001b[0m \u001b[1;33m(\u001b[0m\u001b[0ms\u001b[0m\u001b[1;33m,\u001b[0m\u001b[1;33m)\u001b[0m\u001b[1;33m\u001b[0m\u001b[0m\n\u001b[0m\u001b[0;32m   1029\u001b[0m \u001b[1;33m\u001b[0m\u001b[0m\n\u001b[0;32m   1030\u001b[0m     \u001b[1;33m@\u001b[0m\u001b[0mstaticmethod\u001b[0m\u001b[1;33m\u001b[0m\u001b[0m\n",
      "\u001b[1;31mUnicodeDecodeError\u001b[0m: 'ascii' codec can't decode byte 0xc3 in position 14: ordinal not in range(128)"
     ]
    },
    {
     "data": {
      "image/png": "[encoded data removed]",
      "text/plain": [
       "<matplotlib.figure.Figure at 0x10b64a58>"
      ]
     },
     "metadata": {},
     "output_type": "display_data"
    }
   ],
   "source": [
    "df_total_sales_plot.plot(figsize=(12,6), title = 'Venda Total Diária', x='dt_reference', color = \"red\");\n",
    "#pd.DataFrame({'data': [ts for ts in pd.to_timedelta(range(len(df_total_sales)),unit='d') + pd.to_datetime(t[0])], 'Vendas)':df_total_sales[\"sum\", \"venda_liq\",\"All\"] })"
   ]
  },
  {
   "cell_type": "code",
   "execution_count": null,
   "metadata": {
    "collapsed": true
   },
   "outputs": [],
   "source": [
    "import matplotlib.pyplot as plt\n",
    ">>> plt.style.use('ggplot')\n",
    "To list all available styles, use:\n",
    "\n",
    ">>> print plt.style.available"
   ]
  },
  {
   "cell_type": "code",
   "execution_count": null,
   "metadata": {
    "collapsed": false
   },
   "outputs": [],
   "source": [
    "\n",
    "\n",
    "%%time\n",
    "df_model = get_model(pointids, omp.coef_, df_tags)\n",
    "y = get_production(start, end, first_date, df_pivot)\n",
    "yhat = omp.predict(X)\n",
    "\n",
    "\n",
    "dfmse = pd.DataFrame({'RMSE':mse}, index=[8,16,32,64,128])\n",
    "dfmse.plot(figsize=(12,6), style='+-')\n",
    "\n",
    "dfProduction_t=pd.DataFrame({'dt_reference': dt_reference_t, 'Oil Production (y_t)': y_t})\n",
    "dfProduction_t.plot(figsize=(17,6), title = 'Production at test period', x='dt_reference', color = \"red\");"
   ]
  },
  {
   "cell_type": "code",
   "execution_count": null,
   "metadata": {
    "collapsed": true
   },
   "outputs": [],
   "source": []
  },
  {
   "cell_type": "code",
   "execution_count": null,
   "metadata": {
    "collapsed": true
   },
   "outputs": [],
   "source": []
  },
  {
   "cell_type": "code",
   "execution_count": null,
   "metadata": {
    "collapsed": true
   },
   "outputs": [],
   "source": []
  },
  {
   "cell_type": "code",
   "execution_count": null,
   "metadata": {
    "collapsed": true
   },
   "outputs": [],
   "source": []
  },
  {
   "cell_type": "code",
   "execution_count": null,
   "metadata": {
    "collapsed": true
   },
   "outputs": [],
   "source": []
  },
  {
   "cell_type": "code",
   "execution_count": null,
   "metadata": {
    "collapsed": false
   },
   "outputs": [],
   "source": [
    "conn.close()"
   ]
  }
 ],
 "metadata": {
  "kernelspec": {
   "display_name": "Python 2",
   "language": "python",
   "name": "python2"
  },
  "language_info": {
   "codemirror_mode": {
    "name": "ipython",
    "version": 2
   },
   "file_extension": ".py",
   "mimetype": "text/x-python",
   "name": "python",
   "nbconvert_exporter": "python",
   "pygments_lexer": "ipython2",
   "version": "2.7.11"
  }
 },
 "nbformat": 4,
 "nbformat_minor": 0
}
