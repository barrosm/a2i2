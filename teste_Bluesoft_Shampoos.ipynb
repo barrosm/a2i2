{
 "cells": [
  {
   "cell_type": "markdown",
   "metadata": {
    "collapsed": true
   },
   "source": [
    "## Teste - Bluesoft - Shampoos"
   ]
  },
  {
   "cell_type": "markdown",
   "metadata": {
    "collapsed": true
   },
   "source": [
    "#### Data: 05/07/2016"
   ]
  },
  {
   "cell_type": "code",
   "execution_count": 1,
   "metadata": {
    "collapsed": true
   },
   "outputs": [],
   "source": [
    "import urllib2\n",
    "import pandas as pd\n",
    "import numpy as np\n",
    "import json\n",
    "import codecs \n",
    "from pprint import pprint"
   ]
  },
  {
   "cell_type": "code",
   "execution_count": 2,
   "metadata": {
    "collapsed": true
   },
   "outputs": [],
   "source": [
    "import sys\n",
    "reload(sys)  # Reload does the trick!\n",
    "sys.setdefaultencoding('latin1')  \n",
    "# não funcionou para reconhecer os acentos FORA da dataframe, tentei UTF8 e Latin1 mas parece que não deu certo"
   ]
  },
  {
   "cell_type": "code",
   "execution_count": 3,
   "metadata": {
    "collapsed": false
   },
   "outputs": [
    {
     "data": {
      "text/plain": [
       "'latin1'"
      ]
     },
     "execution_count": 3,
     "metadata": {},
     "output_type": "execute_result"
    }
   ],
   "source": [
    "sys.getdefaultencoding()  # Se os comandos acima funcionaram, deve ser UTF8 (ou latin1)"
   ]
  },
  {
   "cell_type": "code",
   "execution_count": 4,
   "metadata": {
    "collapsed": true
   },
   "outputs": [],
   "source": [
    "headers = {'X-Cosmos-Token': '**** entre com o seu token ****', 'Content-Type': 'application/json'}"
   ]
  },
  {
   "cell_type": "code",
   "execution_count": 5,
   "metadata": {
    "collapsed": false
   },
   "outputs": [],
   "source": [
    "# url = 'https://cosmos.bluesoft.com.br/api/gtins/7891910000197.json'\n",
    "# url = 'https://cosmos.bluesoft.com.br/api/products?query=fralda+huggies'\n",
    "url = 'https://cosmos.bluesoft.com.br/api/ncms/33051000/products' "
   ]
  },
  {
   "cell_type": "code",
   "execution_count": 6,
   "metadata": {
    "collapsed": false
   },
   "outputs": [],
   "source": [
    "req      = urllib2.Request(url, None, headers)"
   ]
  },
  {
   "cell_type": "code",
   "execution_count": 7,
   "metadata": {
    "collapsed": false
   },
   "outputs": [],
   "source": [
    "response = urllib2.urlopen(req)"
   ]
  },
  {
   "cell_type": "code",
   "execution_count": null,
   "metadata": {
    "collapsed": false
   },
   "outputs": [],
   "source": [
    "# Para saber qual o tipo que foi lido - tem que ser string para que json.loadS funcione (note o 'S' de string)\n",
    "type(response.read())\n",
    "# ou então:\n",
    "type(urllib2.urlopen(req).read())\n",
    "# \n",
    "# O resultado obtido (até agora!) foi str"
   ]
  },
  {
   "cell_type": "code",
   "execution_count": 8,
   "metadata": {
    "collapsed": false
   },
   "outputs": [],
   "source": [
    "# json.load() loads JSON from a file or file-like object\n",
    "# json.loads() loads JSON from a given string or unicode object\n",
    "\n",
    "data = json.load(urllib2.urlopen(req))\n",
    "\n",
    "# ou então (também funciona)\n",
    "#data = json.loads(urllib2.urlopen(req).read())"
   ]
  },
  {
   "cell_type": "code",
   "execution_count": 9,
   "metadata": {
    "collapsed": false
   },
   "outputs": [
    {
     "data": {
      "text/plain": [
       "[u'next_page',\n",
       " u'code',\n",
       " u'description',\n",
       " u'total_count',\n",
       " u'current_page',\n",
       " u'total_pages',\n",
       " u'full_description',\n",
       " u'products',\n",
       " u'per_page']"
      ]
     },
     "execution_count": 9,
     "metadata": {},
     "output_type": "execute_result"
    }
   ],
   "source": [
    "# Qual a estrutura do dict? Quem são as keys?\n",
    "data.keys()"
   ]
  },
  {
   "cell_type": "code",
   "execution_count": 10,
   "metadata": {
    "collapsed": false
   },
   "outputs": [
    {
     "data": {
      "text/plain": [
       "9"
      ]
     },
     "execution_count": 10,
     "metadata": {},
     "output_type": "execute_result"
    }
   ],
   "source": [
    "# \"Len\" nos dá, neste caso,  o número de keys\n",
    "len(data)"
   ]
  },
  {
   "cell_type": "code",
   "execution_count": null,
   "metadata": {
    "collapsed": false
   },
   "outputs": [],
   "source": [
    "# Imprimindo os dados com pretty print\n",
    "# pprint(data)"
   ]
  },
  {
   "cell_type": "code",
   "execution_count": 13,
   "metadata": {
    "collapsed": false
   },
   "outputs": [],
   "source": [
    "# Imprimindo com identação\n",
    "print json.dumps(data, indent=4)"
   ]
  },
  {
   "cell_type": "code",
   "execution_count": null,
   "metadata": {
    "collapsed": false
   },
   "outputs": [],
   "source": [
    "# Mostrando a estrutura ( de forma mais ou menos compactada)\n",
    "str(data)"
   ]
  },
  {
   "cell_type": "code",
   "execution_count": 9,
   "metadata": {
    "collapsed": true
   },
   "outputs": [
    {
     "data": {
      "text/plain": [
       "{u'avg_price': None,\n",
       " u'description': u'KIT AGUAS DE PHYTO AGUAS VERDES GTS',\n",
       " u'gross_weight': 60,\n",
       " u'gtin': 7899304807063L,\n",
       " u'gtins': [{u'commercial_unit': {u'ballast': None,\n",
       "    u'layer': None,\n",
       "    u'quantity_packaging': 1,\n",
       "    u'type_packaging': u'Unidade'},\n",
       "   u'gtin': 7899304807063L}],\n",
       " u'height': None,\n",
       " u'length': None,\n",
       " u'max_price': 0.0,\n",
       " u'min_price': 0.0,\n",
       " u'ncm': {u'code': u'33051000',\n",
       "  u'description': u'Xampus',\n",
       "  u'full_description': u'\\xd3leos essenciais e resin\\xf3ides; produtos de perfumaria ou de toucador preparados e prepara\\xe7\\xf5es cosm\\xe9ticas - Prepara\\xe7\\xf5es capilares - Xampus'},\n",
       " u'net_weight': 60,\n",
       " u'price': None,\n",
       " u'thumbnail': u'http://cosmos.bluesoft.com.br/assets/product-placeholder-de7ba85d8253506911d8dd3a24325f32.png',\n",
       " u'width': None}"
      ]
     },
     "execution_count": 9,
     "metadata": {},
     "output_type": "execute_result"
    }
   ],
   "source": [
    "data['products'][0]"
   ]
  },
  {
   "cell_type": "code",
   "execution_count": 9,
   "metadata": {
    "collapsed": true
   },
   "outputs": [],
   "source": [
    "# Numero total de itens \n",
    "n = data['total_count']"
   ]
  },
  {
   "cell_type": "code",
   "execution_count": 10,
   "metadata": {
    "collapsed": false
   },
   "outputs": [
    {
     "data": {
      "text/plain": [
       "5928"
      ]
     },
     "execution_count": 10,
     "metadata": {},
     "output_type": "execute_result"
    }
   ],
   "source": [
    "n"
   ]
  },
  {
   "cell_type": "code",
   "execution_count": 16,
   "metadata": {
    "collapsed": true
   },
   "outputs": [
    {
     "data": {
      "text/plain": [
       "[(u'next_page',\n",
       "  u'http://cosmos.bluesoft.com.br/api/ncms/33051000/products?page=2'),\n",
       " (u'code', u'33051000'),\n",
       " (u'description', u'Xampus'),\n",
       " (u'total_count', 5904),\n",
       " (u'current_page', 1),\n",
       " (u'total_pages', 591),\n",
       " (u'full_description',\n",
       "  u'\\xd3leos essenciais e resin\\xf3ides; produtos de perfumaria ou de toucador preparados e prepara\\xe7\\xf5es cosm\\xe9ticas - Prepara\\xe7\\xf5es capilares - Xampus'),\n",
       " (u'products',\n",
       "  [{u'avg_price': None,\n",
       "    u'description': u'KIT AGUAS DE PHYTO AGUAS VERDES GTS',\n",
       "    u'gross_weight': 60,\n",
       "    u'gtin': 7899304807063L,\n",
       "    u'gtins': [{u'commercial_unit': {u'ballast': None,\n",
       "       u'layer': None,\n",
       "       u'quantity_packaging': 1,\n",
       "       u'type_packaging': u'Unidade'},\n",
       "      u'gtin': 7899304807063L}],\n",
       "    u'height': None,\n",
       "    u'length': None,\n",
       "    u'max_price': 0.0,\n",
       "    u'min_price': 0.0,\n",
       "    u'ncm': {u'code': u'33051000',\n",
       "     u'description': u'Xampus',\n",
       "     u'full_description': u'\\xd3leos essenciais e resin\\xf3ides; produtos de perfumaria ou de toucador preparados e prepara\\xe7\\xf5es cosm\\xe9ticas - Prepara\\xe7\\xf5es capilares - Xampus'},\n",
       "    u'net_weight': 60,\n",
       "    u'price': None,\n",
       "    u'thumbnail': u'http://cosmos.bluesoft.com.br/assets/product-placeholder-de7ba85d8253506911d8dd3a24325f32.png',\n",
       "    u'width': None},\n",
       "   {u'avg_price': None,\n",
       "    u'description': u'SHAMPOO BABY NEOKIDS ALGAS',\n",
       "    u'gpc': {u'code': u'10000368', u'description': u'Cabelo - Xampu'},\n",
       "    u'gross_weight': 170,\n",
       "    u'gtin': 7898302727113L,\n",
       "    u'gtins': [{u'commercial_unit': {u'ballast': None,\n",
       "       u'layer': None,\n",
       "       u'quantity_packaging': 1,\n",
       "       u'type_packaging': u'Unidade'},\n",
       "      u'gtin': 7898302727113L}],\n",
       "    u'height': None,\n",
       "    u'length': None,\n",
       "    u'max_price': 0.0,\n",
       "    u'min_price': 0.0,\n",
       "    u'ncm': {u'code': u'33051000',\n",
       "     u'description': u'Xampus',\n",
       "     u'full_description': u'\\xd3leos essenciais e resin\\xf3ides; produtos de perfumaria ou de toucador preparados e prepara\\xe7\\xf5es cosm\\xe9ticas - Prepara\\xe7\\xf5es capilares - Xampus'},\n",
       "    u'net_weight': 170,\n",
       "    u'price': None,\n",
       "    u'thumbnail': u'http://cosmos.bluesoft.com.br/assets/product-placeholder-de7ba85d8253506911d8dd3a24325f32.png',\n",
       "    u'width': None},\n",
       "   {u'avg_price': None,\n",
       "    u'description': u'SHAMPOO BABY NEOKIDS CAMOMILA',\n",
       "    u'gpc': {u'code': u'10000368', u'description': u'Cabelo - Xampu'},\n",
       "    u'gross_weight': 170,\n",
       "    u'gtin': 7898302727120L,\n",
       "    u'gtins': [{u'commercial_unit': {u'ballast': None,\n",
       "       u'layer': None,\n",
       "       u'quantity_packaging': 1,\n",
       "       u'type_packaging': u'Unidade'},\n",
       "      u'gtin': 7898302727120L}],\n",
       "    u'height': None,\n",
       "    u'length': None,\n",
       "    u'max_price': 0.0,\n",
       "    u'min_price': 0.0,\n",
       "    u'ncm': {u'code': u'33051000',\n",
       "     u'description': u'Xampus',\n",
       "     u'full_description': u'\\xd3leos essenciais e resin\\xf3ides; produtos de perfumaria ou de toucador preparados e prepara\\xe7\\xf5es cosm\\xe9ticas - Prepara\\xe7\\xf5es capilares - Xampus'},\n",
       "    u'net_weight': 170,\n",
       "    u'price': None,\n",
       "    u'thumbnail': u'http://cosmos.bluesoft.com.br/assets/product-placeholder-de7ba85d8253506911d8dd3a24325f32.png',\n",
       "    u'width': None},\n",
       "   {u'avg_price': None,\n",
       "    u'description': u'SHAMPOO BABY NEOKIDS ERVA DOCE',\n",
       "    u'gpc': {u'code': u'10000368', u'description': u'Cabelo - Xampu'},\n",
       "    u'gross_weight': 170,\n",
       "    u'gtin': 7898302727038L,\n",
       "    u'gtins': [{u'commercial_unit': {u'ballast': None,\n",
       "       u'layer': None,\n",
       "       u'quantity_packaging': 1,\n",
       "       u'type_packaging': u'Unidade'},\n",
       "      u'gtin': 7898302727038L}],\n",
       "    u'height': None,\n",
       "    u'length': None,\n",
       "    u'max_price': 0.0,\n",
       "    u'min_price': 0.0,\n",
       "    u'ncm': {u'code': u'33051000',\n",
       "     u'description': u'Xampus',\n",
       "     u'full_description': u'\\xd3leos essenciais e resin\\xf3ides; produtos de perfumaria ou de toucador preparados e prepara\\xe7\\xf5es cosm\\xe9ticas - Prepara\\xe7\\xf5es capilares - Xampus'},\n",
       "    u'net_weight': 170,\n",
       "    u'price': None,\n",
       "    u'thumbnail': u'http://cosmos.bluesoft.com.br/assets/product-placeholder-de7ba85d8253506911d8dd3a24325f32.png',\n",
       "    u'width': None},\n",
       "   {u'avg_price': None,\n",
       "    u'description': u'SHAMPOO BABY NEOKIDS HAMAMELIS',\n",
       "    u'gpc': {u'code': u'10000368', u'description': u'Cabelo - Xampu'},\n",
       "    u'gross_weight': 170,\n",
       "    u'gtin': 7898302727137L,\n",
       "    u'gtins': [{u'commercial_unit': {u'ballast': None,\n",
       "       u'layer': None,\n",
       "       u'quantity_packaging': 1,\n",
       "       u'type_packaging': u'Unidade'},\n",
       "      u'gtin': 7898302727137L}],\n",
       "    u'height': None,\n",
       "    u'length': None,\n",
       "    u'max_price': 0.0,\n",
       "    u'min_price': 0.0,\n",
       "    u'ncm': {u'code': u'33051000',\n",
       "     u'description': u'Xampus',\n",
       "     u'full_description': u'\\xd3leos essenciais e resin\\xf3ides; produtos de perfumaria ou de toucador preparados e prepara\\xe7\\xf5es cosm\\xe9ticas - Prepara\\xe7\\xf5es capilares - Xampus'},\n",
       "    u'net_weight': 170,\n",
       "    u'price': None,\n",
       "    u'thumbnail': u'http://cosmos.bluesoft.com.br/assets/product-placeholder-de7ba85d8253506911d8dd3a24325f32.png',\n",
       "    u'width': None},\n",
       "   {u'avg_price': None,\n",
       "    u'description': u'SHAMPOO NEO KIDS ALOE SOLAR',\n",
       "    u'gpc': {u'code': u'10000368', u'description': u'Cabelo - Xampu'},\n",
       "    u'gross_weight': None,\n",
       "    u'gtin': 7898302727083L,\n",
       "    u'gtins': [{u'commercial_unit': {u'ballast': None,\n",
       "       u'layer': None,\n",
       "       u'quantity_packaging': 1,\n",
       "       u'type_packaging': u'Unidade'},\n",
       "      u'gtin': 7898302727083L}],\n",
       "    u'height': None,\n",
       "    u'length': None,\n",
       "    u'max_price': 0.0,\n",
       "    u'min_price': 0.0,\n",
       "    u'ncm': {u'code': u'33051000',\n",
       "     u'description': u'Xampus',\n",
       "     u'full_description': u'\\xd3leos essenciais e resin\\xf3ides; produtos de perfumaria ou de toucador preparados e prepara\\xe7\\xf5es cosm\\xe9ticas - Prepara\\xe7\\xf5es capilares - Xampus'},\n",
       "    u'net_weight': None,\n",
       "    u'price': None,\n",
       "    u'thumbnail': u'http://cosmos.bluesoft.com.br/assets/product-placeholder-de7ba85d8253506911d8dd3a24325f32.png',\n",
       "    u'width': None},\n",
       "   {u'avg_price': None,\n",
       "    u'description': u'CONDICIONADOR NEO KIDS CRESPOS',\n",
       "    u'gpc': {u'code': u'10000368', u'description': u'Cabelo - Xampu'},\n",
       "    u'gross_weight': None,\n",
       "    u'gtin': 7898302727069L,\n",
       "    u'gtins': [{u'commercial_unit': {u'ballast': None,\n",
       "       u'layer': None,\n",
       "       u'quantity_packaging': 1,\n",
       "       u'type_packaging': u'Unidade'},\n",
       "      u'gtin': 7898302727069L}],\n",
       "    u'height': None,\n",
       "    u'length': None,\n",
       "    u'max_price': 0.0,\n",
       "    u'min_price': 0.0,\n",
       "    u'ncm': {u'code': u'33051000',\n",
       "     u'description': u'Xampus',\n",
       "     u'full_description': u'\\xd3leos essenciais e resin\\xf3ides; produtos de perfumaria ou de toucador preparados e prepara\\xe7\\xf5es cosm\\xe9ticas - Prepara\\xe7\\xf5es capilares - Xampus'},\n",
       "    u'net_weight': None,\n",
       "    u'price': None,\n",
       "    u'thumbnail': u'http://cosmos.bluesoft.com.br/assets/product-placeholder-de7ba85d8253506911d8dd3a24325f32.png',\n",
       "    u'width': None},\n",
       "   {u'avg_price': None,\n",
       "    u'description': u'SHAMPOO NEOKIDS MELANCIA',\n",
       "    u'gpc': {u'code': u'10000368', u'description': u'Cabelo - Xampu'},\n",
       "    u'gross_weight': None,\n",
       "    u'gtin': 7898302727076L,\n",
       "    u'gtins': [{u'commercial_unit': {u'ballast': None,\n",
       "       u'layer': None,\n",
       "       u'quantity_packaging': 1,\n",
       "       u'type_packaging': u'Unidade'},\n",
       "      u'gtin': 7898302727076L}],\n",
       "    u'height': None,\n",
       "    u'length': None,\n",
       "    u'max_price': 0.0,\n",
       "    u'min_price': 0.0,\n",
       "    u'ncm': {u'code': u'33051000',\n",
       "     u'description': u'Xampus',\n",
       "     u'full_description': u'\\xd3leos essenciais e resin\\xf3ides; produtos de perfumaria ou de toucador preparados e prepara\\xe7\\xf5es cosm\\xe9ticas - Prepara\\xe7\\xf5es capilares - Xampus'},\n",
       "    u'net_weight': None,\n",
       "    u'price': None,\n",
       "    u'thumbnail': u'http://cosmos.bluesoft.com.br/assets/product-placeholder-de7ba85d8253506911d8dd3a24325f32.png',\n",
       "    u'width': None},\n",
       "   {u'avg_price': None,\n",
       "    u'description': u'SHAMPOO BABY POPPY ELEFANTE',\n",
       "    u'gpc': {u'code': u'10000368', u'description': u'Cabelo - Xampu'},\n",
       "    u'gross_weight': 250,\n",
       "    u'gtin': 7896010172287L,\n",
       "    u'gtins': [{u'commercial_unit': {u'ballast': None,\n",
       "       u'layer': None,\n",
       "       u'quantity_packaging': 1,\n",
       "       u'type_packaging': u'Unidade'},\n",
       "      u'gtin': 7896010172287L}],\n",
       "    u'height': None,\n",
       "    u'length': None,\n",
       "    u'max_price': 0.0,\n",
       "    u'min_price': 0.0,\n",
       "    u'ncm': {u'code': u'33051000',\n",
       "     u'description': u'Xampus',\n",
       "     u'full_description': u'\\xd3leos essenciais e resin\\xf3ides; produtos de perfumaria ou de toucador preparados e prepara\\xe7\\xf5es cosm\\xe9ticas - Prepara\\xe7\\xf5es capilares - Xampus'},\n",
       "    u'net_weight': 250,\n",
       "    u'price': None,\n",
       "    u'thumbnail': u'http://cosmos.bluesoft.com.br/assets/product-placeholder-de7ba85d8253506911d8dd3a24325f32.png',\n",
       "    u'width': None},\n",
       "   {u'avg_price': None,\n",
       "    u'description': u'SHAMPOO BABY POPPY INF',\n",
       "    u'gpc': {u'code': u'10000368', u'description': u'Cabelo - Xampu'},\n",
       "    u'gross_weight': None,\n",
       "    u'gtin': 7896010172270L,\n",
       "    u'gtins': [{u'commercial_unit': {u'ballast': None,\n",
       "       u'layer': None,\n",
       "       u'quantity_packaging': 1,\n",
       "       u'type_packaging': u'Unidade'},\n",
       "      u'gtin': 7896010172270L}],\n",
       "    u'height': None,\n",
       "    u'length': None,\n",
       "    u'max_price': 0.0,\n",
       "    u'min_price': 0.0,\n",
       "    u'ncm': {u'code': u'33051000',\n",
       "     u'description': u'Xampus',\n",
       "     u'full_description': u'\\xd3leos essenciais e resin\\xf3ides; produtos de perfumaria ou de toucador preparados e prepara\\xe7\\xf5es cosm\\xe9ticas - Prepara\\xe7\\xf5es capilares - Xampus'},\n",
       "    u'net_weight': None,\n",
       "    u'price': None,\n",
       "    u'thumbnail': u'http://cosmos.bluesoft.com.br/assets/product-placeholder-de7ba85d8253506911d8dd3a24325f32.png',\n",
       "    u'width': None}]),\n",
       " (u'per_page', 10)]"
      ]
     },
     "execution_count": 16,
     "metadata": {},
     "output_type": "execute_result"
    }
   ],
   "source": [
    "data.items()   # Mostra os key-value pairs"
   ]
  },
  {
   "cell_type": "code",
   "execution_count": 17,
   "metadata": {
    "collapsed": true
   },
   "outputs": [
    {
     "data": {
      "text/plain": [
       "[u'http://cosmos.bluesoft.com.br/api/ncms/33051000/products?page=2',\n",
       " u'33051000',\n",
       " u'Xampus',\n",
       " 5904,\n",
       " 1,\n",
       " 591,\n",
       " u'\\xd3leos essenciais e resin\\xf3ides; produtos de perfumaria ou de toucador preparados e prepara\\xe7\\xf5es cosm\\xe9ticas - Prepara\\xe7\\xf5es capilares - Xampus',\n",
       " [{u'avg_price': None,\n",
       "   u'description': u'KIT AGUAS DE PHYTO AGUAS VERDES GTS',\n",
       "   u'gross_weight': 60,\n",
       "   u'gtin': 7899304807063L,\n",
       "   u'gtins': [{u'commercial_unit': {u'ballast': None,\n",
       "      u'layer': None,\n",
       "      u'quantity_packaging': 1,\n",
       "      u'type_packaging': u'Unidade'},\n",
       "     u'gtin': 7899304807063L}],\n",
       "   u'height': None,\n",
       "   u'length': None,\n",
       "   u'max_price': 0.0,\n",
       "   u'min_price': 0.0,\n",
       "   u'ncm': {u'code': u'33051000',\n",
       "    u'description': u'Xampus',\n",
       "    u'full_description': u'\\xd3leos essenciais e resin\\xf3ides; produtos de perfumaria ou de toucador preparados e prepara\\xe7\\xf5es cosm\\xe9ticas - Prepara\\xe7\\xf5es capilares - Xampus'},\n",
       "   u'net_weight': 60,\n",
       "   u'price': None,\n",
       "   u'thumbnail': u'http://cosmos.bluesoft.com.br/assets/product-placeholder-de7ba85d8253506911d8dd3a24325f32.png',\n",
       "   u'width': None},\n",
       "  {u'avg_price': None,\n",
       "   u'description': u'SHAMPOO BABY NEOKIDS ALGAS',\n",
       "   u'gpc': {u'code': u'10000368', u'description': u'Cabelo - Xampu'},\n",
       "   u'gross_weight': 170,\n",
       "   u'gtin': 7898302727113L,\n",
       "   u'gtins': [{u'commercial_unit': {u'ballast': None,\n",
       "      u'layer': None,\n",
       "      u'quantity_packaging': 1,\n",
       "      u'type_packaging': u'Unidade'},\n",
       "     u'gtin': 7898302727113L}],\n",
       "   u'height': None,\n",
       "   u'length': None,\n",
       "   u'max_price': 0.0,\n",
       "   u'min_price': 0.0,\n",
       "   u'ncm': {u'code': u'33051000',\n",
       "    u'description': u'Xampus',\n",
       "    u'full_description': u'\\xd3leos essenciais e resin\\xf3ides; produtos de perfumaria ou de toucador preparados e prepara\\xe7\\xf5es cosm\\xe9ticas - Prepara\\xe7\\xf5es capilares - Xampus'},\n",
       "   u'net_weight': 170,\n",
       "   u'price': None,\n",
       "   u'thumbnail': u'http://cosmos.bluesoft.com.br/assets/product-placeholder-de7ba85d8253506911d8dd3a24325f32.png',\n",
       "   u'width': None},\n",
       "  {u'avg_price': None,\n",
       "   u'description': u'SHAMPOO BABY NEOKIDS CAMOMILA',\n",
       "   u'gpc': {u'code': u'10000368', u'description': u'Cabelo - Xampu'},\n",
       "   u'gross_weight': 170,\n",
       "   u'gtin': 7898302727120L,\n",
       "   u'gtins': [{u'commercial_unit': {u'ballast': None,\n",
       "      u'layer': None,\n",
       "      u'quantity_packaging': 1,\n",
       "      u'type_packaging': u'Unidade'},\n",
       "     u'gtin': 7898302727120L}],\n",
       "   u'height': None,\n",
       "   u'length': None,\n",
       "   u'max_price': 0.0,\n",
       "   u'min_price': 0.0,\n",
       "   u'ncm': {u'code': u'33051000',\n",
       "    u'description': u'Xampus',\n",
       "    u'full_description': u'\\xd3leos essenciais e resin\\xf3ides; produtos de perfumaria ou de toucador preparados e prepara\\xe7\\xf5es cosm\\xe9ticas - Prepara\\xe7\\xf5es capilares - Xampus'},\n",
       "   u'net_weight': 170,\n",
       "   u'price': None,\n",
       "   u'thumbnail': u'http://cosmos.bluesoft.com.br/assets/product-placeholder-de7ba85d8253506911d8dd3a24325f32.png',\n",
       "   u'width': None},\n",
       "  {u'avg_price': None,\n",
       "   u'description': u'SHAMPOO BABY NEOKIDS ERVA DOCE',\n",
       "   u'gpc': {u'code': u'10000368', u'description': u'Cabelo - Xampu'},\n",
       "   u'gross_weight': 170,\n",
       "   u'gtin': 7898302727038L,\n",
       "   u'gtins': [{u'commercial_unit': {u'ballast': None,\n",
       "      u'layer': None,\n",
       "      u'quantity_packaging': 1,\n",
       "      u'type_packaging': u'Unidade'},\n",
       "     u'gtin': 7898302727038L}],\n",
       "   u'height': None,\n",
       "   u'length': None,\n",
       "   u'max_price': 0.0,\n",
       "   u'min_price': 0.0,\n",
       "   u'ncm': {u'code': u'33051000',\n",
       "    u'description': u'Xampus',\n",
       "    u'full_description': u'\\xd3leos essenciais e resin\\xf3ides; produtos de perfumaria ou de toucador preparados e prepara\\xe7\\xf5es cosm\\xe9ticas - Prepara\\xe7\\xf5es capilares - Xampus'},\n",
       "   u'net_weight': 170,\n",
       "   u'price': None,\n",
       "   u'thumbnail': u'http://cosmos.bluesoft.com.br/assets/product-placeholder-de7ba85d8253506911d8dd3a24325f32.png',\n",
       "   u'width': None},\n",
       "  {u'avg_price': None,\n",
       "   u'description': u'SHAMPOO BABY NEOKIDS HAMAMELIS',\n",
       "   u'gpc': {u'code': u'10000368', u'description': u'Cabelo - Xampu'},\n",
       "   u'gross_weight': 170,\n",
       "   u'gtin': 7898302727137L,\n",
       "   u'gtins': [{u'commercial_unit': {u'ballast': None,\n",
       "      u'layer': None,\n",
       "      u'quantity_packaging': 1,\n",
       "      u'type_packaging': u'Unidade'},\n",
       "     u'gtin': 7898302727137L}],\n",
       "   u'height': None,\n",
       "   u'length': None,\n",
       "   u'max_price': 0.0,\n",
       "   u'min_price': 0.0,\n",
       "   u'ncm': {u'code': u'33051000',\n",
       "    u'description': u'Xampus',\n",
       "    u'full_description': u'\\xd3leos essenciais e resin\\xf3ides; produtos de perfumaria ou de toucador preparados e prepara\\xe7\\xf5es cosm\\xe9ticas - Prepara\\xe7\\xf5es capilares - Xampus'},\n",
       "   u'net_weight': 170,\n",
       "   u'price': None,\n",
       "   u'thumbnail': u'http://cosmos.bluesoft.com.br/assets/product-placeholder-de7ba85d8253506911d8dd3a24325f32.png',\n",
       "   u'width': None},\n",
       "  {u'avg_price': None,\n",
       "   u'description': u'SHAMPOO NEO KIDS ALOE SOLAR',\n",
       "   u'gpc': {u'code': u'10000368', u'description': u'Cabelo - Xampu'},\n",
       "   u'gross_weight': None,\n",
       "   u'gtin': 7898302727083L,\n",
       "   u'gtins': [{u'commercial_unit': {u'ballast': None,\n",
       "      u'layer': None,\n",
       "      u'quantity_packaging': 1,\n",
       "      u'type_packaging': u'Unidade'},\n",
       "     u'gtin': 7898302727083L}],\n",
       "   u'height': None,\n",
       "   u'length': None,\n",
       "   u'max_price': 0.0,\n",
       "   u'min_price': 0.0,\n",
       "   u'ncm': {u'code': u'33051000',\n",
       "    u'description': u'Xampus',\n",
       "    u'full_description': u'\\xd3leos essenciais e resin\\xf3ides; produtos de perfumaria ou de toucador preparados e prepara\\xe7\\xf5es cosm\\xe9ticas - Prepara\\xe7\\xf5es capilares - Xampus'},\n",
       "   u'net_weight': None,\n",
       "   u'price': None,\n",
       "   u'thumbnail': u'http://cosmos.bluesoft.com.br/assets/product-placeholder-de7ba85d8253506911d8dd3a24325f32.png',\n",
       "   u'width': None},\n",
       "  {u'avg_price': None,\n",
       "   u'description': u'CONDICIONADOR NEO KIDS CRESPOS',\n",
       "   u'gpc': {u'code': u'10000368', u'description': u'Cabelo - Xampu'},\n",
       "   u'gross_weight': None,\n",
       "   u'gtin': 7898302727069L,\n",
       "   u'gtins': [{u'commercial_unit': {u'ballast': None,\n",
       "      u'layer': None,\n",
       "      u'quantity_packaging': 1,\n",
       "      u'type_packaging': u'Unidade'},\n",
       "     u'gtin': 7898302727069L}],\n",
       "   u'height': None,\n",
       "   u'length': None,\n",
       "   u'max_price': 0.0,\n",
       "   u'min_price': 0.0,\n",
       "   u'ncm': {u'code': u'33051000',\n",
       "    u'description': u'Xampus',\n",
       "    u'full_description': u'\\xd3leos essenciais e resin\\xf3ides; produtos de perfumaria ou de toucador preparados e prepara\\xe7\\xf5es cosm\\xe9ticas - Prepara\\xe7\\xf5es capilares - Xampus'},\n",
       "   u'net_weight': None,\n",
       "   u'price': None,\n",
       "   u'thumbnail': u'http://cosmos.bluesoft.com.br/assets/product-placeholder-de7ba85d8253506911d8dd3a24325f32.png',\n",
       "   u'width': None},\n",
       "  {u'avg_price': None,\n",
       "   u'description': u'SHAMPOO NEOKIDS MELANCIA',\n",
       "   u'gpc': {u'code': u'10000368', u'description': u'Cabelo - Xampu'},\n",
       "   u'gross_weight': None,\n",
       "   u'gtin': 7898302727076L,\n",
       "   u'gtins': [{u'commercial_unit': {u'ballast': None,\n",
       "      u'layer': None,\n",
       "      u'quantity_packaging': 1,\n",
       "      u'type_packaging': u'Unidade'},\n",
       "     u'gtin': 7898302727076L}],\n",
       "   u'height': None,\n",
       "   u'length': None,\n",
       "   u'max_price': 0.0,\n",
       "   u'min_price': 0.0,\n",
       "   u'ncm': {u'code': u'33051000',\n",
       "    u'description': u'Xampus',\n",
       "    u'full_description': u'\\xd3leos essenciais e resin\\xf3ides; produtos de perfumaria ou de toucador preparados e prepara\\xe7\\xf5es cosm\\xe9ticas - Prepara\\xe7\\xf5es capilares - Xampus'},\n",
       "   u'net_weight': None,\n",
       "   u'price': None,\n",
       "   u'thumbnail': u'http://cosmos.bluesoft.com.br/assets/product-placeholder-de7ba85d8253506911d8dd3a24325f32.png',\n",
       "   u'width': None},\n",
       "  {u'avg_price': None,\n",
       "   u'description': u'SHAMPOO BABY POPPY ELEFANTE',\n",
       "   u'gpc': {u'code': u'10000368', u'description': u'Cabelo - Xampu'},\n",
       "   u'gross_weight': 250,\n",
       "   u'gtin': 7896010172287L,\n",
       "   u'gtins': [{u'commercial_unit': {u'ballast': None,\n",
       "      u'layer': None,\n",
       "      u'quantity_packaging': 1,\n",
       "      u'type_packaging': u'Unidade'},\n",
       "     u'gtin': 7896010172287L}],\n",
       "   u'height': None,\n",
       "   u'length': None,\n",
       "   u'max_price': 0.0,\n",
       "   u'min_price': 0.0,\n",
       "   u'ncm': {u'code': u'33051000',\n",
       "    u'description': u'Xampus',\n",
       "    u'full_description': u'\\xd3leos essenciais e resin\\xf3ides; produtos de perfumaria ou de toucador preparados e prepara\\xe7\\xf5es cosm\\xe9ticas - Prepara\\xe7\\xf5es capilares - Xampus'},\n",
       "   u'net_weight': 250,\n",
       "   u'price': None,\n",
       "   u'thumbnail': u'http://cosmos.bluesoft.com.br/assets/product-placeholder-de7ba85d8253506911d8dd3a24325f32.png',\n",
       "   u'width': None},\n",
       "  {u'avg_price': None,\n",
       "   u'description': u'SHAMPOO BABY POPPY INF',\n",
       "   u'gpc': {u'code': u'10000368', u'description': u'Cabelo - Xampu'},\n",
       "   u'gross_weight': None,\n",
       "   u'gtin': 7896010172270L,\n",
       "   u'gtins': [{u'commercial_unit': {u'ballast': None,\n",
       "      u'layer': None,\n",
       "      u'quantity_packaging': 1,\n",
       "      u'type_packaging': u'Unidade'},\n",
       "     u'gtin': 7896010172270L}],\n",
       "   u'height': None,\n",
       "   u'length': None,\n",
       "   u'max_price': 0.0,\n",
       "   u'min_price': 0.0,\n",
       "   u'ncm': {u'code': u'33051000',\n",
       "    u'description': u'Xampus',\n",
       "    u'full_description': u'\\xd3leos essenciais e resin\\xf3ides; produtos de perfumaria ou de toucador preparados e prepara\\xe7\\xf5es cosm\\xe9ticas - Prepara\\xe7\\xf5es capilares - Xampus'},\n",
       "   u'net_weight': None,\n",
       "   u'price': None,\n",
       "   u'thumbnail': u'http://cosmos.bluesoft.com.br/assets/product-placeholder-de7ba85d8253506911d8dd3a24325f32.png',\n",
       "   u'width': None}],\n",
       " 10]"
      ]
     },
     "execution_count": 17,
     "metadata": {},
     "output_type": "execute_result"
    }
   ],
   "source": [
    "data.values()"
   ]
  },
  {
   "cell_type": "code",
   "execution_count": 10,
   "metadata": {
    "collapsed": true
   },
   "outputs": [
    {
     "data": {
      "text/plain": [
       "[u'KIT AGUAS DE PHYTO AGUAS VERDES GTS',\n",
       " u'SHAMPOO BABY NEOKIDS ALGAS',\n",
       " u'SHAMPOO BABY NEOKIDS CAMOMILA',\n",
       " u'SHAMPOO BABY NEOKIDS ERVA DOCE',\n",
       " u'SHAMPOO BABY NEOKIDS HAMAMELIS',\n",
       " u'SHAMPOO NEO KIDS ALOE SOLAR',\n",
       " u'CONDICIONADOR NEO KIDS CRESPOS',\n",
       " u'SHAMPOO NEOKIDS MELANCIA',\n",
       " u'SHAMPOO BABY POPPY ELEFANTE',\n",
       " u'SHAMPOO BABY POPPY INF']"
      ]
     },
     "execution_count": 10,
     "metadata": {},
     "output_type": "execute_result"
    }
   ],
   "source": [
    "[data['products'][i]['description'] for i in range(0,10)] # nao vai até o numero total de itens - so vai até a 1a pagina"
   ]
  },
  {
   "cell_type": "code",
   "execution_count": 11,
   "metadata": {
    "collapsed": false
   },
   "outputs": [],
   "source": [
    "df1=pd.DataFrame(data['products'][i]['gtin'] for i in range(0,10))\n",
    "df2=pd.DataFrame(data['products'][i]['description'] for i in range(0,10))"
   ]
  },
  {
   "cell_type": "markdown",
   "metadata": {},
   "source": [
    "### Colocando os dados (10 primeiros códigos de barras) numa dataframe"
   ]
  },
  {
   "cell_type": "code",
   "execution_count": 12,
   "metadata": {
    "collapsed": false
   },
   "outputs": [],
   "source": [
    "df=pd.concat([df1,df2],axis=1)"
   ]
  },
  {
   "cell_type": "code",
   "execution_count": 13,
   "metadata": {
    "collapsed": false
   },
   "outputs": [],
   "source": [
    "df.columns = ['cod_barras', 'descricao']"
   ]
  },
  {
   "cell_type": "code",
   "execution_count": 14,
   "metadata": {
    "collapsed": false
   },
   "outputs": [
    {
     "data": {
      "text/html": [
       "<div>\n",
       "<table border=\"1\" class=\"dataframe\">\n",
       "  <thead>\n",
       "    <tr style=\"text-align: right;\">\n",
       "      <th></th>\n",
       "      <th>cod_barras</th>\n",
       "      <th>descricao</th>\n",
       "    </tr>\n",
       "  </thead>\n",
       "  <tbody>\n",
       "    <tr>\n",
       "      <th>0</th>\n",
       "      <td>7899304807063</td>\n",
       "      <td>KIT AGUAS DE PHYTO AGUAS VERDES GTS</td>\n",
       "    </tr>\n",
       "    <tr>\n",
       "      <th>1</th>\n",
       "      <td>7898302727113</td>\n",
       "      <td>SHAMPOO BABY NEOKIDS ALGAS</td>\n",
       "    </tr>\n",
       "    <tr>\n",
       "      <th>2</th>\n",
       "      <td>7898302727120</td>\n",
       "      <td>SHAMPOO BABY NEOKIDS CAMOMILA</td>\n",
       "    </tr>\n",
       "    <tr>\n",
       "      <th>3</th>\n",
       "      <td>7898302727038</td>\n",
       "      <td>SHAMPOO BABY NEOKIDS ERVA DOCE</td>\n",
       "    </tr>\n",
       "    <tr>\n",
       "      <th>4</th>\n",
       "      <td>7898302727137</td>\n",
       "      <td>SHAMPOO BABY NEOKIDS HAMAMELIS</td>\n",
       "    </tr>\n",
       "  </tbody>\n",
       "</table>\n",
       "</div>"
      ],
      "text/plain": [
       "      cod_barras                            descricao\n",
       "0  7899304807063  KIT AGUAS DE PHYTO AGUAS VERDES GTS\n",
       "1  7898302727113           SHAMPOO BABY NEOKIDS ALGAS\n",
       "2  7898302727120        SHAMPOO BABY NEOKIDS CAMOMILA\n",
       "3  7898302727038       SHAMPOO BABY NEOKIDS ERVA DOCE\n",
       "4  7898302727137       SHAMPOO BABY NEOKIDS HAMAMELIS"
      ]
     },
     "execution_count": 14,
     "metadata": {},
     "output_type": "execute_result"
    }
   ],
   "source": [
    "df.head()"
   ]
  },
  {
   "cell_type": "code",
   "execution_count": 15,
   "metadata": {
    "collapsed": false
   },
   "outputs": [
    {
     "data": {
      "text/html": [
       "<div>\n",
       "<table border=\"1\" class=\"dataframe\">\n",
       "  <thead>\n",
       "    <tr style=\"text-align: right;\">\n",
       "      <th></th>\n",
       "      <th>cod_barras</th>\n",
       "      <th>descricao</th>\n",
       "    </tr>\n",
       "  </thead>\n",
       "  <tbody>\n",
       "    <tr>\n",
       "      <th>5</th>\n",
       "      <td>7898302727083</td>\n",
       "      <td>SHAMPOO NEO KIDS ALOE SOLAR</td>\n",
       "    </tr>\n",
       "    <tr>\n",
       "      <th>6</th>\n",
       "      <td>7898302727069</td>\n",
       "      <td>CONDICIONADOR NEO KIDS CRESPOS</td>\n",
       "    </tr>\n",
       "    <tr>\n",
       "      <th>7</th>\n",
       "      <td>7898302727076</td>\n",
       "      <td>SHAMPOO NEOKIDS MELANCIA</td>\n",
       "    </tr>\n",
       "    <tr>\n",
       "      <th>8</th>\n",
       "      <td>7896010172287</td>\n",
       "      <td>SHAMPOO BABY POPPY ELEFANTE</td>\n",
       "    </tr>\n",
       "    <tr>\n",
       "      <th>9</th>\n",
       "      <td>7896010172270</td>\n",
       "      <td>SHAMPOO BABY POPPY INF</td>\n",
       "    </tr>\n",
       "  </tbody>\n",
       "</table>\n",
       "</div>"
      ],
      "text/plain": [
       "      cod_barras                       descricao\n",
       "5  7898302727083     SHAMPOO NEO KIDS ALOE SOLAR\n",
       "6  7898302727069  CONDICIONADOR NEO KIDS CRESPOS\n",
       "7  7898302727076        SHAMPOO NEOKIDS MELANCIA\n",
       "8  7896010172287     SHAMPOO BABY POPPY ELEFANTE\n",
       "9  7896010172270          SHAMPOO BABY POPPY INF"
      ]
     },
     "execution_count": 15,
     "metadata": {},
     "output_type": "execute_result"
    }
   ],
   "source": [
    "df.tail()"
   ]
  },
  {
   "cell_type": "code",
   "execution_count": 16,
   "metadata": {
    "collapsed": false
   },
   "outputs": [
    {
     "data": {
      "text/plain": [
       "(10, 2)"
      ]
     },
     "execution_count": 16,
     "metadata": {},
     "output_type": "execute_result"
    }
   ],
   "source": [
    "# Dimensão da Dataframe recém-criada\n",
    "df.shape"
   ]
  },
  {
   "cell_type": "markdown",
   "metadata": {},
   "source": [
    "### Buscando os itens a partir de uma página especificada"
   ]
  },
  {
   "cell_type": "code",
   "execution_count": 16,
   "metadata": {
    "collapsed": true
   },
   "outputs": [],
   "source": [
    "pag_init = 92"
   ]
  },
  {
   "cell_type": "code",
   "execution_count": 17,
   "metadata": {
    "collapsed": false
   },
   "outputs": [],
   "source": [
    "for k in range(pag_init,pag_init+11):\n",
    "    url      = 'http://cosmos.bluesoft.com.br/api/ncms/33051000/products?page='+str(k)  \n",
    "    req      = urllib2.Request(url, None, headers)\n",
    "    response = urllib2.urlopen(req)\n",
    "    data = json.load(urllib2.urlopen(req))\n",
    "    df3=pd.DataFrame(data['products'][i]['gtin'] for i in range(0,10))\n",
    "    df4=pd.DataFrame(data['products'][i]['description'] for i in range(0,10))\n",
    "    df5=pd.concat([df3,df4],axis=1)\n",
    "    df5.columns = ['cod_barras', 'descricao']\n",
    "    df=pd.concat([df,df5],axis=0)  # Concatenando horizontalmente\n",
    "    df.index = range(len(df))  # Acerta os índices"
   ]
  },
  {
   "cell_type": "code",
   "execution_count": 18,
   "metadata": {
    "collapsed": false
   },
   "outputs": [
    {
     "data": {
      "text/plain": [
       "'http://cosmos.bluesoft.com.br/api/ncms/33051000/products?page=102'"
      ]
     },
     "execution_count": 18,
     "metadata": {},
     "output_type": "execute_result"
    }
   ],
   "source": [
    "# Exibe endereço da última página \"scrapeada\"\n",
    "url"
   ]
  },
  {
   "cell_type": "markdown",
   "metadata": {},
   "source": [
    "### Exibe o data frame construído"
   ]
  },
  {
   "cell_type": "code",
   "execution_count": 19,
   "metadata": {
    "collapsed": false
   },
   "outputs": [
    {
     "data": {
      "text/html": [
       "<div>\n",
       "<table border=\"1\" class=\"dataframe\">\n",
       "  <thead>\n",
       "    <tr style=\"text-align: right;\">\n",
       "      <th></th>\n",
       "      <th>cod_barras</th>\n",
       "      <th>descricao</th>\n",
       "    </tr>\n",
       "  </thead>\n",
       "  <tbody>\n",
       "    <tr>\n",
       "      <th>0</th>\n",
       "      <td>7899304807063</td>\n",
       "      <td>KIT AGUAS DE PHYTO AGUAS VERDES GTS</td>\n",
       "    </tr>\n",
       "    <tr>\n",
       "      <th>1</th>\n",
       "      <td>7898302727113</td>\n",
       "      <td>SHAMPOO BABY NEOKIDS ALGAS</td>\n",
       "    </tr>\n",
       "    <tr>\n",
       "      <th>2</th>\n",
       "      <td>7898302727120</td>\n",
       "      <td>SHAMPOO BABY NEOKIDS CAMOMILA</td>\n",
       "    </tr>\n",
       "    <tr>\n",
       "      <th>3</th>\n",
       "      <td>7898302727038</td>\n",
       "      <td>SHAMPOO BABY NEOKIDS ERVA DOCE</td>\n",
       "    </tr>\n",
       "    <tr>\n",
       "      <th>4</th>\n",
       "      <td>7898302727137</td>\n",
       "      <td>SHAMPOO BABY NEOKIDS HAMAMELIS</td>\n",
       "    </tr>\n",
       "  </tbody>\n",
       "</table>\n",
       "</div>"
      ],
      "text/plain": [
       "      cod_barras                            descricao\n",
       "0  7899304807063  KIT AGUAS DE PHYTO AGUAS VERDES GTS\n",
       "1  7898302727113           SHAMPOO BABY NEOKIDS ALGAS\n",
       "2  7898302727120        SHAMPOO BABY NEOKIDS CAMOMILA\n",
       "3  7898302727038       SHAMPOO BABY NEOKIDS ERVA DOCE\n",
       "4  7898302727137       SHAMPOO BABY NEOKIDS HAMAMELIS"
      ]
     },
     "execution_count": 19,
     "metadata": {},
     "output_type": "execute_result"
    }
   ],
   "source": [
    "df.head()"
   ]
  },
  {
   "cell_type": "code",
   "execution_count": 20,
   "metadata": {
    "collapsed": false
   },
   "outputs": [
    {
     "data": {
      "text/html": [
       "<div>\n",
       "<table border=\"1\" class=\"dataframe\">\n",
       "  <thead>\n",
       "    <tr style=\"text-align: right;\">\n",
       "      <th></th>\n",
       "      <th>cod_barras</th>\n",
       "      <th>descricao</th>\n",
       "    </tr>\n",
       "  </thead>\n",
       "  <tbody>\n",
       "    <tr>\n",
       "      <th>115</th>\n",
       "      <td>7896626301408</td>\n",
       "      <td>SHAMPOO SUELYM KARITE</td>\n",
       "    </tr>\n",
       "    <tr>\n",
       "      <th>116</th>\n",
       "      <td>7896279110068</td>\n",
       "      <td>SHAMPOO VITA CAPILLI HENNA</td>\n",
       "    </tr>\n",
       "    <tr>\n",
       "      <th>117</th>\n",
       "      <td>7506295365648</td>\n",
       "      <td>SHAMPOO WELLA PROSERIES LUMINOSITY</td>\n",
       "    </tr>\n",
       "    <tr>\n",
       "      <th>118</th>\n",
       "      <td>7891088022540</td>\n",
       "      <td>SHAMPOO INF YORK BABY 6X</td>\n",
       "    </tr>\n",
       "    <tr>\n",
       "      <th>119</th>\n",
       "      <td>5006195194444</td>\n",
       "      <td>KIT PANTENE UNIDADE SHAMPOO+CREME NOT CONTR QU...</td>\n",
       "    </tr>\n",
       "  </tbody>\n",
       "</table>\n",
       "</div>"
      ],
      "text/plain": [
       "        cod_barras                                          descricao\n",
       "115  7896626301408                              SHAMPOO SUELYM KARITE\n",
       "116  7896279110068                         SHAMPOO VITA CAPILLI HENNA\n",
       "117  7506295365648                 SHAMPOO WELLA PROSERIES LUMINOSITY\n",
       "118  7891088022540                           SHAMPOO INF YORK BABY 6X\n",
       "119  5006195194444  KIT PANTENE UNIDADE SHAMPOO+CREME NOT CONTR QU..."
      ]
     },
     "execution_count": 20,
     "metadata": {},
     "output_type": "execute_result"
    }
   ],
   "source": [
    "df.tail()"
   ]
  },
  {
   "cell_type": "code",
   "execution_count": 21,
   "metadata": {
    "collapsed": false
   },
   "outputs": [
    {
     "data": {
      "text/plain": [
       "(120, 2)"
      ]
     },
     "execution_count": 21,
     "metadata": {},
     "output_type": "execute_result"
    }
   ],
   "source": [
    "df.shape"
   ]
  },
  {
   "cell_type": "markdown",
   "metadata": {},
   "source": [
    "### Exporta dataframe para arquivo csv"
   ]
  },
  {
   "cell_type": "code",
   "execution_count": 21,
   "metadata": {
    "collapsed": false
   },
   "outputs": [],
   "source": [
    "df.to_csv('cod_barras_shampoos_20160713.csv', sep=';', index=False, header = False, encoding='latin1')"
   ]
  },
  {
   "cell_type": "code",
   "execution_count": null,
   "metadata": {
    "collapsed": false
   },
   "outputs": [],
   "source": []
  },
  {
   "cell_type": "code",
   "execution_count": null,
   "metadata": {
    "collapsed": true
   },
   "outputs": [],
   "source": []
  }
 ],
 "metadata": {
  "kernelspec": {
   "display_name": "Python 2",
   "language": "python",
   "name": "python2"
  },
  "language_info": {
   "codemirror_mode": {
    "name": "ipython",
    "version": 2
   },
   "file_extension": ".py",
   "mimetype": "text/x-python",
   "name": "python",
   "nbconvert_exporter": "python",
   "pygments_lexer": "ipython2",
   "version": "2.7.11"
  }
 },
 "nbformat": 4,
 "nbformat_minor": 0
}
